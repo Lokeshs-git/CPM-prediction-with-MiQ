{
 "cells": [
  {
   "cell_type": "markdown",
   "metadata": {
    "deletable": false,
    "editable": false
   },
   "source": [
    "# Base Model"
   ]
  },
  {
   "cell_type": "code",
   "execution_count": 1,
   "metadata": {
    "ExecuteTime": {
     "end_time": "2020-09-25T10:28:16.362031Z",
     "start_time": "2020-09-25T10:28:15.576199Z"
    },
    "deletable": false,
    "editable": false
   },
   "outputs": [],
   "source": [
    "import numpy as np\n",
    "import pandas as pd\n",
    "import matplotlib.pyplot as plt\n"
   ]
  },
  {
   "cell_type": "code",
   "execution_count": 2,
   "metadata": {
    "ExecuteTime": {
     "end_time": "2020-09-25T10:28:18.118916Z",
     "start_time": "2020-09-25T10:28:16.369013Z"
    },
    "deletable": false,
    "editable": false
   },
   "outputs": [
    {
     "data": {
      "text/html": [
       "<div>\n",
       "<style scoped>\n",
       "    .dataframe tbody tr th:only-of-type {\n",
       "        vertical-align: middle;\n",
       "    }\n",
       "\n",
       "    .dataframe tbody tr th {\n",
       "        vertical-align: top;\n",
       "    }\n",
       "\n",
       "    .dataframe thead th {\n",
       "        text-align: right;\n",
       "    }\n",
       "</style>\n",
       "<table border=\"1\" class=\"dataframe\">\n",
       "  <thead>\n",
       "    <tr style=\"text-align: right;\">\n",
       "      <th></th>\n",
       "      <th>Line Item ID</th>\n",
       "      <th>Date</th>\n",
       "      <th>App/URL ID</th>\n",
       "      <th>ISP or Carrier ID</th>\n",
       "      <th>Device Type</th>\n",
       "      <th>Exchange ID</th>\n",
       "      <th>Operating System</th>\n",
       "      <th>Browser</th>\n",
       "      <th>Creative Size</th>\n",
       "      <th>Advertiser Currency</th>\n",
       "      <th>Impressions</th>\n",
       "      <th>IO_ID</th>\n",
       "      <th>CPM</th>\n",
       "    </tr>\n",
       "  </thead>\n",
       "  <tbody>\n",
       "    <tr>\n",
       "      <th>0</th>\n",
       "      <td>2</td>\n",
       "      <td>17-08-2020</td>\n",
       "      <td>1.5164E+11</td>\n",
       "      <td>1000</td>\n",
       "      <td>Desktop</td>\n",
       "      <td>1</td>\n",
       "      <td>Macintosh</td>\n",
       "      <td>Chrome</td>\n",
       "      <td>728x90</td>\n",
       "      <td>CAD</td>\n",
       "      <td>2</td>\n",
       "      <td>1</td>\n",
       "      <td>0.0105</td>\n",
       "    </tr>\n",
       "    <tr>\n",
       "      <th>1</th>\n",
       "      <td>2</td>\n",
       "      <td>17-08-2020</td>\n",
       "      <td>1362605575</td>\n",
       "      <td>1000</td>\n",
       "      <td>Desktop</td>\n",
       "      <td>1</td>\n",
       "      <td>Windows 10</td>\n",
       "      <td>Chrome</td>\n",
       "      <td>300x600</td>\n",
       "      <td>CAD</td>\n",
       "      <td>2</td>\n",
       "      <td>1</td>\n",
       "      <td>0.0125</td>\n",
       "    </tr>\n",
       "    <tr>\n",
       "      <th>2</th>\n",
       "      <td>2</td>\n",
       "      <td>17-08-2020</td>\n",
       "      <td>20303819748</td>\n",
       "      <td>207</td>\n",
       "      <td>Desktop</td>\n",
       "      <td>1</td>\n",
       "      <td>Windows 7</td>\n",
       "      <td>Chrome</td>\n",
       "      <td>160x600</td>\n",
       "      <td>CAD</td>\n",
       "      <td>2</td>\n",
       "      <td>1</td>\n",
       "      <td>0.0200</td>\n",
       "    </tr>\n",
       "    <tr>\n",
       "      <th>3</th>\n",
       "      <td>2</td>\n",
       "      <td>17-08-2020</td>\n",
       "      <td>20303819748</td>\n",
       "      <td>666</td>\n",
       "      <td>Desktop</td>\n",
       "      <td>1</td>\n",
       "      <td>Windows 10</td>\n",
       "      <td>Chrome</td>\n",
       "      <td>160x600</td>\n",
       "      <td>CAD</td>\n",
       "      <td>2</td>\n",
       "      <td>1</td>\n",
       "      <td>0.0350</td>\n",
       "    </tr>\n",
       "    <tr>\n",
       "      <th>4</th>\n",
       "      <td>2</td>\n",
       "      <td>17-08-2020</td>\n",
       "      <td>20303819748</td>\n",
       "      <td>1000</td>\n",
       "      <td>Desktop</td>\n",
       "      <td>1</td>\n",
       "      <td>Windows 10</td>\n",
       "      <td>Chrome</td>\n",
       "      <td>160x600</td>\n",
       "      <td>CAD</td>\n",
       "      <td>4</td>\n",
       "      <td>1</td>\n",
       "      <td>0.0220</td>\n",
       "    </tr>\n",
       "  </tbody>\n",
       "</table>\n",
       "</div>"
      ],
      "text/plain": [
       "   Line Item ID        Date   App/URL ID  ISP or Carrier ID Device Type  \\\n",
       "0             2  17-08-2020   1.5164E+11               1000     Desktop   \n",
       "1             2  17-08-2020   1362605575               1000     Desktop   \n",
       "2             2  17-08-2020  20303819748                207     Desktop   \n",
       "3             2  17-08-2020  20303819748                666     Desktop   \n",
       "4             2  17-08-2020  20303819748               1000     Desktop   \n",
       "\n",
       "   Exchange ID Operating System Browser Creative Size Advertiser Currency  \\\n",
       "0            1        Macintosh  Chrome        728x90                 CAD   \n",
       "1            1       Windows 10  Chrome       300x600                 CAD   \n",
       "2            1        Windows 7  Chrome       160x600                 CAD   \n",
       "3            1       Windows 10  Chrome       160x600                 CAD   \n",
       "4            1       Windows 10  Chrome       160x600                 CAD   \n",
       "\n",
       "   Impressions  IO_ID     CPM  \n",
       "0            2      1  0.0105  \n",
       "1            2      1  0.0125  \n",
       "2            2      1  0.0200  \n",
       "3            2      1  0.0350  \n",
       "4            4      1  0.0220  "
      ]
     },
     "execution_count": 2,
     "metadata": {},
     "output_type": "execute_result"
    }
   ],
   "source": [
    "df = pd.read_csv(\"../data/train.csv\")\n",
    "df.head()"
   ]
  },
  {
   "cell_type": "markdown",
   "metadata": {
    "deletable": false,
    "editable": false
   },
   "source": [
    "## Model Training"
   ]
  },
  {
   "cell_type": "code",
   "execution_count": 3,
   "metadata": {
    "ExecuteTime": {
     "end_time": "2020-09-25T10:28:18.134917Z",
     "start_time": "2020-09-25T10:28:18.121917Z"
    },
    "code_folding": [
     0
    ],
    "deletable": false,
    "editable": false
   },
   "outputs": [],
   "source": [
    "df.columns = ['line_item_id', 'date', 'app_url_id', 'isp_or_carrier_id',\n",
    "              'device_type', 'exchange_id', 'operating_system', 'browser',\n",
    "              'creative_size', 'advertiser_currency', 'impressions', 'io_id', 'cpm']"
   ]
  },
  {
   "cell_type": "code",
   "execution_count": 4,
   "metadata": {
    "ExecuteTime": {
     "end_time": "2020-09-25T10:28:18.717904Z",
     "start_time": "2020-09-25T10:28:18.137711Z"
    },
    "code_folding": [
     0
    ],
    "deletable": false,
    "editable": false
   },
   "outputs": [],
   "source": [
    "# Change dtype of date\n",
    "df['date'] = pd.to_datetime(df['date'], format = '%d-%m-%Y')\n",
    "# get day of week\n",
    "import datetime as dt\n",
    "df['day_of_week'] = df['date'].dt.day_name()"
   ]
  },
  {
   "cell_type": "code",
   "execution_count": 5,
   "metadata": {
    "ExecuteTime": {
     "end_time": "2020-09-25T10:28:19.175649Z",
     "start_time": "2020-09-25T10:28:18.719880Z"
    },
    "code_folding": [
     0
    ],
    "deletable": false,
    "editable": false
   },
   "outputs": [],
   "source": [
    "# drop app/urls which are unknown, since its a very small fraction of the total data\n",
    "unknown_app_ids = df[df['app_url_id'] == 'Unknown'].index\n",
    "df.drop(unknown_app_ids, axis = 0, inplace = True)"
   ]
  },
  {
   "cell_type": "code",
   "execution_count": 6,
   "metadata": {
    "ExecuteTime": {
     "end_time": "2020-09-25T10:28:19.787929Z",
     "start_time": "2020-09-25T10:28:19.176697Z"
    },
    "code_folding": [
     0
    ],
    "deletable": false,
    "editable": false
   },
   "outputs": [],
   "source": [
    "# convert dtype of app_url_id\n",
    "df['app_url_id'] = pd.to_numeric(df['app_url_id'])"
   ]
  },
  {
   "cell_type": "code",
   "execution_count": 7,
   "metadata": {
    "ExecuteTime": {
     "end_time": "2020-09-25T10:28:19.818965Z",
     "start_time": "2020-09-25T10:28:19.789927Z"
    },
    "deletable": false,
    "editable": false,
    "scrolled": true
   },
   "outputs": [
    {
     "data": {
      "text/html": [
       "<div>\n",
       "<style scoped>\n",
       "    .dataframe tbody tr th:only-of-type {\n",
       "        vertical-align: middle;\n",
       "    }\n",
       "\n",
       "    .dataframe tbody tr th {\n",
       "        vertical-align: top;\n",
       "    }\n",
       "\n",
       "    .dataframe thead th {\n",
       "        text-align: right;\n",
       "    }\n",
       "</style>\n",
       "<table border=\"1\" class=\"dataframe\">\n",
       "  <thead>\n",
       "    <tr style=\"text-align: right;\">\n",
       "      <th></th>\n",
       "      <th>line_item_id</th>\n",
       "      <th>date</th>\n",
       "      <th>app_url_id</th>\n",
       "      <th>isp_or_carrier_id</th>\n",
       "      <th>device_type</th>\n",
       "      <th>exchange_id</th>\n",
       "      <th>operating_system</th>\n",
       "      <th>browser</th>\n",
       "      <th>creative_size</th>\n",
       "      <th>advertiser_currency</th>\n",
       "      <th>impressions</th>\n",
       "      <th>io_id</th>\n",
       "      <th>cpm</th>\n",
       "      <th>day_of_week</th>\n",
       "    </tr>\n",
       "  </thead>\n",
       "  <tbody>\n",
       "    <tr>\n",
       "      <th>0</th>\n",
       "      <td>2</td>\n",
       "      <td>2020-08-17</td>\n",
       "      <td>1.516400e+11</td>\n",
       "      <td>1000</td>\n",
       "      <td>Desktop</td>\n",
       "      <td>1</td>\n",
       "      <td>Macintosh</td>\n",
       "      <td>Chrome</td>\n",
       "      <td>728x90</td>\n",
       "      <td>CAD</td>\n",
       "      <td>2</td>\n",
       "      <td>1</td>\n",
       "      <td>0.0105</td>\n",
       "      <td>Monday</td>\n",
       "    </tr>\n",
       "    <tr>\n",
       "      <th>1</th>\n",
       "      <td>2</td>\n",
       "      <td>2020-08-17</td>\n",
       "      <td>1.362606e+09</td>\n",
       "      <td>1000</td>\n",
       "      <td>Desktop</td>\n",
       "      <td>1</td>\n",
       "      <td>Windows 10</td>\n",
       "      <td>Chrome</td>\n",
       "      <td>300x600</td>\n",
       "      <td>CAD</td>\n",
       "      <td>2</td>\n",
       "      <td>1</td>\n",
       "      <td>0.0125</td>\n",
       "      <td>Monday</td>\n",
       "    </tr>\n",
       "    <tr>\n",
       "      <th>2</th>\n",
       "      <td>2</td>\n",
       "      <td>2020-08-17</td>\n",
       "      <td>2.030382e+10</td>\n",
       "      <td>207</td>\n",
       "      <td>Desktop</td>\n",
       "      <td>1</td>\n",
       "      <td>Windows 7</td>\n",
       "      <td>Chrome</td>\n",
       "      <td>160x600</td>\n",
       "      <td>CAD</td>\n",
       "      <td>2</td>\n",
       "      <td>1</td>\n",
       "      <td>0.0200</td>\n",
       "      <td>Monday</td>\n",
       "    </tr>\n",
       "    <tr>\n",
       "      <th>3</th>\n",
       "      <td>2</td>\n",
       "      <td>2020-08-17</td>\n",
       "      <td>2.030382e+10</td>\n",
       "      <td>666</td>\n",
       "      <td>Desktop</td>\n",
       "      <td>1</td>\n",
       "      <td>Windows 10</td>\n",
       "      <td>Chrome</td>\n",
       "      <td>160x600</td>\n",
       "      <td>CAD</td>\n",
       "      <td>2</td>\n",
       "      <td>1</td>\n",
       "      <td>0.0350</td>\n",
       "      <td>Monday</td>\n",
       "    </tr>\n",
       "    <tr>\n",
       "      <th>4</th>\n",
       "      <td>2</td>\n",
       "      <td>2020-08-17</td>\n",
       "      <td>2.030382e+10</td>\n",
       "      <td>1000</td>\n",
       "      <td>Desktop</td>\n",
       "      <td>1</td>\n",
       "      <td>Windows 10</td>\n",
       "      <td>Chrome</td>\n",
       "      <td>160x600</td>\n",
       "      <td>CAD</td>\n",
       "      <td>4</td>\n",
       "      <td>1</td>\n",
       "      <td>0.0220</td>\n",
       "      <td>Monday</td>\n",
       "    </tr>\n",
       "  </tbody>\n",
       "</table>\n",
       "</div>"
      ],
      "text/plain": [
       "   line_item_id       date    app_url_id  isp_or_carrier_id device_type  \\\n",
       "0             2 2020-08-17  1.516400e+11               1000     Desktop   \n",
       "1             2 2020-08-17  1.362606e+09               1000     Desktop   \n",
       "2             2 2020-08-17  2.030382e+10                207     Desktop   \n",
       "3             2 2020-08-17  2.030382e+10                666     Desktop   \n",
       "4             2 2020-08-17  2.030382e+10               1000     Desktop   \n",
       "\n",
       "   exchange_id operating_system browser creative_size advertiser_currency  \\\n",
       "0            1        Macintosh  Chrome        728x90                 CAD   \n",
       "1            1       Windows 10  Chrome       300x600                 CAD   \n",
       "2            1        Windows 7  Chrome       160x600                 CAD   \n",
       "3            1       Windows 10  Chrome       160x600                 CAD   \n",
       "4            1       Windows 10  Chrome       160x600                 CAD   \n",
       "\n",
       "   impressions  io_id     cpm day_of_week  \n",
       "0            2      1  0.0105      Monday  \n",
       "1            2      1  0.0125      Monday  \n",
       "2            2      1  0.0200      Monday  \n",
       "3            2      1  0.0350      Monday  \n",
       "4            4      1  0.0220      Monday  "
      ]
     },
     "execution_count": 7,
     "metadata": {},
     "output_type": "execute_result"
    }
   ],
   "source": [
    "df.head()"
   ]
  },
  {
   "cell_type": "markdown",
   "metadata": {
    "deletable": false,
    "editable": false
   },
   "source": [
    "### Categorical encoding options:\n",
    "    - Target Encoding : Each class of a category is replaced with its mean at the target variable.\n",
    "                        It can lead to overfitting, to overcome that some gaussian noise can be \n",
    "                        introduced. Might not work very well with regression models.\n",
    "    - Hashing : Increases number of features, so categorical variables with high number of \n",
    "                classes will cause the datset to widen significantly, also the result \n",
    "                is a sparce matrix."
   ]
  },
  {
   "cell_type": "code",
   "execution_count": 8,
   "metadata": {
    "ExecuteTime": {
     "end_time": "2020-09-25T10:28:25.721379Z",
     "start_time": "2020-09-25T10:28:19.821931Z"
    },
    "code_folding": [
     0
    ],
    "deletable": false,
    "editable": false
   },
   "outputs": [],
   "source": [
    "# Target Encoding\n",
    "categorical = ['app_url_id', 'device_type', 'operating_system', \n",
    "               'browser','creative_size', 'advertiser_currency','day_of_week']\n",
    "\n",
    "import category_encoders as ce\n",
    "\n",
    "enc = ce.TargetEncoder(cols = categorical)\n",
    "\n",
    "# fit and transform\n",
    "encoded_cols = enc.fit_transform(df[categorical], df['cpm'])"
   ]
  },
  {
   "cell_type": "code",
   "execution_count": 9,
   "metadata": {
    "ExecuteTime": {
     "end_time": "2020-09-25T10:28:25.752050Z",
     "start_time": "2020-09-25T10:28:25.729312Z"
    },
    "deletable": false,
    "editable": false
   },
   "outputs": [
    {
     "data": {
      "text/html": [
       "<div>\n",
       "<style scoped>\n",
       "    .dataframe tbody tr th:only-of-type {\n",
       "        vertical-align: middle;\n",
       "    }\n",
       "\n",
       "    .dataframe tbody tr th {\n",
       "        vertical-align: top;\n",
       "    }\n",
       "\n",
       "    .dataframe thead th {\n",
       "        text-align: right;\n",
       "    }\n",
       "</style>\n",
       "<table border=\"1\" class=\"dataframe\">\n",
       "  <thead>\n",
       "    <tr style=\"text-align: right;\">\n",
       "      <th></th>\n",
       "      <th>app_url_id</th>\n",
       "      <th>device_type</th>\n",
       "      <th>operating_system</th>\n",
       "      <th>browser</th>\n",
       "      <th>creative_size</th>\n",
       "      <th>advertiser_currency</th>\n",
       "      <th>day_of_week</th>\n",
       "    </tr>\n",
       "  </thead>\n",
       "  <tbody>\n",
       "    <tr>\n",
       "      <th>0</th>\n",
       "      <td>0.524698</td>\n",
       "      <td>1.366175</td>\n",
       "      <td>1.644927</td>\n",
       "      <td>2.25401</td>\n",
       "      <td>1.559829</td>\n",
       "      <td>1.697978</td>\n",
       "      <td>2.18576</td>\n",
       "    </tr>\n",
       "    <tr>\n",
       "      <th>1</th>\n",
       "      <td>0.623311</td>\n",
       "      <td>1.366175</td>\n",
       "      <td>1.321883</td>\n",
       "      <td>2.25401</td>\n",
       "      <td>2.062848</td>\n",
       "      <td>1.697978</td>\n",
       "      <td>2.18576</td>\n",
       "    </tr>\n",
       "    <tr>\n",
       "      <th>2</th>\n",
       "      <td>1.263673</td>\n",
       "      <td>1.366175</td>\n",
       "      <td>1.214288</td>\n",
       "      <td>2.25401</td>\n",
       "      <td>1.984722</td>\n",
       "      <td>1.697978</td>\n",
       "      <td>2.18576</td>\n",
       "    </tr>\n",
       "    <tr>\n",
       "      <th>3</th>\n",
       "      <td>1.263673</td>\n",
       "      <td>1.366175</td>\n",
       "      <td>1.321883</td>\n",
       "      <td>2.25401</td>\n",
       "      <td>1.984722</td>\n",
       "      <td>1.697978</td>\n",
       "      <td>2.18576</td>\n",
       "    </tr>\n",
       "    <tr>\n",
       "      <th>4</th>\n",
       "      <td>1.263673</td>\n",
       "      <td>1.366175</td>\n",
       "      <td>1.321883</td>\n",
       "      <td>2.25401</td>\n",
       "      <td>1.984722</td>\n",
       "      <td>1.697978</td>\n",
       "      <td>2.18576</td>\n",
       "    </tr>\n",
       "  </tbody>\n",
       "</table>\n",
       "</div>"
      ],
      "text/plain": [
       "   app_url_id  device_type  operating_system  browser  creative_size  \\\n",
       "0    0.524698     1.366175          1.644927  2.25401       1.559829   \n",
       "1    0.623311     1.366175          1.321883  2.25401       2.062848   \n",
       "2    1.263673     1.366175          1.214288  2.25401       1.984722   \n",
       "3    1.263673     1.366175          1.321883  2.25401       1.984722   \n",
       "4    1.263673     1.366175          1.321883  2.25401       1.984722   \n",
       "\n",
       "   advertiser_currency  day_of_week  \n",
       "0             1.697978      2.18576  \n",
       "1             1.697978      2.18576  \n",
       "2             1.697978      2.18576  \n",
       "3             1.697978      2.18576  \n",
       "4             1.697978      2.18576  "
      ]
     },
     "execution_count": 9,
     "metadata": {},
     "output_type": "execute_result"
    }
   ],
   "source": [
    "encoded_cols.head()"
   ]
  },
  {
   "cell_type": "code",
   "execution_count": 10,
   "metadata": {
    "ExecuteTime": {
     "end_time": "2020-09-25T10:28:26.141489Z",
     "start_time": "2020-09-25T10:28:25.754012Z"
    },
    "deletable": false,
    "editable": false
   },
   "outputs": [],
   "source": [
    "df_temp = df.copy()\n",
    "df_temp[list(encoded_cols)] = encoded_cols"
   ]
  },
  {
   "cell_type": "markdown",
   "metadata": {
    "deletable": false,
    "editable": false,
    "heading_collapsed": true
   },
   "source": [
    "### Feature Scaling is not required because splitting of the nodes takes place on a single feature, so scale doesnt matter"
   ]
  },
  {
   "cell_type": "markdown",
   "metadata": {
    "deletable": false,
    "editable": false,
    "heading_collapsed": true
   },
   "source": [
    "### train-test split\n",
    "- The test data is of the date 28/09/2020, so it makes sense to split \n",
    "the data of the last available date as validation."
   ]
  },
  {
   "cell_type": "code",
   "execution_count": 12,
   "metadata": {
    "ExecuteTime": {
     "end_time": "2020-09-25T10:28:26.485345Z",
     "start_time": "2020-09-25T10:28:26.175261Z"
    },
    "deletable": false,
    "editable": false,
    "hidden": true
   },
   "outputs": [],
   "source": [
    "df_test = df_temp[df_temp['date'] == '2020-08-27'].copy()\n",
    "df_train = df_temp.drop(df_test.index, axis = 0)"
   ]
  },
  {
   "cell_type": "code",
   "execution_count": 13,
   "metadata": {
    "ExecuteTime": {
     "end_time": "2020-09-25T10:28:26.532333Z",
     "start_time": "2020-09-25T10:28:26.487261Z"
    },
    "deletable": false,
    "editable": false,
    "hidden": true
   },
   "outputs": [],
   "source": [
    "df_test.drop('date', axis = 1, inplace = True)\n",
    "X_test = df_test.drop('cpm', axis = 1).to_numpy()\n",
    "y_test = df_test['cpm'].to_numpy()"
   ]
  },
  {
   "cell_type": "code",
   "execution_count": 14,
   "metadata": {
    "ExecuteTime": {
     "end_time": "2020-09-25T10:28:26.752281Z",
     "start_time": "2020-09-25T10:28:26.534328Z"
    },
    "deletable": false,
    "editable": false,
    "hidden": true
   },
   "outputs": [],
   "source": [
    "df_train.drop('date', axis = 1, inplace = True)\n",
    "X_train = df_train.drop('cpm', axis = 1).to_numpy()\n",
    "y_train = df_train['cpm'].to_numpy()"
   ]
  },
  {
   "cell_type": "code",
   "execution_count": 15,
   "metadata": {
    "ExecuteTime": {
     "end_time": "2020-09-25T10:28:33.038106Z",
     "start_time": "2020-09-25T10:28:33.007431Z"
    },
    "deletable": false,
    "editable": false,
    "hidden": true
   },
   "outputs": [],
   "source": [
    "# delete redundant dataframes\n",
    "del(df_temp)\n",
    "del(df_test)\n",
    "del(df_train)"
   ]
  },
  {
   "cell_type": "markdown",
   "metadata": {
    "deletable": false,
    "editable": false
   },
   "source": [
    "### Training"
   ]
  },
  {
   "cell_type": "markdown",
   "metadata": {
    "deletable": false,
    "editable": false,
    "heading_collapsed": true
   },
   "source": [
    "#### Linear Regression"
   ]
  },
  {
   "cell_type": "code",
   "execution_count": null,
   "metadata": {
    "ExecuteTime": {
     "end_time": "2020-09-25T09:44:53.782340Z",
     "start_time": "2020-09-25T09:44:53.341114Z"
    },
    "deletable": false,
    "editable": false,
    "hidden": true
   },
   "outputs": [],
   "source": [
    "from sklearn import linear_model\n",
    "from sklearn.metrics import mean_squared_error\n",
    "reg = linear_model.LinearRegression()\n",
    "reg.fit(X_train, y_train)"
   ]
  },
  {
   "cell_type": "code",
   "execution_count": null,
   "metadata": {
    "ExecuteTime": {
     "end_time": "2020-09-25T09:44:53.926340Z",
     "start_time": "2020-09-25T09:44:53.783341Z"
    },
    "code_folding": [
     0
    ],
    "deletable": false,
    "editable": false,
    "hidden": true
   },
   "outputs": [],
   "source": [
    "# R2 Score\n",
    "\n",
    "r2_train = reg.score(X_train, y_train)\n",
    "r2_test = reg.score(X_test, y_test)\n",
    "print(\"Linear Regression Train R2 Score: {:.3f}\".format(r2_train))\n",
    "print(\"Linear Regression Test R2 Score: {:.3f}\".format(r2_test))\n",
    "\n",
    "# Adjusted R2\n",
    "adj_r2_train = (1-(1-r2_train) * ((X_train.shape[0] - 1)/(X_train.shape[0] - X_train.shape[1] - 1)))\n",
    "adj_r2_test = (1-(1-r2_test) * ((X_test.shape[0] - 1)/(X_test.shape[0] - X_test.shape[1] - 1)))\n",
    "print(\"Linear Regression Adjusted R2 train : {:.3f}\".format(adj_r2_train))\n",
    "print(\"Linear Regression Adjusted R2 test : {:.3f}\".format(adj_r2_test))"
   ]
  },
  {
   "cell_type": "code",
   "execution_count": null,
   "metadata": {
    "ExecuteTime": {
     "end_time": "2020-09-25T09:44:54.021336Z",
     "start_time": "2020-09-25T09:44:53.929344Z"
    },
    "code_folding": [
     0
    ],
    "deletable": false,
    "editable": false,
    "hidden": true
   },
   "outputs": [],
   "source": [
    "# MSE\n",
    "\n",
    "mse_train = mean_squared_error(y_train, reg.predict(X_train))\n",
    "mse_test = mean_squared_error(y_test, reg.predict(X_test))\n",
    "print(\"MSE HistGradientBoostingRegressor on test: {}\".format(mse_test))\n",
    "print(\"MSE HistGradientBoostingRegressor on train: {}\".format(mse_train))"
   ]
  },
  {
   "cell_type": "markdown",
   "metadata": {
    "deletable": false,
    "editable": false,
    "heading_collapsed": true
   },
   "source": [
    "#### SKlearn's new HistGradientBoostingRegressor"
   ]
  },
  {
   "cell_type": "code",
   "execution_count": null,
   "metadata": {
    "ExecuteTime": {
     "end_time": "2020-09-25T09:34:46.540399Z",
     "start_time": "2020-09-25T09:34:46.533682Z"
    },
    "deletable": false,
    "editable": false,
    "hidden": true
   },
   "outputs": [],
   "source": [
    "from sklearn.experimental import enable_hist_gradient_boosting\n",
    "from sklearn.ensemble import HistGradientBoostingRegressor\n",
    "from time import time"
   ]
  },
  {
   "cell_type": "code",
   "execution_count": null,
   "metadata": {
    "ExecuteTime": {
     "end_time": "2020-09-25T09:34:56.975704Z",
     "start_time": "2020-09-25T09:34:51.052786Z"
    },
    "deletable": false,
    "editable": false,
    "hidden": true
   },
   "outputs": [],
   "source": [
    "model = HistGradientBoostingRegressor()\n",
    "tic = time()\n",
    "model.fit(X_train, y_train)\n",
    "print(\"done in {:.3f}s\".format(time() - tic))"
   ]
  },
  {
   "cell_type": "code",
   "execution_count": null,
   "metadata": {
    "ExecuteTime": {
     "end_time": "2020-09-25T09:37:08.689074Z",
     "start_time": "2020-09-25T09:37:06.753217Z"
    },
    "code_folding": [
     0
    ],
    "deletable": false,
    "editable": false,
    "hidden": true
   },
   "outputs": [],
   "source": [
    "# MSE\n",
    "\n",
    "mse_train = mean_squared_error(y_train, model.predict(X_train))\n",
    "mse_test = mean_squared_error(y_test, model.predict(X_test))\n",
    "print(\"MSE HistGradientBoostingRegressor on test: {}\".format(mse_test))\n",
    "print(\"MSE HistGradientBoostingRegressor on train: {}\".format(mse_train))"
   ]
  },
  {
   "cell_type": "code",
   "execution_count": null,
   "metadata": {
    "ExecuteTime": {
     "end_time": "2020-09-25T09:43:15.629918Z",
     "start_time": "2020-09-25T09:43:14.206886Z"
    },
    "code_folding": [
     0
    ],
    "deletable": false,
    "editable": false,
    "hidden": true
   },
   "outputs": [],
   "source": [
    "# R2 score\n",
    "\n",
    "r2_train = model.score(X_train, y_train)\n",
    "r2_test = model.score(X_test, y_test)\n",
    "print(\"HistGradientBoostingRegressor Train R2 Score: {:.3f}\".format(r2_train))\n",
    "print(\"HistGradientBoostingRegressor Test R2 Score: {:.3f}\".format(r2_test))\n",
    "\n",
    "adj_r2_train = (1-(1-r2_train) * ((X_train.shape[0] - 1)/(X_train.shape[0] - X_train.shape[1] - 1)))\n",
    "adj_r2_test = (1-(1-r2_test) * ((X_test.shape[0] - 1)/(X_test.shape[0] - X_test.shape[1] - 1)))\n",
    "print(\"HistGradientBoostingRegressor Adjusted R2 train : {:.3f}\".format(adj_r2_train))\n",
    "print(\"HistGradientBoostingRegressor Adjusted R2 test : {:.3f}\".format(adj_r2_test))"
   ]
  },
  {
   "cell_type": "markdown",
   "metadata": {
    "deletable": false,
    "editable": false,
    "heading_collapsed": true
   },
   "source": [
    "#### GradientBoostingRegressor"
   ]
  },
  {
   "cell_type": "code",
   "execution_count": null,
   "metadata": {
    "ExecuteTime": {
     "end_time": "2020-09-25T08:52:41.936622Z",
     "start_time": "2020-09-25T08:52:41.920771Z"
    },
    "deletable": false,
    "editable": false,
    "hidden": true
   },
   "outputs": [],
   "source": [
    "from sklearn.ensemble import GradientBoostingRegressor"
   ]
  },
  {
   "cell_type": "code",
   "execution_count": null,
   "metadata": {
    "ExecuteTime": {
     "end_time": "2020-09-25T09:41:04.816968Z",
     "start_time": "2020-09-25T09:38:39.341896Z"
    },
    "deletable": false,
    "editable": false,
    "hidden": true
   },
   "outputs": [],
   "source": [
    "model = GradientBoostingRegressor().fit(X_train, y_train)"
   ]
  },
  {
   "cell_type": "code",
   "execution_count": null,
   "metadata": {
    "ExecuteTime": {
     "end_time": "2020-09-25T09:41:06.282709Z",
     "start_time": "2020-09-25T09:41:04.818722Z"
    },
    "deletable": false,
    "editable": false,
    "hidden": true
   },
   "outputs": [],
   "source": [
    "# R2 Score\n",
    "\n",
    "r2_train = model.score(X_train, y_train)\n",
    "r2_test = model.score(X_test, y_test)\n",
    "print(\"GradientBoostingRegressor Train R2 Score: {}\".format(r2_train))\n",
    "print(\"GradientBoostingRegressor Test R2 Score: {}\".format(r2_test))\n",
    "\n",
    "adj_r2_train = (1-(1-r2_train) * ((X_train.shape[0] - 1)/(X_train.shape[0] - X_train.shape[1] - 1)))\n",
    "adj_r2_test = (1-(1-r2_test) * ((X_test.shape[0] - 1)/(X_test.shape[0] - X_test.shape[1] - 1)))\n",
    "print(\"GradientBoostingRegressor Adjusted R2 train : {:.3f}\".format(adj_r2_train))\n",
    "print(\"GradientBoostingRegressor Adjusted R2 test : {:.3f}\".format(adj_r2_test))"
   ]
  },
  {
   "cell_type": "code",
   "execution_count": null,
   "metadata": {
    "ExecuteTime": {
     "end_time": "2020-09-25T09:42:07.910955Z",
     "start_time": "2020-09-25T09:42:06.521175Z"
    },
    "deletable": false,
    "editable": false,
    "hidden": true
   },
   "outputs": [],
   "source": [
    "# MSE\n",
    "\n",
    "mse_train = mean_squared_error(y_train, model.predict(X_train))\n",
    "mse_test = mean_squared_error(y_test, model.predict(X_test))\n",
    "print(\"MSE GradientBoostingRegressor on test: {}\".format(mse_test))\n",
    "print(\"MSE GradientBoostingRegressor on train: {}\".format(mse_train))"
   ]
  },
  {
   "cell_type": "markdown",
   "metadata": {
    "deletable": false,
    "editable": false,
    "hidden": true
   },
   "source": [
    "    - These models are definitely overfitting, choice of encoding could be one of the reason"
   ]
  },
  {
   "cell_type": "markdown",
   "metadata": {},
   "source": [
    "### Encoder Techniques"
   ]
  },
  {
   "cell_type": "markdown",
   "metadata": {},
   "source": [
    "    - Try l1,l2 regularization\n",
    "    - try catboost in lightgbm\n",
    "    - track R2, adjusted R2, RMSE.\n",
    "    - Once encoding is fixed, Try NN."
   ]
  },
  {
   "cell_type": "markdown",
   "metadata": {},
   "source": [
    "#### CatBoost Encoder\n",
    "    - Supported for continuous targets\n",
    "    - training data must be randomly permutated"
   ]
  },
  {
   "cell_type": "code",
   "execution_count": 30,
   "metadata": {
    "ExecuteTime": {
     "end_time": "2020-09-25T10:39:06.812091Z",
     "start_time": "2020-09-25T10:39:05.582440Z"
    }
   },
   "outputs": [],
   "source": [
    "# Random permutation \n",
    "np.random.seed(100)\n",
    "perm = np.random.permutation(len(df))\n",
    "X = df.iloc[perm].reset_index(drop=True).drop(['date','cpm'], axis = 1) \n",
    "Y = df['cpm'].iloc[perm].reset_index(drop=True)"
   ]
  },
  {
   "cell_type": "code",
   "execution_count": null,
   "metadata": {},
   "outputs": [],
   "source": []
  }
 ],
 "metadata": {
  "kernelspec": {
   "display_name": "Python 3",
   "language": "python",
   "name": "python3"
  },
  "language_info": {
   "codemirror_mode": {
    "name": "ipython",
    "version": 3
   },
   "file_extension": ".py",
   "mimetype": "text/x-python",
   "name": "python",
   "nbconvert_exporter": "python",
   "pygments_lexer": "ipython3",
   "version": "3.7.6"
  },
  "toc": {
   "base_numbering": 1,
   "nav_menu": {},
   "number_sections": true,
   "sideBar": true,
   "skip_h1_title": false,
   "title_cell": "Table of Contents",
   "title_sidebar": "Contents",
   "toc_cell": false,
   "toc_position": {
    "height": "calc(100% - 180px)",
    "left": "10px",
    "top": "150px",
    "width": "280px"
   },
   "toc_section_display": true,
   "toc_window_display": true
  },
  "varInspector": {
   "cols": {
    "lenName": 16,
    "lenType": 16,
    "lenVar": 40
   },
   "kernels_config": {
    "python": {
     "delete_cmd_postfix": "",
     "delete_cmd_prefix": "del ",
     "library": "var_list.py",
     "varRefreshCmd": "print(var_dic_list())"
    },
    "r": {
     "delete_cmd_postfix": ") ",
     "delete_cmd_prefix": "rm(",
     "library": "var_list.r",
     "varRefreshCmd": "cat(var_dic_list()) "
    }
   },
   "types_to_exclude": [
    "module",
    "function",
    "builtin_function_or_method",
    "instance",
    "_Feature"
   ],
   "window_display": false
  }
 },
 "nbformat": 4,
 "nbformat_minor": 4
}
