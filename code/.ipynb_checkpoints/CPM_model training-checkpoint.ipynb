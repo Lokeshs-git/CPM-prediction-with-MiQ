{
 "cells": [
  {
   "cell_type": "markdown",
   "metadata": {},
   "source": [
    "# Base Model"
   ]
  },
  {
   "cell_type": "code",
   "execution_count": 1,
   "metadata": {
    "ExecuteTime": {
     "end_time": "2020-09-26T18:07:16.388387Z",
     "start_time": "2020-09-26T18:07:15.734419Z"
    }
   },
   "outputs": [],
   "source": [
    "import numpy as np\n",
    "import pandas as pd\n",
    "import matplotlib.pyplot as plt\n"
   ]
  },
  {
   "cell_type": "code",
   "execution_count": 2,
   "metadata": {
    "ExecuteTime": {
     "end_time": "2020-09-26T18:07:18.184477Z",
     "start_time": "2020-09-26T18:07:16.497478Z"
    },
    "scrolled": true
   },
   "outputs": [
    {
     "data": {
      "text/html": [
       "<div>\n",
       "<style scoped>\n",
       "    .dataframe tbody tr th:only-of-type {\n",
       "        vertical-align: middle;\n",
       "    }\n",
       "\n",
       "    .dataframe tbody tr th {\n",
       "        vertical-align: top;\n",
       "    }\n",
       "\n",
       "    .dataframe thead th {\n",
       "        text-align: right;\n",
       "    }\n",
       "</style>\n",
       "<table border=\"1\" class=\"dataframe\">\n",
       "  <thead>\n",
       "    <tr style=\"text-align: right;\">\n",
       "      <th></th>\n",
       "      <th>Line Item ID</th>\n",
       "      <th>Date</th>\n",
       "      <th>App/URL ID</th>\n",
       "      <th>ISP or Carrier ID</th>\n",
       "      <th>Device Type</th>\n",
       "      <th>Exchange ID</th>\n",
       "      <th>Operating System</th>\n",
       "      <th>Browser</th>\n",
       "      <th>Creative Size</th>\n",
       "      <th>Advertiser Currency</th>\n",
       "      <th>Impressions</th>\n",
       "      <th>IO_ID</th>\n",
       "      <th>CPM</th>\n",
       "    </tr>\n",
       "  </thead>\n",
       "  <tbody>\n",
       "    <tr>\n",
       "      <th>0</th>\n",
       "      <td>2</td>\n",
       "      <td>17-08-2020</td>\n",
       "      <td>1.5164E+11</td>\n",
       "      <td>1000</td>\n",
       "      <td>Desktop</td>\n",
       "      <td>1</td>\n",
       "      <td>Macintosh</td>\n",
       "      <td>Chrome</td>\n",
       "      <td>728x90</td>\n",
       "      <td>CAD</td>\n",
       "      <td>2</td>\n",
       "      <td>1</td>\n",
       "      <td>0.0105</td>\n",
       "    </tr>\n",
       "    <tr>\n",
       "      <th>1</th>\n",
       "      <td>2</td>\n",
       "      <td>17-08-2020</td>\n",
       "      <td>1362605575</td>\n",
       "      <td>1000</td>\n",
       "      <td>Desktop</td>\n",
       "      <td>1</td>\n",
       "      <td>Windows 10</td>\n",
       "      <td>Chrome</td>\n",
       "      <td>300x600</td>\n",
       "      <td>CAD</td>\n",
       "      <td>2</td>\n",
       "      <td>1</td>\n",
       "      <td>0.0125</td>\n",
       "    </tr>\n",
       "    <tr>\n",
       "      <th>2</th>\n",
       "      <td>2</td>\n",
       "      <td>17-08-2020</td>\n",
       "      <td>20303819748</td>\n",
       "      <td>207</td>\n",
       "      <td>Desktop</td>\n",
       "      <td>1</td>\n",
       "      <td>Windows 7</td>\n",
       "      <td>Chrome</td>\n",
       "      <td>160x600</td>\n",
       "      <td>CAD</td>\n",
       "      <td>2</td>\n",
       "      <td>1</td>\n",
       "      <td>0.0200</td>\n",
       "    </tr>\n",
       "    <tr>\n",
       "      <th>3</th>\n",
       "      <td>2</td>\n",
       "      <td>17-08-2020</td>\n",
       "      <td>20303819748</td>\n",
       "      <td>666</td>\n",
       "      <td>Desktop</td>\n",
       "      <td>1</td>\n",
       "      <td>Windows 10</td>\n",
       "      <td>Chrome</td>\n",
       "      <td>160x600</td>\n",
       "      <td>CAD</td>\n",
       "      <td>2</td>\n",
       "      <td>1</td>\n",
       "      <td>0.0350</td>\n",
       "    </tr>\n",
       "    <tr>\n",
       "      <th>4</th>\n",
       "      <td>2</td>\n",
       "      <td>17-08-2020</td>\n",
       "      <td>20303819748</td>\n",
       "      <td>1000</td>\n",
       "      <td>Desktop</td>\n",
       "      <td>1</td>\n",
       "      <td>Windows 10</td>\n",
       "      <td>Chrome</td>\n",
       "      <td>160x600</td>\n",
       "      <td>CAD</td>\n",
       "      <td>4</td>\n",
       "      <td>1</td>\n",
       "      <td>0.0220</td>\n",
       "    </tr>\n",
       "  </tbody>\n",
       "</table>\n",
       "</div>"
      ],
      "text/plain": [
       "   Line Item ID        Date   App/URL ID  ISP or Carrier ID Device Type  \\\n",
       "0             2  17-08-2020   1.5164E+11               1000     Desktop   \n",
       "1             2  17-08-2020   1362605575               1000     Desktop   \n",
       "2             2  17-08-2020  20303819748                207     Desktop   \n",
       "3             2  17-08-2020  20303819748                666     Desktop   \n",
       "4             2  17-08-2020  20303819748               1000     Desktop   \n",
       "\n",
       "   Exchange ID Operating System Browser Creative Size Advertiser Currency  \\\n",
       "0            1        Macintosh  Chrome        728x90                 CAD   \n",
       "1            1       Windows 10  Chrome       300x600                 CAD   \n",
       "2            1        Windows 7  Chrome       160x600                 CAD   \n",
       "3            1       Windows 10  Chrome       160x600                 CAD   \n",
       "4            1       Windows 10  Chrome       160x600                 CAD   \n",
       "\n",
       "   Impressions  IO_ID     CPM  \n",
       "0            2      1  0.0105  \n",
       "1            2      1  0.0125  \n",
       "2            2      1  0.0200  \n",
       "3            2      1  0.0350  \n",
       "4            4      1  0.0220  "
      ]
     },
     "execution_count": 2,
     "metadata": {},
     "output_type": "execute_result"
    }
   ],
   "source": [
    "df = pd.read_csv(\"../data/train.csv\")\n",
    "df.head()"
   ]
  },
  {
   "cell_type": "markdown",
   "metadata": {},
   "source": [
    "## Model Training"
   ]
  },
  {
   "cell_type": "code",
   "execution_count": 3,
   "metadata": {
    "ExecuteTime": {
     "end_time": "2020-09-26T18:07:22.071647Z",
     "start_time": "2020-09-26T18:07:22.060652Z"
    },
    "code_folding": [
     0
    ]
   },
   "outputs": [],
   "source": [
    "df.columns = ['line_item_id', 'date', 'app_url_id', 'isp_or_carrier_id',\n",
    "              'device_type', 'exchange_id', 'operating_system', 'browser',\n",
    "              'creative_size', 'advertiser_currency', 'impressions', 'io_id', 'cpm']"
   ]
  },
  {
   "cell_type": "code",
   "execution_count": 4,
   "metadata": {
    "ExecuteTime": {
     "end_time": "2020-09-26T18:07:25.002466Z",
     "start_time": "2020-09-26T18:07:24.452341Z"
    },
    "code_folding": []
   },
   "outputs": [],
   "source": [
    "# Change dtype of date\n",
    "df['date'] = pd.to_datetime(df['date'], format = '%d-%m-%Y')\n",
    "# get day of week\n",
    "import datetime as dt\n",
    "df['day_of_week'] = df['date'].dt.day_name()"
   ]
  },
  {
   "cell_type": "code",
   "execution_count": 5,
   "metadata": {
    "ExecuteTime": {
     "end_time": "2020-09-26T18:07:25.476613Z",
     "start_time": "2020-09-26T18:07:25.003390Z"
    },
    "code_folding": []
   },
   "outputs": [],
   "source": [
    "# drop app/urls which are unknown, since its a very small fraction of the total data\n",
    "unknown_app_ids = df[df['app_url_id'] == 'Unknown'].index\n",
    "df.drop(unknown_app_ids, axis = 0, inplace = True)"
   ]
  },
  {
   "cell_type": "code",
   "execution_count": 6,
   "metadata": {
    "ExecuteTime": {
     "end_time": "2020-09-26T18:07:29.646467Z",
     "start_time": "2020-09-26T18:07:29.069477Z"
    },
    "code_folding": []
   },
   "outputs": [],
   "source": [
    "# convert dtype of app_url_id\n",
    "df['app_url_id'] = pd.to_numeric(df['app_url_id'])"
   ]
  },
  {
   "cell_type": "markdown",
   "metadata": {},
   "source": [
    "### Feature Scaling is not required because splitting of the nodes takes place on a single feature, so scale doesnt matter"
   ]
  },
  {
   "cell_type": "markdown",
   "metadata": {
    "heading_collapsed": true
   },
   "source": [
    "### Encoder Techniques"
   ]
  },
  {
   "cell_type": "markdown",
   "metadata": {
    "hidden": true
   },
   "source": [
    "    - Try l1,l2 regularization\n",
    "    - try catboost in lightgbm\n",
    "    - track R2, adjusted R2, RMSE.\n",
    "    - Once encoding is fixed, Try NN."
   ]
  },
  {
   "cell_type": "markdown",
   "metadata": {
    "heading_collapsed": true,
    "hidden": true
   },
   "source": [
    "#### Target Encoding"
   ]
  },
  {
   "cell_type": "code",
   "execution_count": 17,
   "metadata": {
    "ExecuteTime": {
     "end_time": "2020-09-26T18:39:58.261815Z",
     "start_time": "2020-09-26T18:39:52.556769Z"
    },
    "code_folding": [],
    "hidden": true
   },
   "outputs": [
    {
     "data": {
      "text/html": [
       "<div>\n",
       "<style scoped>\n",
       "    .dataframe tbody tr th:only-of-type {\n",
       "        vertical-align: middle;\n",
       "    }\n",
       "\n",
       "    .dataframe tbody tr th {\n",
       "        vertical-align: top;\n",
       "    }\n",
       "\n",
       "    .dataframe thead th {\n",
       "        text-align: right;\n",
       "    }\n",
       "</style>\n",
       "<table border=\"1\" class=\"dataframe\">\n",
       "  <thead>\n",
       "    <tr style=\"text-align: right;\">\n",
       "      <th></th>\n",
       "      <th>date</th>\n",
       "      <th>app_url_id</th>\n",
       "      <th>isp_or_carrier_id</th>\n",
       "      <th>device_type</th>\n",
       "      <th>exchange_id</th>\n",
       "      <th>operating_system</th>\n",
       "      <th>browser</th>\n",
       "      <th>creative_size</th>\n",
       "      <th>advertiser_currency</th>\n",
       "      <th>impressions</th>\n",
       "      <th>cpm</th>\n",
       "      <th>day_of_week</th>\n",
       "    </tr>\n",
       "  </thead>\n",
       "  <tbody>\n",
       "    <tr>\n",
       "      <th>0</th>\n",
       "      <td>2020-08-17</td>\n",
       "      <td>0.524698</td>\n",
       "      <td>1000</td>\n",
       "      <td>1.366175</td>\n",
       "      <td>1</td>\n",
       "      <td>1.644927</td>\n",
       "      <td>2.25401</td>\n",
       "      <td>1.559829</td>\n",
       "      <td>1.697978</td>\n",
       "      <td>2</td>\n",
       "      <td>0.0105</td>\n",
       "      <td>2.18576</td>\n",
       "    </tr>\n",
       "    <tr>\n",
       "      <th>1</th>\n",
       "      <td>2020-08-17</td>\n",
       "      <td>0.623311</td>\n",
       "      <td>1000</td>\n",
       "      <td>1.366175</td>\n",
       "      <td>1</td>\n",
       "      <td>1.321883</td>\n",
       "      <td>2.25401</td>\n",
       "      <td>2.062848</td>\n",
       "      <td>1.697978</td>\n",
       "      <td>2</td>\n",
       "      <td>0.0125</td>\n",
       "      <td>2.18576</td>\n",
       "    </tr>\n",
       "    <tr>\n",
       "      <th>2</th>\n",
       "      <td>2020-08-17</td>\n",
       "      <td>1.263673</td>\n",
       "      <td>207</td>\n",
       "      <td>1.366175</td>\n",
       "      <td>1</td>\n",
       "      <td>1.214288</td>\n",
       "      <td>2.25401</td>\n",
       "      <td>1.984722</td>\n",
       "      <td>1.697978</td>\n",
       "      <td>2</td>\n",
       "      <td>0.0200</td>\n",
       "      <td>2.18576</td>\n",
       "    </tr>\n",
       "    <tr>\n",
       "      <th>3</th>\n",
       "      <td>2020-08-17</td>\n",
       "      <td>1.263673</td>\n",
       "      <td>666</td>\n",
       "      <td>1.366175</td>\n",
       "      <td>1</td>\n",
       "      <td>1.321883</td>\n",
       "      <td>2.25401</td>\n",
       "      <td>1.984722</td>\n",
       "      <td>1.697978</td>\n",
       "      <td>2</td>\n",
       "      <td>0.0350</td>\n",
       "      <td>2.18576</td>\n",
       "    </tr>\n",
       "    <tr>\n",
       "      <th>4</th>\n",
       "      <td>2020-08-17</td>\n",
       "      <td>1.263673</td>\n",
       "      <td>1000</td>\n",
       "      <td>1.366175</td>\n",
       "      <td>1</td>\n",
       "      <td>1.321883</td>\n",
       "      <td>2.25401</td>\n",
       "      <td>1.984722</td>\n",
       "      <td>1.697978</td>\n",
       "      <td>4</td>\n",
       "      <td>0.0220</td>\n",
       "      <td>2.18576</td>\n",
       "    </tr>\n",
       "  </tbody>\n",
       "</table>\n",
       "</div>"
      ],
      "text/plain": [
       "        date  app_url_id  isp_or_carrier_id  device_type  exchange_id  \\\n",
       "0 2020-08-17    0.524698               1000     1.366175            1   \n",
       "1 2020-08-17    0.623311               1000     1.366175            1   \n",
       "2 2020-08-17    1.263673                207     1.366175            1   \n",
       "3 2020-08-17    1.263673                666     1.366175            1   \n",
       "4 2020-08-17    1.263673               1000     1.366175            1   \n",
       "\n",
       "   operating_system  browser  creative_size  advertiser_currency  impressions  \\\n",
       "0          1.644927  2.25401       1.559829             1.697978            2   \n",
       "1          1.321883  2.25401       2.062848             1.697978            2   \n",
       "2          1.214288  2.25401       1.984722             1.697978            2   \n",
       "3          1.321883  2.25401       1.984722             1.697978            2   \n",
       "4          1.321883  2.25401       1.984722             1.697978            4   \n",
       "\n",
       "      cpm  day_of_week  \n",
       "0  0.0105      2.18576  \n",
       "1  0.0125      2.18576  \n",
       "2  0.0200      2.18576  \n",
       "3  0.0350      2.18576  \n",
       "4  0.0220      2.18576  "
      ]
     },
     "execution_count": 17,
     "metadata": {},
     "output_type": "execute_result"
    }
   ],
   "source": [
    "#def target_encoder(df_temp, target, categorical, encoder):\n",
    "# Target Encoding\n",
    "# Make a copy of original dataset\n",
    "df_temp = df.copy()\n",
    "df_temp.drop(['line_item_id', 'io_id'], axis = 1, inplace = True)\n",
    "\n",
    "categorical = ['app_url_id', 'device_type', 'operating_system', \n",
    "               'browser','creative_size', 'advertiser_currency','day_of_week']\n",
    "\n",
    "import category_encoders as ce\n",
    "\n",
    "enc = ce.TargetEncoder(cols = categorical)\n",
    "\n",
    "# fit and transform\n",
    "encoded_cols = enc.fit_transform(df_temp[categorical], df_temp['cpm'])\n",
    "\n",
    "# merge encoded columns with dataset\n",
    "df_temp[list(encoded_cols)] = encoded_cols\n",
    "\n",
    "df_temp.head()"
   ]
  },
  {
   "cell_type": "markdown",
   "metadata": {
    "heading_collapsed": true,
    "hidden": true
   },
   "source": [
    "#### CatBoost Encoder\n",
    "    - Supported for continuous targets\n",
    "    - training data must be randomly permutated"
   ]
  },
  {
   "cell_type": "code",
   "execution_count": 7,
   "metadata": {
    "ExecuteTime": {
     "end_time": "2020-09-26T18:08:10.266447Z",
     "start_time": "2020-09-26T18:07:50.095380Z"
    },
    "code_folding": [],
    "hidden": true
   },
   "outputs": [
    {
     "data": {
      "text/html": [
       "<div>\n",
       "<style scoped>\n",
       "    .dataframe tbody tr th:only-of-type {\n",
       "        vertical-align: middle;\n",
       "    }\n",
       "\n",
       "    .dataframe tbody tr th {\n",
       "        vertical-align: top;\n",
       "    }\n",
       "\n",
       "    .dataframe thead th {\n",
       "        text-align: right;\n",
       "    }\n",
       "</style>\n",
       "<table border=\"1\" class=\"dataframe\">\n",
       "  <thead>\n",
       "    <tr style=\"text-align: right;\">\n",
       "      <th></th>\n",
       "      <th>date</th>\n",
       "      <th>app_url_id</th>\n",
       "      <th>isp_or_carrier_id</th>\n",
       "      <th>device_type</th>\n",
       "      <th>exchange_id</th>\n",
       "      <th>operating_system</th>\n",
       "      <th>browser</th>\n",
       "      <th>creative_size</th>\n",
       "      <th>advertiser_currency</th>\n",
       "      <th>impressions</th>\n",
       "      <th>cpm</th>\n",
       "      <th>day_of_week</th>\n",
       "    </tr>\n",
       "  </thead>\n",
       "  <tbody>\n",
       "    <tr>\n",
       "      <th>0</th>\n",
       "      <td>2020-08-26</td>\n",
       "      <td>2.10074</td>\n",
       "      <td>219</td>\n",
       "      <td>2.100740</td>\n",
       "      <td>36</td>\n",
       "      <td>2.100740</td>\n",
       "      <td>2.100740</td>\n",
       "      <td>2.100740</td>\n",
       "      <td>2.100740</td>\n",
       "      <td>3</td>\n",
       "      <td>1.649333</td>\n",
       "      <td>2.100740</td>\n",
       "    </tr>\n",
       "    <tr>\n",
       "      <th>1</th>\n",
       "      <td>2020-08-19</td>\n",
       "      <td>2.10074</td>\n",
       "      <td>70272</td>\n",
       "      <td>2.100740</td>\n",
       "      <td>1</td>\n",
       "      <td>1.875036</td>\n",
       "      <td>1.875036</td>\n",
       "      <td>2.100740</td>\n",
       "      <td>1.875036</td>\n",
       "      <td>1</td>\n",
       "      <td>0.453000</td>\n",
       "      <td>1.875036</td>\n",
       "    </tr>\n",
       "    <tr>\n",
       "      <th>2</th>\n",
       "      <td>2020-08-27</td>\n",
       "      <td>2.10074</td>\n",
       "      <td>133</td>\n",
       "      <td>2.100740</td>\n",
       "      <td>1</td>\n",
       "      <td>2.100740</td>\n",
       "      <td>1.401024</td>\n",
       "      <td>2.100740</td>\n",
       "      <td>2.100740</td>\n",
       "      <td>2</td>\n",
       "      <td>1.876500</td>\n",
       "      <td>2.100740</td>\n",
       "    </tr>\n",
       "    <tr>\n",
       "      <th>3</th>\n",
       "      <td>2020-08-24</td>\n",
       "      <td>2.10074</td>\n",
       "      <td>70090</td>\n",
       "      <td>1.875036</td>\n",
       "      <td>1</td>\n",
       "      <td>2.100740</td>\n",
       "      <td>2.100740</td>\n",
       "      <td>2.100740</td>\n",
       "      <td>1.401024</td>\n",
       "      <td>2</td>\n",
       "      <td>8.002000</td>\n",
       "      <td>2.100740</td>\n",
       "    </tr>\n",
       "    <tr>\n",
       "      <th>4</th>\n",
       "      <td>2020-08-18</td>\n",
       "      <td>2.10074</td>\n",
       "      <td>46</td>\n",
       "      <td>3.917358</td>\n",
       "      <td>1</td>\n",
       "      <td>2.100740</td>\n",
       "      <td>1.519893</td>\n",
       "      <td>1.875036</td>\n",
       "      <td>2.100740</td>\n",
       "      <td>2</td>\n",
       "      <td>1.521000</td>\n",
       "      <td>2.100740</td>\n",
       "    </tr>\n",
       "  </tbody>\n",
       "</table>\n",
       "</div>"
      ],
      "text/plain": [
       "        date  app_url_id  isp_or_carrier_id  device_type  exchange_id  \\\n",
       "0 2020-08-26     2.10074                219     2.100740           36   \n",
       "1 2020-08-19     2.10074              70272     2.100740            1   \n",
       "2 2020-08-27     2.10074                133     2.100740            1   \n",
       "3 2020-08-24     2.10074              70090     1.875036            1   \n",
       "4 2020-08-18     2.10074                 46     3.917358            1   \n",
       "\n",
       "   operating_system   browser  creative_size  advertiser_currency  \\\n",
       "0          2.100740  2.100740       2.100740             2.100740   \n",
       "1          1.875036  1.875036       2.100740             1.875036   \n",
       "2          2.100740  1.401024       2.100740             2.100740   \n",
       "3          2.100740  2.100740       2.100740             1.401024   \n",
       "4          2.100740  1.519893       1.875036             2.100740   \n",
       "\n",
       "   impressions       cpm  day_of_week  \n",
       "0            3  1.649333     2.100740  \n",
       "1            1  0.453000     1.875036  \n",
       "2            2  1.876500     2.100740  \n",
       "3            2  8.002000     2.100740  \n",
       "4            2  1.521000     2.100740  "
      ]
     },
     "execution_count": 7,
     "metadata": {},
     "output_type": "execute_result"
    }
   ],
   "source": [
    "#def catboost(df_temp, categorical, target, encoder):\n",
    "from category_encoders import CatBoostEncoder\n",
    "import category_encoders as ce\n",
    "\n",
    "# Make a copy of original dataset\n",
    "df_temp = df.copy()\n",
    "df_temp.drop(['line_item_id', 'io_id'], axis = 1, inplace = True)\n",
    "\n",
    "# Random permutation \n",
    "perm = np.random.permutation(len(df_temp)) \n",
    "#X = X.iloc[perm].reset_index(drop=True) \n",
    "#y = y.iloc[perm].reset_index(drop=True)\n",
    "df_temp = df_temp.iloc[perm].reset_index(drop = True)\n",
    "\n",
    "# CatBoostEncoder\n",
    "categorical = ['app_url_id', 'device_type', 'operating_system', \n",
    "               'browser','creative_size', 'advertiser_currency','day_of_week']\n",
    "enc = CatBoostEncoder(cols = categorical, )\n",
    "\n",
    "# fit and transform\n",
    "cat_boost_encoded_cols = enc.fit_transform(df_temp[categorical], df_temp['cpm'])\n",
    "# Merge encoded columns with original \n",
    "df_temp[list(cat_boost_encoded_cols)] = cat_boost_encoded_cols\n",
    "df_temp.head()"
   ]
  },
  {
   "cell_type": "markdown",
   "metadata": {
    "deletable": false,
    "editable": false,
    "heading_collapsed": true,
    "hidden": true,
    "run_control": {
     "frozen": true
    }
   },
   "source": [
    "#### Generalized Linear Mixed Model Encoder"
   ]
  },
  {
   "cell_type": "code",
   "execution_count": 12,
   "metadata": {
    "ExecuteTime": {
     "end_time": "2020-09-26T18:25:34.007244Z",
     "start_time": "2020-09-26T18:22:27.417298Z"
    },
    "code_folding": [],
    "deletable": false,
    "editable": false,
    "hidden": true,
    "run_control": {
     "frozen": true
    }
   },
   "outputs": [
    {
     "data": {
      "text/html": [
       "<div>\n",
       "<style scoped>\n",
       "    .dataframe tbody tr th:only-of-type {\n",
       "        vertical-align: middle;\n",
       "    }\n",
       "\n",
       "    .dataframe tbody tr th {\n",
       "        vertical-align: top;\n",
       "    }\n",
       "\n",
       "    .dataframe thead th {\n",
       "        text-align: right;\n",
       "    }\n",
       "</style>\n",
       "<table border=\"1\" class=\"dataframe\">\n",
       "  <thead>\n",
       "    <tr style=\"text-align: right;\">\n",
       "      <th></th>\n",
       "      <th>date</th>\n",
       "      <th>app_url_id</th>\n",
       "      <th>isp_or_carrier_id</th>\n",
       "      <th>device_type</th>\n",
       "      <th>exchange_id</th>\n",
       "      <th>operating_system</th>\n",
       "      <th>browser</th>\n",
       "      <th>creative_size</th>\n",
       "      <th>advertiser_currency</th>\n",
       "      <th>impressions</th>\n",
       "      <th>cpm</th>\n",
       "      <th>day_of_week</th>\n",
       "    </tr>\n",
       "  </thead>\n",
       "  <tbody>\n",
       "    <tr>\n",
       "      <th>0</th>\n",
       "      <td>2020-08-17</td>\n",
       "      <td>-1.981486</td>\n",
       "      <td>1000</td>\n",
       "      <td>-0.292915</td>\n",
       "      <td>1</td>\n",
       "      <td>-0.179662</td>\n",
       "      <td>0.724302</td>\n",
       "      <td>-0.256402</td>\n",
       "      <td>-0.446941</td>\n",
       "      <td>2</td>\n",
       "      <td>0.0105</td>\n",
       "      <td>-0.115878</td>\n",
       "    </tr>\n",
       "    <tr>\n",
       "      <th>1</th>\n",
       "      <td>2020-08-17</td>\n",
       "      <td>-1.957092</td>\n",
       "      <td>1000</td>\n",
       "      <td>-0.292915</td>\n",
       "      <td>1</td>\n",
       "      <td>-0.502950</td>\n",
       "      <td>0.724302</td>\n",
       "      <td>0.246615</td>\n",
       "      <td>-0.446941</td>\n",
       "      <td>2</td>\n",
       "      <td>0.0125</td>\n",
       "      <td>-0.115878</td>\n",
       "    </tr>\n",
       "    <tr>\n",
       "      <th>2</th>\n",
       "      <td>2020-08-17</td>\n",
       "      <td>-1.317330</td>\n",
       "      <td>207</td>\n",
       "      <td>-0.292915</td>\n",
       "      <td>1</td>\n",
       "      <td>-0.607503</td>\n",
       "      <td>0.724302</td>\n",
       "      <td>0.168489</td>\n",
       "      <td>-0.446941</td>\n",
       "      <td>2</td>\n",
       "      <td>0.0200</td>\n",
       "      <td>-0.115878</td>\n",
       "    </tr>\n",
       "    <tr>\n",
       "      <th>3</th>\n",
       "      <td>2020-08-17</td>\n",
       "      <td>-1.317330</td>\n",
       "      <td>666</td>\n",
       "      <td>-0.292915</td>\n",
       "      <td>1</td>\n",
       "      <td>-0.502950</td>\n",
       "      <td>0.724302</td>\n",
       "      <td>0.168489</td>\n",
       "      <td>-0.446941</td>\n",
       "      <td>2</td>\n",
       "      <td>0.0350</td>\n",
       "      <td>-0.115878</td>\n",
       "    </tr>\n",
       "    <tr>\n",
       "      <th>4</th>\n",
       "      <td>2020-08-17</td>\n",
       "      <td>-1.317330</td>\n",
       "      <td>1000</td>\n",
       "      <td>-0.292915</td>\n",
       "      <td>1</td>\n",
       "      <td>-0.502950</td>\n",
       "      <td>0.724302</td>\n",
       "      <td>0.168489</td>\n",
       "      <td>-0.446941</td>\n",
       "      <td>4</td>\n",
       "      <td>0.0220</td>\n",
       "      <td>-0.115878</td>\n",
       "    </tr>\n",
       "  </tbody>\n",
       "</table>\n",
       "</div>"
      ],
      "text/plain": [
       "        date  app_url_id  isp_or_carrier_id  device_type  exchange_id  \\\n",
       "0 2020-08-17   -1.981486               1000    -0.292915            1   \n",
       "1 2020-08-17   -1.957092               1000    -0.292915            1   \n",
       "2 2020-08-17   -1.317330                207    -0.292915            1   \n",
       "3 2020-08-17   -1.317330                666    -0.292915            1   \n",
       "4 2020-08-17   -1.317330               1000    -0.292915            1   \n",
       "\n",
       "   operating_system   browser  creative_size  advertiser_currency  \\\n",
       "0         -0.179662  0.724302      -0.256402            -0.446941   \n",
       "1         -0.502950  0.724302       0.246615            -0.446941   \n",
       "2         -0.607503  0.724302       0.168489            -0.446941   \n",
       "3         -0.502950  0.724302       0.168489            -0.446941   \n",
       "4         -0.502950  0.724302       0.168489            -0.446941   \n",
       "\n",
       "   impressions     cpm  day_of_week  \n",
       "0            2  0.0105    -0.115878  \n",
       "1            2  0.0125    -0.115878  \n",
       "2            2  0.0200    -0.115878  \n",
       "3            2  0.0350    -0.115878  \n",
       "4            4  0.0220    -0.115878  "
      ]
     },
     "execution_count": 12,
     "metadata": {},
     "output_type": "execute_result"
    }
   ],
   "source": [
    "#def glmm(df_temp, encoder, categorical, target):\n",
    "\n",
    "# Make a copy of original dataset\n",
    "df_temp = df.copy()\n",
    "df_temp.drop(['line_item_id', 'io_id'], axis = 1, inplace = True)\n",
    "\n",
    "# GLMM encoding\n",
    "categorical = ['app_url_id', 'device_type', 'operating_system', \n",
    "               'browser','creative_size', 'advertiser_currency','day_of_week']\n",
    "\n",
    "from category_encoders import GLMMEncoder\n",
    "\n",
    "enc = GLMMEncoder(cols = categorical, binomial_target=False)\n",
    "\n",
    "# fit and transform\n",
    "glmm_encoded_cols = enc.fit_transform(df_temp[categorical], df_temp['cpm'])\n",
    "\n",
    "# concat encoded columns into dataframe\n",
    "df_temp[list(glmm_encoded_cols)] = glmm_encoded_cols\n",
    "\n",
    "# Split dataset\n",
    "# X_train, X_test, y_train, y_test = test_split(df_temp, target)\n",
    "\n",
    "# Envoke training methods\n",
    "# training(X_train, X_test, y_train, y_test, encoder)\n",
    "df_temp.head()"
   ]
  },
  {
   "cell_type": "markdown",
   "metadata": {
    "heading_collapsed": true
   },
   "source": [
    "### Train-test split\n",
    "    Take the last available date as test data"
   ]
  },
  {
   "cell_type": "code",
   "execution_count": 13,
   "metadata": {
    "ExecuteTime": {
     "end_time": "2020-09-26T18:29:23.255754Z",
     "start_time": "2020-09-26T18:29:22.809721Z"
    },
    "code_folding": [],
    "hidden": true
   },
   "outputs": [
    {
     "name": "stdout",
     "output_type": "stream",
     "text": [
      "X_train shape: (1221473, 10) \n",
      "X_test shape: (170451, 10)\n"
     ]
    }
   ],
   "source": [
    "# Take 27/08/2020 as test dataset\n",
    "df_test = df_temp[df_temp['date'] == '2020-08-27'].copy()\n",
    "df_train = df_temp.drop(df_test.index, axis = 0)\n",
    "\n",
    "# Separate train and test data into predictors and target\n",
    "df_test.drop('date', axis = 1, inplace = True)\n",
    "X_test = df_test.drop('cpm', axis = 1).to_numpy()\n",
    "y_test = df_test['cpm'].to_numpy()\n",
    "\n",
    "df_train.drop('date', axis = 1, inplace = True)\n",
    "X_train = df_train.drop('cpm', axis = 1).to_numpy()\n",
    "y_train = df_train['cpm'].to_numpy()\n",
    "\n",
    "# Shape of Train and test datasets\n",
    "print(\"X_train shape: {} \".format(X_train.shape))\n",
    "print(\"X_test shape: {}\".format(X_test.shape))\n",
    "\n",
    "del(df_temp)\n",
    "del(df_train)\n",
    "del(df_test)"
   ]
  },
  {
   "cell_type": "markdown",
   "metadata": {},
   "source": [
    "### Training"
   ]
  },
  {
   "cell_type": "markdown",
   "metadata": {
    "heading_collapsed": true
   },
   "source": [
    "#### Linear Regression"
   ]
  },
  {
   "cell_type": "code",
   "execution_count": 14,
   "metadata": {
    "ExecuteTime": {
     "end_time": "2020-09-26T18:29:29.042367Z",
     "start_time": "2020-09-26T18:29:28.602369Z"
    },
    "code_folding": [
     0
    ],
    "hidden": true
   },
   "outputs": [
    {
     "name": "stdout",
     "output_type": "stream",
     "text": [
      "Linear Regression\n",
      "Train R2 Score: 0.183\n",
      "Test R2 Score: -5.950\n",
      "Adjusted R2 train : 0.183\n",
      "Adjusted R2 test : -5.951\n",
      "MSE Test: 5.575259831907341\n",
      "MSE Train: 35.014435069337196\n"
     ]
    }
   ],
   "source": [
    "#def LR(X_train, X_test, y_train, y_test, encoder):\n",
    "#print(\"Encoder Used: {}\".format(encoder))\n",
    "\n",
    "from sklearn import linear_model\n",
    "from sklearn.metrics import mean_squared_error\n",
    "reg = linear_model.LinearRegression()\n",
    "reg.fit(X_train, y_train)\n",
    "\n",
    "# R2 Score\n",
    "\n",
    "r2_train = reg.score(X_train, y_train)\n",
    "r2_test = reg.score(X_test, y_test)\n",
    "print(\"Linear Regression\")\n",
    "print(\"Train R2 Score: {:.3f}\".format(r2_train))\n",
    "print(\"Test R2 Score: {:.3f}\".format(r2_test))\n",
    "\n",
    "# Adjusted R2\n",
    "adj_r2_train = (1-(1-r2_train) * ((X_train.shape[0] - 1)/(X_train.shape[0] - X_train.shape[1] - 1)))\n",
    "adj_r2_test = (1-(1-r2_test) * ((X_test.shape[0] - 1)/(X_test.shape[0] - X_test.shape[1] - 1)))\n",
    "print(\"Adjusted R2 train : {:.3f}\".format(adj_r2_train))\n",
    "print(\"Adjusted R2 test : {:.3f}\".format(adj_r2_test))\n",
    "\n",
    "# MSE\n",
    "mse_train = mean_squared_error(y_train, reg.predict(X_train))\n",
    "mse_test = mean_squared_error(y_test, reg.predict(X_test))\n",
    "#print(\"Linear Regression\")\n",
    "print(\"MSE Test: {}\".format(mse_test))\n",
    "print(\"MSE Train: {}\".format(mse_train))"
   ]
  },
  {
   "cell_type": "markdown",
   "metadata": {
    "heading_collapsed": true
   },
   "source": [
    "#### SKlearn's new HistGradientBoostingRegressor"
   ]
  },
  {
   "cell_type": "code",
   "execution_count": 15,
   "metadata": {
    "ExecuteTime": {
     "end_time": "2020-09-26T18:29:51.227649Z",
     "start_time": "2020-09-26T18:29:42.646620Z"
    },
    "code_folding": [],
    "hidden": true
   },
   "outputs": [
    {
     "name": "stdout",
     "output_type": "stream",
     "text": [
      "done in 5.053s\n",
      "HistGradientBoostingRegressor\n",
      "Train R2 Score: 0.373\n",
      "Test R2 Score: -16.263\n",
      "Adjusted R2 train : 0.373\n",
      "Adjusted R2 test : -16.264\n",
      "MSE on test: 13.847565416019894\n",
      "MSE on train: 26.889058304114553\n"
     ]
    }
   ],
   "source": [
    "#def HistGBR(X_train, X_test, y_train, y_test, encoder):\n",
    "#print(\"Encoder Used:{}\".format(encoder))\n",
    "\n",
    "from sklearn.experimental import enable_hist_gradient_boosting\n",
    "from sklearn.ensemble import HistGradientBoostingRegressor\n",
    "from time import time\n",
    "\n",
    "model = HistGradientBoostingRegressor()\n",
    "tic = time()\n",
    "model.fit(X_train, y_train)\n",
    "print(\"done in {:.3f}s\".format(time() - tic))\n",
    "\n",
    "# R2 score\n",
    "\n",
    "r2_train = model.score(X_train, y_train)\n",
    "r2_test = model.score(X_test, y_test)\n",
    "print(\"HistGradientBoostingRegressor\")\n",
    "print(\"Train R2 Score: {:.3f}\".format(r2_train))\n",
    "print(\"Test R2 Score: {:.3f}\".format(r2_test))\n",
    "\n",
    "# Adjusted R2\n",
    "adj_r2_train = (1-(1-r2_train) * ((X_train.shape[0] - 1)/(X_train.shape[0] - X_train.shape[1] - 1)))\n",
    "adj_r2_test = (1-(1-r2_test) * ((X_test.shape[0] - 1)/(X_test.shape[0] - X_test.shape[1] - 1)))\n",
    "print(\"Adjusted R2 train : {:.3f}\".format(adj_r2_train))\n",
    "print(\"Adjusted R2 test : {:.3f}\".format(adj_r2_test))\n",
    "\n",
    "# MSE\n",
    "mse_train = mean_squared_error(y_train, model.predict(X_train))\n",
    "mse_test = mean_squared_error(y_test, model.predict(X_test))\n",
    "print(\"MSE on test: {}\".format(mse_test))\n",
    "print(\"MSE on train: {}\".format(mse_train))"
   ]
  },
  {
   "cell_type": "markdown",
   "metadata": {
    "heading_collapsed": true
   },
   "source": [
    "#### GradientBoostingRegressor"
   ]
  },
  {
   "cell_type": "code",
   "execution_count": 16,
   "metadata": {
    "ExecuteTime": {
     "end_time": "2020-09-26T18:31:59.943096Z",
     "start_time": "2020-09-26T18:29:51.230653Z"
    },
    "code_folding": [],
    "hidden": true
   },
   "outputs": [
    {
     "name": "stdout",
     "output_type": "stream",
     "text": [
      "GradientBoostingRegressor\n",
      "Train R2 Score: 0.2778474178605824\n",
      "Test R2 Score: -8.274777918858792\n",
      "Adjusted R2 train : 0.278\n",
      "Adjusted R2 test : -8.275\n",
      "GradientBoostingRegressor\n",
      "MSE on test: 7.439814622113635\n",
      "MSE on train: 30.947001192645605\n"
     ]
    }
   ],
   "source": [
    "#def GBR(X_train, X_test, y_train, y_test, encoder):\n",
    "#print(\"Encoder Used: {}\".format(encoder))\n",
    "\n",
    "from sklearn.ensemble import GradientBoostingRegressor\n",
    "model = GradientBoostingRegressor().fit(X_train, y_train)\n",
    "\n",
    "# R2 Score\n",
    "r2_train = model.score(X_train, y_train)\n",
    "r2_test = model.score(X_test, y_test)\n",
    "print(\"GradientBoostingRegressor\")\n",
    "print(\"Train R2 Score: {}\".format(r2_train))\n",
    "print(\"Test R2 Score: {}\".format(r2_test))\n",
    "\n",
    "# Adjusted R2\n",
    "adj_r2_train = (1-(1-r2_train) * ((X_train.shape[0] - 1)/(X_train.shape[0] - X_train.shape[1] - 1)))\n",
    "adj_r2_test = (1-(1-r2_test) * ((X_test.shape[0] - 1)/(X_test.shape[0] - X_test.shape[1] - 1)))\n",
    "print(\"Adjusted R2 train : {:.3f}\".format(adj_r2_train))\n",
    "print(\"Adjusted R2 test : {:.3f}\".format(adj_r2_test))\n",
    "\n",
    "# MSE\n",
    "mse_train = mean_squared_error(y_train, model.predict(X_train))\n",
    "mse_test = mean_squared_error(y_test, model.predict(X_test))\n",
    "print(\"GradientBoostingRegressor\")\n",
    "print(\"MSE on test: {}\".format(mse_test))\n",
    "print(\"MSE on train: {}\".format(mse_train))"
   ]
  },
  {
   "cell_type": "markdown",
   "metadata": {
    "hidden": true
   },
   "source": [
    "    These models are definitely overfitting, choice of encoding could be one of the reason"
   ]
  }
 ],
 "metadata": {
  "kernelspec": {
   "display_name": "Python 3",
   "language": "python",
   "name": "python3"
  },
  "language_info": {
   "codemirror_mode": {
    "name": "ipython",
    "version": 3
   },
   "file_extension": ".py",
   "mimetype": "text/x-python",
   "name": "python",
   "nbconvert_exporter": "python",
   "pygments_lexer": "ipython3",
   "version": "3.7.6"
  },
  "toc": {
   "base_numbering": 1,
   "nav_menu": {},
   "number_sections": true,
   "sideBar": true,
   "skip_h1_title": false,
   "title_cell": "Table of Contents",
   "title_sidebar": "Contents",
   "toc_cell": false,
   "toc_position": {
    "height": "calc(100% - 180px)",
    "left": "10px",
    "top": "150px",
    "width": "280px"
   },
   "toc_section_display": true,
   "toc_window_display": true
  },
  "varInspector": {
   "cols": {
    "lenName": 16,
    "lenType": 16,
    "lenVar": 40
   },
   "kernels_config": {
    "python": {
     "delete_cmd_postfix": "",
     "delete_cmd_prefix": "del ",
     "library": "var_list.py",
     "varRefreshCmd": "print(var_dic_list())"
    },
    "r": {
     "delete_cmd_postfix": ") ",
     "delete_cmd_prefix": "rm(",
     "library": "var_list.r",
     "varRefreshCmd": "cat(var_dic_list()) "
    }
   },
   "types_to_exclude": [
    "module",
    "function",
    "builtin_function_or_method",
    "instance",
    "_Feature"
   ],
   "window_display": false
  }
 },
 "nbformat": 4,
 "nbformat_minor": 4
}
