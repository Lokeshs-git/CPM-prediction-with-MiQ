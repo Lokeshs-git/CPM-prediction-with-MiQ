{
 "cells": [
  {
   "cell_type": "markdown",
   "metadata": {},
   "source": [
    "jt -t monokai -f fira -fs 13 -nf ptsans -nfs 11 -N -kl -cursw 5 -cursc r -cellw 95% -T"
   ]
  },
  {
   "cell_type": "markdown",
   "metadata": {
    "ExecuteTime": {
     "end_time": "2020-09-18T13:56:34.329419Z",
     "start_time": "2020-09-18T13:56:34.315890Z"
    }
   },
   "source": [
    "# Repository\n",
    "https://github.com/shiva-kumarj/CPM-prediction-with-MiQ"
   ]
  },
  {
   "cell_type": "markdown",
   "metadata": {},
   "source": [
    "## CPM Prediction for Real Time Bidding"
   ]
  },
  {
   "cell_type": "markdown",
   "metadata": {},
   "source": [
    "### Read the data"
   ]
  },
  {
   "cell_type": "code",
   "execution_count": 1,
   "metadata": {
    "ExecuteTime": {
     "end_time": "2020-09-18T13:58:22.416061Z",
     "start_time": "2020-09-18T13:58:21.130886Z"
    }
   },
   "outputs": [],
   "source": [
    "import pandas as pd\n",
    "import numpy as np\n",
    "import matplotlib.pyplot as plt\n",
    "import seaborn as sns"
   ]
  },
  {
   "cell_type": "code",
   "execution_count": 2,
   "metadata": {
    "ExecuteTime": {
     "end_time": "2020-09-18T13:58:24.271612Z",
     "start_time": "2020-09-18T13:58:22.427966Z"
    }
   },
   "outputs": [],
   "source": [
    "df = pd.read_csv('../data/train.csv')"
   ]
  },
  {
   "cell_type": "code",
   "execution_count": 3,
   "metadata": {
    "ExecuteTime": {
     "end_time": "2020-09-18T13:58:24.714046Z",
     "start_time": "2020-09-18T13:58:24.277620Z"
    }
   },
   "outputs": [
    {
     "name": "stdout",
     "output_type": "stream",
     "text": [
      "<class 'pandas.core.frame.DataFrame'>\n",
      "RangeIndex: 1397023 entries, 0 to 1397022\n",
      "Data columns (total 13 columns):\n",
      " #   Column               Non-Null Count    Dtype  \n",
      "---  ------               --------------    -----  \n",
      " 0   Line Item ID         1397023 non-null  int64  \n",
      " 1   Date                 1397023 non-null  object \n",
      " 2   App/URL ID           1397023 non-null  object \n",
      " 3   ISP or Carrier ID    1397023 non-null  int64  \n",
      " 4   Device Type          1397023 non-null  object \n",
      " 5   Exchange ID          1397023 non-null  int64  \n",
      " 6   Operating System     1397023 non-null  object \n",
      " 7   Browser              1397023 non-null  object \n",
      " 8   Creative Size        1397023 non-null  object \n",
      " 9   Advertiser Currency  1397023 non-null  object \n",
      " 10  Impressions          1397023 non-null  int64  \n",
      " 11  IO_ID                1397023 non-null  int64  \n",
      " 12  CPM                  1397023 non-null  float64\n",
      "dtypes: float64(1), int64(5), object(7)\n",
      "memory usage: 138.6+ MB\n"
     ]
    }
   ],
   "source": [
    "df.info()"
   ]
  },
  {
   "cell_type": "markdown",
   "metadata": {},
   "source": [
    "### primary data analysis"
   ]
  },
  {
   "cell_type": "markdown",
   "metadata": {},
   "source": [
    "What is ?\n",
    "- Line Item ID\n",
    "- IO_ID"
   ]
  },
  {
   "cell_type": "code",
   "execution_count": 4,
   "metadata": {
    "ExecuteTime": {
     "end_time": "2020-09-18T13:58:24.745873Z",
     "start_time": "2020-09-18T13:58:24.715873Z"
    }
   },
   "outputs": [
    {
     "data": {
      "text/html": [
       "<div>\n",
       "<style scoped>\n",
       "    .dataframe tbody tr th:only-of-type {\n",
       "        vertical-align: middle;\n",
       "    }\n",
       "\n",
       "    .dataframe tbody tr th {\n",
       "        vertical-align: top;\n",
       "    }\n",
       "\n",
       "    .dataframe thead th {\n",
       "        text-align: right;\n",
       "    }\n",
       "</style>\n",
       "<table border=\"1\" class=\"dataframe\">\n",
       "  <thead>\n",
       "    <tr style=\"text-align: right;\">\n",
       "      <th></th>\n",
       "      <th>Line Item ID</th>\n",
       "      <th>Date</th>\n",
       "      <th>App/URL ID</th>\n",
       "      <th>ISP or Carrier ID</th>\n",
       "      <th>Device Type</th>\n",
       "      <th>Exchange ID</th>\n",
       "      <th>Operating System</th>\n",
       "      <th>Browser</th>\n",
       "      <th>Creative Size</th>\n",
       "      <th>Advertiser Currency</th>\n",
       "      <th>Impressions</th>\n",
       "      <th>IO_ID</th>\n",
       "      <th>CPM</th>\n",
       "    </tr>\n",
       "  </thead>\n",
       "  <tbody>\n",
       "    <tr>\n",
       "      <th>0</th>\n",
       "      <td>2</td>\n",
       "      <td>17-08-2020</td>\n",
       "      <td>1.5164E+11</td>\n",
       "      <td>1000</td>\n",
       "      <td>Desktop</td>\n",
       "      <td>1</td>\n",
       "      <td>Macintosh</td>\n",
       "      <td>Chrome</td>\n",
       "      <td>728x90</td>\n",
       "      <td>CAD</td>\n",
       "      <td>2</td>\n",
       "      <td>1</td>\n",
       "      <td>0.0105</td>\n",
       "    </tr>\n",
       "    <tr>\n",
       "      <th>1</th>\n",
       "      <td>2</td>\n",
       "      <td>17-08-2020</td>\n",
       "      <td>1362605575</td>\n",
       "      <td>1000</td>\n",
       "      <td>Desktop</td>\n",
       "      <td>1</td>\n",
       "      <td>Windows 10</td>\n",
       "      <td>Chrome</td>\n",
       "      <td>300x600</td>\n",
       "      <td>CAD</td>\n",
       "      <td>2</td>\n",
       "      <td>1</td>\n",
       "      <td>0.0125</td>\n",
       "    </tr>\n",
       "    <tr>\n",
       "      <th>2</th>\n",
       "      <td>2</td>\n",
       "      <td>17-08-2020</td>\n",
       "      <td>20303819748</td>\n",
       "      <td>207</td>\n",
       "      <td>Desktop</td>\n",
       "      <td>1</td>\n",
       "      <td>Windows 7</td>\n",
       "      <td>Chrome</td>\n",
       "      <td>160x600</td>\n",
       "      <td>CAD</td>\n",
       "      <td>2</td>\n",
       "      <td>1</td>\n",
       "      <td>0.0200</td>\n",
       "    </tr>\n",
       "    <tr>\n",
       "      <th>3</th>\n",
       "      <td>2</td>\n",
       "      <td>17-08-2020</td>\n",
       "      <td>20303819748</td>\n",
       "      <td>666</td>\n",
       "      <td>Desktop</td>\n",
       "      <td>1</td>\n",
       "      <td>Windows 10</td>\n",
       "      <td>Chrome</td>\n",
       "      <td>160x600</td>\n",
       "      <td>CAD</td>\n",
       "      <td>2</td>\n",
       "      <td>1</td>\n",
       "      <td>0.0350</td>\n",
       "    </tr>\n",
       "    <tr>\n",
       "      <th>4</th>\n",
       "      <td>2</td>\n",
       "      <td>17-08-2020</td>\n",
       "      <td>20303819748</td>\n",
       "      <td>1000</td>\n",
       "      <td>Desktop</td>\n",
       "      <td>1</td>\n",
       "      <td>Windows 10</td>\n",
       "      <td>Chrome</td>\n",
       "      <td>160x600</td>\n",
       "      <td>CAD</td>\n",
       "      <td>4</td>\n",
       "      <td>1</td>\n",
       "      <td>0.0220</td>\n",
       "    </tr>\n",
       "  </tbody>\n",
       "</table>\n",
       "</div>"
      ],
      "text/plain": [
       "   Line Item ID        Date   App/URL ID  ISP or Carrier ID Device Type  \\\n",
       "0             2  17-08-2020   1.5164E+11               1000     Desktop   \n",
       "1             2  17-08-2020   1362605575               1000     Desktop   \n",
       "2             2  17-08-2020  20303819748                207     Desktop   \n",
       "3             2  17-08-2020  20303819748                666     Desktop   \n",
       "4             2  17-08-2020  20303819748               1000     Desktop   \n",
       "\n",
       "   Exchange ID Operating System Browser Creative Size Advertiser Currency  \\\n",
       "0            1        Macintosh  Chrome        728x90                 CAD   \n",
       "1            1       Windows 10  Chrome       300x600                 CAD   \n",
       "2            1        Windows 7  Chrome       160x600                 CAD   \n",
       "3            1       Windows 10  Chrome       160x600                 CAD   \n",
       "4            1       Windows 10  Chrome       160x600                 CAD   \n",
       "\n",
       "   Impressions  IO_ID     CPM  \n",
       "0            2      1  0.0105  \n",
       "1            2      1  0.0125  \n",
       "2            2      1  0.0200  \n",
       "3            2      1  0.0350  \n",
       "4            4      1  0.0220  "
      ]
     },
     "execution_count": 4,
     "metadata": {},
     "output_type": "execute_result"
    }
   ],
   "source": [
    "df.head()"
   ]
  },
  {
   "cell_type": "code",
   "execution_count": 5,
   "metadata": {
    "ExecuteTime": {
     "end_time": "2020-09-18T13:58:24.952934Z",
     "start_time": "2020-09-18T13:58:24.746874Z"
    },
    "code_folding": []
   },
   "outputs": [],
   "source": [
    "# Convert date to correct dtype\n",
    "df['Date'] = pd.to_datetime(df['Date'], format = '%d-%m-%Y')"
   ]
  },
  {
   "cell_type": "code",
   "execution_count": 6,
   "metadata": {
    "ExecuteTime": {
     "end_time": "2020-09-18T13:58:25.031987Z",
     "start_time": "2020-09-18T13:58:24.960884Z"
    },
    "code_folding": []
   },
   "outputs": [
    {
     "name": "stdout",
     "output_type": "stream",
     "text": [
      "Start Date:  2020-08-17 00:00:00\n",
      "End Date:  2020-08-27 00:00:00\n"
     ]
    }
   ],
   "source": [
    "# Whats the date range\n",
    "date_info = dict(df['Date'].describe())\n",
    "print(\"Start Date: \", date_info['first'])\n",
    "print(\"End Date: \", date_info['last'])"
   ]
  },
  {
   "cell_type": "code",
   "execution_count": 7,
   "metadata": {
    "ExecuteTime": {
     "end_time": "2020-09-18T13:58:25.237506Z",
     "start_time": "2020-09-18T13:58:25.038878Z"
    }
   },
   "outputs": [
    {
     "data": {
      "text/plain": [
       "45435178628    1.084807\n",
       "2523807089     1.025252\n",
       "4.47405E+11    0.788391\n",
       "5.75679E+11    0.745872\n",
       "4871543971     0.696767\n",
       "                 ...   \n",
       "2.62542E+11    0.000072\n",
       "8.34459E+11    0.000072\n",
       "11373299464    0.000072\n",
       "5.89295E+11    0.000072\n",
       "18561388059    0.000072\n",
       "Name: App/URL ID, Length: 29290, dtype: float64"
      ]
     },
     "execution_count": 7,
     "metadata": {},
     "output_type": "execute_result"
    }
   ],
   "source": [
    "# number of unique App/URL ID\n",
    "# There are too many classes this. We can reduce such that, we take classes which capture 95% of data.\n",
    "\n",
    "df['App/URL ID'].value_counts(normalize = True) * 100"
   ]
  },
  {
   "cell_type": "code",
   "execution_count": 8,
   "metadata": {
    "ExecuteTime": {
     "end_time": "2020-09-18T13:58:25.269551Z",
     "start_time": "2020-09-18T13:58:25.240516Z"
    }
   },
   "outputs": [
    {
     "data": {
      "text/plain": [
       "1000     21.556195\n",
       "673       5.211009\n",
       "207       5.042007\n",
       "828       4.060706\n",
       "1         3.576534\n",
       "           ...    \n",
       "452       0.000072\n",
       "71142     0.000072\n",
       "474       0.000072\n",
       "71021     0.000072\n",
       "290       0.000072\n",
       "Name: ISP or Carrier ID, Length: 277, dtype: float64"
      ]
     },
     "execution_count": 8,
     "metadata": {},
     "output_type": "execute_result"
    }
   ],
   "source": [
    "# unique ISPs\n",
    "# reduce the number of classes to the onces which capture 95% of the data\n",
    "df['ISP or Carrier ID'].value_counts(normalize = True) * 100"
   ]
  },
  {
   "cell_type": "code",
   "execution_count": 9,
   "metadata": {
    "ExecuteTime": {
     "end_time": "2020-09-18T13:58:25.412623Z",
     "start_time": "2020-09-18T13:58:25.270515Z"
    }
   },
   "outputs": [
    {
     "data": {
      "text/plain": [
       "Smart Phone     0.478140\n",
       "Tablet          0.300974\n",
       "Desktop         0.208353\n",
       "Connected TV    0.012532\n",
       "Name: Device Type, dtype: float64"
      ]
     },
     "execution_count": 9,
     "metadata": {},
     "output_type": "execute_result"
    }
   ],
   "source": [
    "# unique Device types\n",
    "df['Device Type'].value_counts(normalize = True)"
   ]
  },
  {
   "cell_type": "code",
   "execution_count": 10,
   "metadata": {
    "ExecuteTime": {
     "end_time": "2020-09-18T13:58:25.554624Z",
     "start_time": "2020-09-18T13:58:25.413624Z"
    }
   },
   "outputs": [
    {
     "data": {
      "text/plain": [
       "iOS 13.6                1.806606e-01\n",
       "Android 10.0            1.559395e-01\n",
       "Windows 10              1.353743e-01\n",
       "Android 9.0             1.003734e-01\n",
       "iOS 13.5                4.263280e-02\n",
       "                            ...     \n",
       "iOS 5.0                 6.442270e-06\n",
       "Windows Other           5.726463e-06\n",
       "Windows Phone OS 8.0    5.010655e-06\n",
       "iOS 6.0                 3.579039e-06\n",
       "Android 3.1             7.158078e-07\n",
       "Name: Operating System, Length: 67, dtype: float64"
      ]
     },
     "execution_count": 10,
     "metadata": {},
     "output_type": "execute_result"
    }
   ],
   "source": [
    "# operating systems in the dataset\n",
    "# \n",
    "df['Operating System'].value_counts(normalize = True)"
   ]
  },
  {
   "cell_type": "code",
   "execution_count": 11,
   "metadata": {
    "ExecuteTime": {
     "end_time": "2020-09-18T13:58:25.697078Z",
     "start_time": "2020-09-18T13:58:25.557626Z"
    }
   },
   "outputs": [
    {
     "data": {
      "text/plain": [
       "Chrome                  6.460187e-01\n",
       "Safari                  2.655082e-01\n",
       "Microsoft Edge          4.817745e-02\n",
       "Safari 13               9.936128e-03\n",
       "Firefox                 9.894612e-03\n",
       "Other                   6.659876e-03\n",
       "Internet Explorer 11    5.307715e-03\n",
       "Opera                   3.974165e-03\n",
       "Safari 12               1.658527e-03\n",
       "Safari 11               1.591241e-03\n",
       "Safari 10               7.408611e-04\n",
       "Android Webkit          2.061527e-04\n",
       "Internet Explorer 7     1.632042e-04\n",
       "Safari 9                1.130976e-04\n",
       "Internet Explorer 10    1.503196e-05\n",
       "Safari 8                1.145293e-05\n",
       "Safari 6                1.145293e-05\n",
       "Safari 5                7.873886e-06\n",
       "Safari 7                2.863231e-06\n",
       "Internet Explorer 9     7.158078e-07\n",
       "Internet Explorer 8     7.158078e-07\n",
       "Name: Browser, dtype: float64"
      ]
     },
     "execution_count": 11,
     "metadata": {},
     "output_type": "execute_result"
    }
   ],
   "source": [
    "# Browsers\n",
    "df['Browser'].value_counts(normalize = True)"
   ]
  },
  {
   "cell_type": "code",
   "execution_count": 12,
   "metadata": {
    "ExecuteTime": {
     "end_time": "2020-09-18T13:58:25.841123Z",
     "start_time": "2020-09-18T13:58:25.702102Z"
    }
   },
   "outputs": [
    {
     "data": {
      "text/plain": [
       "GBP    0.529482\n",
       "CAD    0.290519\n",
       "EUR    0.179999\n",
       "Name: Advertiser Currency, dtype: float64"
      ]
     },
     "execution_count": 12,
     "metadata": {},
     "output_type": "execute_result"
    }
   ],
   "source": [
    "# country of origin of the advertizers\n",
    "df['Advertiser Currency'].value_counts(normalize = True)"
   ]
  },
  {
   "cell_type": "code",
   "execution_count": 13,
   "metadata": {
    "ExecuteTime": {
     "end_time": "2020-09-18T13:58:25.983602Z",
     "start_time": "2020-09-18T13:58:25.843091Z"
    }
   },
   "outputs": [
    {
     "data": {
      "text/plain": [
       "300x250    576693\n",
       "728x90     352068\n",
       "300x600    202789\n",
       "160x600    142351\n",
       "320x50     101835\n",
       "120x600     12810\n",
       "970x250      8477\n",
       "Name: Creative Size, dtype: int64"
      ]
     },
     "execution_count": 13,
     "metadata": {},
     "output_type": "execute_result"
    }
   ],
   "source": [
    "# types of creative size\n",
    "df['Creative Size'].value_counts()"
   ]
  },
  {
   "cell_type": "code",
   "execution_count": 14,
   "metadata": {
    "ExecuteTime": {
     "end_time": "2020-09-18T14:15:39.239800Z",
     "start_time": "2020-09-18T14:15:39.172814Z"
    }
   },
   "outputs": [
    {
     "data": {
      "text/plain": [
       "count    1.397023e+06\n",
       "mean     2.100198e+00\n",
       "std      6.150170e+00\n",
       "min      7.500000e-03\n",
       "25%      5.380000e-01\n",
       "50%      8.273333e-01\n",
       "75%      1.903000e+00\n",
       "max      1.000970e+02\n",
       "Name: CPM, dtype: float64"
      ]
     },
     "execution_count": 14,
     "metadata": {},
     "output_type": "execute_result"
    }
   ],
   "source": [
    "# distribution of CPM\n",
    "df['CPM'].describe()"
   ]
  },
  {
   "cell_type": "code",
   "execution_count": 15,
   "metadata": {
    "ExecuteTime": {
     "end_time": "2020-09-18T14:50:37.359798Z",
     "start_time": "2020-09-18T14:50:37.005766Z"
    }
   },
   "outputs": [
    {
     "name": "stdout",
     "output_type": "stream",
     "text": [
      "<class 'pandas.core.frame.DataFrame'>\n",
      "RangeIndex: 1397023 entries, 0 to 1397022\n",
      "Data columns (total 13 columns):\n",
      " #   Column               Non-Null Count    Dtype         \n",
      "---  ------               --------------    -----         \n",
      " 0   Line Item ID         1397023 non-null  int64         \n",
      " 1   Date                 1397023 non-null  datetime64[ns]\n",
      " 2   App/URL ID           1397023 non-null  object        \n",
      " 3   ISP or Carrier ID    1397023 non-null  int64         \n",
      " 4   Device Type          1397023 non-null  object        \n",
      " 5   Exchange ID          1397023 non-null  int64         \n",
      " 6   Operating System     1397023 non-null  object        \n",
      " 7   Browser              1397023 non-null  object        \n",
      " 8   Creative Size        1397023 non-null  object        \n",
      " 9   Advertiser Currency  1397023 non-null  object        \n",
      " 10  Impressions          1397023 non-null  int64         \n",
      " 11  IO_ID                1397023 non-null  int64         \n",
      " 12  CPM                  1397023 non-null  float64       \n",
      "dtypes: datetime64[ns](1), float64(1), int64(5), object(6)\n",
      "memory usage: 138.6+ MB\n"
     ]
    }
   ],
   "source": [
    "df.info()"
   ]
  },
  {
   "cell_type": "code",
   "execution_count": null,
   "metadata": {},
   "outputs": [],
   "source": []
  }
 ],
 "metadata": {
  "kernelspec": {
   "display_name": "Python 3",
   "language": "python",
   "name": "python3"
  },
  "language_info": {
   "codemirror_mode": {
    "name": "ipython",
    "version": 3
   },
   "file_extension": ".py",
   "mimetype": "text/x-python",
   "name": "python",
   "nbconvert_exporter": "python",
   "pygments_lexer": "ipython3",
   "version": "3.7.6"
  },
  "toc": {
   "base_numbering": 1,
   "nav_menu": {},
   "number_sections": true,
   "sideBar": true,
   "skip_h1_title": true,
   "title_cell": "Table of Contents",
   "title_sidebar": "Contents",
   "toc_cell": false,
   "toc_position": {
    "height": "calc(100% - 180px)",
    "left": "10px",
    "top": "150px",
    "width": "165px"
   },
   "toc_section_display": true,
   "toc_window_display": true
  },
  "varInspector": {
   "cols": {
    "lenName": 16,
    "lenType": 16,
    "lenVar": 40
   },
   "kernels_config": {
    "python": {
     "delete_cmd_postfix": "",
     "delete_cmd_prefix": "del ",
     "library": "var_list.py",
     "varRefreshCmd": "print(var_dic_list())"
    },
    "r": {
     "delete_cmd_postfix": ") ",
     "delete_cmd_prefix": "rm(",
     "library": "var_list.r",
     "varRefreshCmd": "cat(var_dic_list()) "
    }
   },
   "types_to_exclude": [
    "module",
    "function",
    "builtin_function_or_method",
    "instance",
    "_Feature"
   ],
   "window_display": false
  }
 },
 "nbformat": 4,
 "nbformat_minor": 4
}
