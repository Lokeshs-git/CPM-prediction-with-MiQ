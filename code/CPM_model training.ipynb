{
 "cells": [
  {
   "cell_type": "markdown",
   "metadata": {},
   "source": [
    "# Base Model"
   ]
  },
  {
   "cell_type": "code",
   "execution_count": 1,
   "metadata": {
    "ExecuteTime": {
     "end_time": "2020-09-24T01:58:32.063337Z",
     "start_time": "2020-09-24T01:58:30.891289Z"
    }
   },
   "outputs": [],
   "source": [
    "import numpy as np\n",
    "import pandas as pd\n",
    "import matplotlib.pyplot as plt\n"
   ]
  },
  {
   "cell_type": "code",
   "execution_count": 2,
   "metadata": {
    "ExecuteTime": {
     "end_time": "2020-09-24T01:58:33.916526Z",
     "start_time": "2020-09-24T01:58:32.063337Z"
    }
   },
   "outputs": [
    {
     "data": {
      "text/html": [
       "<div>\n",
       "<style scoped>\n",
       "    .dataframe tbody tr th:only-of-type {\n",
       "        vertical-align: middle;\n",
       "    }\n",
       "\n",
       "    .dataframe tbody tr th {\n",
       "        vertical-align: top;\n",
       "    }\n",
       "\n",
       "    .dataframe thead th {\n",
       "        text-align: right;\n",
       "    }\n",
       "</style>\n",
       "<table border=\"1\" class=\"dataframe\">\n",
       "  <thead>\n",
       "    <tr style=\"text-align: right;\">\n",
       "      <th></th>\n",
       "      <th>Line Item ID</th>\n",
       "      <th>Date</th>\n",
       "      <th>App/URL ID</th>\n",
       "      <th>ISP or Carrier ID</th>\n",
       "      <th>Device Type</th>\n",
       "      <th>Exchange ID</th>\n",
       "      <th>Operating System</th>\n",
       "      <th>Browser</th>\n",
       "      <th>Creative Size</th>\n",
       "      <th>Advertiser Currency</th>\n",
       "      <th>Impressions</th>\n",
       "      <th>IO_ID</th>\n",
       "      <th>CPM</th>\n",
       "    </tr>\n",
       "  </thead>\n",
       "  <tbody>\n",
       "    <tr>\n",
       "      <th>0</th>\n",
       "      <td>2</td>\n",
       "      <td>17-08-2020</td>\n",
       "      <td>1.5164E+11</td>\n",
       "      <td>1000</td>\n",
       "      <td>Desktop</td>\n",
       "      <td>1</td>\n",
       "      <td>Macintosh</td>\n",
       "      <td>Chrome</td>\n",
       "      <td>728x90</td>\n",
       "      <td>CAD</td>\n",
       "      <td>2</td>\n",
       "      <td>1</td>\n",
       "      <td>0.0105</td>\n",
       "    </tr>\n",
       "    <tr>\n",
       "      <th>1</th>\n",
       "      <td>2</td>\n",
       "      <td>17-08-2020</td>\n",
       "      <td>1362605575</td>\n",
       "      <td>1000</td>\n",
       "      <td>Desktop</td>\n",
       "      <td>1</td>\n",
       "      <td>Windows 10</td>\n",
       "      <td>Chrome</td>\n",
       "      <td>300x600</td>\n",
       "      <td>CAD</td>\n",
       "      <td>2</td>\n",
       "      <td>1</td>\n",
       "      <td>0.0125</td>\n",
       "    </tr>\n",
       "    <tr>\n",
       "      <th>2</th>\n",
       "      <td>2</td>\n",
       "      <td>17-08-2020</td>\n",
       "      <td>20303819748</td>\n",
       "      <td>207</td>\n",
       "      <td>Desktop</td>\n",
       "      <td>1</td>\n",
       "      <td>Windows 7</td>\n",
       "      <td>Chrome</td>\n",
       "      <td>160x600</td>\n",
       "      <td>CAD</td>\n",
       "      <td>2</td>\n",
       "      <td>1</td>\n",
       "      <td>0.0200</td>\n",
       "    </tr>\n",
       "    <tr>\n",
       "      <th>3</th>\n",
       "      <td>2</td>\n",
       "      <td>17-08-2020</td>\n",
       "      <td>20303819748</td>\n",
       "      <td>666</td>\n",
       "      <td>Desktop</td>\n",
       "      <td>1</td>\n",
       "      <td>Windows 10</td>\n",
       "      <td>Chrome</td>\n",
       "      <td>160x600</td>\n",
       "      <td>CAD</td>\n",
       "      <td>2</td>\n",
       "      <td>1</td>\n",
       "      <td>0.0350</td>\n",
       "    </tr>\n",
       "    <tr>\n",
       "      <th>4</th>\n",
       "      <td>2</td>\n",
       "      <td>17-08-2020</td>\n",
       "      <td>20303819748</td>\n",
       "      <td>1000</td>\n",
       "      <td>Desktop</td>\n",
       "      <td>1</td>\n",
       "      <td>Windows 10</td>\n",
       "      <td>Chrome</td>\n",
       "      <td>160x600</td>\n",
       "      <td>CAD</td>\n",
       "      <td>4</td>\n",
       "      <td>1</td>\n",
       "      <td>0.0220</td>\n",
       "    </tr>\n",
       "  </tbody>\n",
       "</table>\n",
       "</div>"
      ],
      "text/plain": [
       "   Line Item ID        Date   App/URL ID  ISP or Carrier ID Device Type  \\\n",
       "0             2  17-08-2020   1.5164E+11               1000     Desktop   \n",
       "1             2  17-08-2020   1362605575               1000     Desktop   \n",
       "2             2  17-08-2020  20303819748                207     Desktop   \n",
       "3             2  17-08-2020  20303819748                666     Desktop   \n",
       "4             2  17-08-2020  20303819748               1000     Desktop   \n",
       "\n",
       "   Exchange ID Operating System Browser Creative Size Advertiser Currency  \\\n",
       "0            1        Macintosh  Chrome        728x90                 CAD   \n",
       "1            1       Windows 10  Chrome       300x600                 CAD   \n",
       "2            1        Windows 7  Chrome       160x600                 CAD   \n",
       "3            1       Windows 10  Chrome       160x600                 CAD   \n",
       "4            1       Windows 10  Chrome       160x600                 CAD   \n",
       "\n",
       "   Impressions  IO_ID     CPM  \n",
       "0            2      1  0.0105  \n",
       "1            2      1  0.0125  \n",
       "2            2      1  0.0200  \n",
       "3            2      1  0.0350  \n",
       "4            4      1  0.0220  "
      ]
     },
     "execution_count": 2,
     "metadata": {},
     "output_type": "execute_result"
    }
   ],
   "source": [
    "df = pd.read_csv(\"../data/train.csv\")\n",
    "df.head()"
   ]
  },
  {
   "cell_type": "markdown",
   "metadata": {},
   "source": [
    "## Model Training\n",
    "### label encoding options:\n",
    "    - Target Encoding : Each class of a category is replaced with its mean at the target variable.\n",
    "                        It can lead to overfitting, to overcome that some gaussian noise can be \n",
    "                        introduced. Might not work very well with regression models.\n",
    "    - Hashing : Increases number of features, so categorical variables with high number of \n",
    "                classes will cause the datset to widen significantly, also the result \n",
    "                is a sparce matrix."
   ]
  },
  {
   "cell_type": "code",
   "execution_count": 3,
   "metadata": {
    "ExecuteTime": {
     "end_time": "2020-09-24T01:58:33.932121Z",
     "start_time": "2020-09-24T01:58:33.916526Z"
    }
   },
   "outputs": [],
   "source": [
    "df.columns = ['line_item_id', 'date', 'app_url_id', 'isp_or_carrier_id',\n",
    "              'device_type', 'exchange_id', 'operating_system', 'browser',\n",
    "              'creative_size', 'advertiser_currency', 'impressions', 'io_id', 'cpm']"
   ]
  },
  {
   "cell_type": "code",
   "execution_count": 4,
   "metadata": {
    "ExecuteTime": {
     "end_time": "2020-09-24T01:58:34.549277Z",
     "start_time": "2020-09-24T01:58:33.932121Z"
    }
   },
   "outputs": [],
   "source": [
    "# Change dtype of date\n",
    "df['date'] = pd.to_datetime(df['date'], format = '%d-%m-%Y')\n",
    "# get day of week\n",
    "import datetime as dt\n",
    "df['day_of_week'] = df['date'].dt.day_name()"
   ]
  },
  {
   "cell_type": "code",
   "execution_count": 5,
   "metadata": {
    "ExecuteTime": {
     "end_time": "2020-09-24T01:58:34.571797Z",
     "start_time": "2020-09-24T01:58:34.549277Z"
    }
   },
   "outputs": [],
   "source": [
    "# drop date\n",
    "#df.drop('date', inplace = True, axis = 1)"
   ]
  },
  {
   "cell_type": "code",
   "execution_count": 6,
   "metadata": {
    "ExecuteTime": {
     "end_time": "2020-09-24T01:58:35.044674Z",
     "start_time": "2020-09-24T01:58:34.571797Z"
    }
   },
   "outputs": [],
   "source": [
    "# drop app/urls which are unknown, since its a very small fraction of the total data\n",
    "unknown_app_ids = df[df['app_url_id'] == 'Unknown'].index\n",
    "df.drop(unknown_app_ids, axis = 0, inplace = True)"
   ]
  },
  {
   "cell_type": "code",
   "execution_count": 7,
   "metadata": {
    "ExecuteTime": {
     "end_time": "2020-09-24T01:58:35.667776Z",
     "start_time": "2020-09-24T01:58:35.044674Z"
    }
   },
   "outputs": [],
   "source": [
    "# convert dtype of app_url_id\n",
    "df['app_url_id'] = pd.to_numeric(df['app_url_id'])"
   ]
  },
  {
   "cell_type": "code",
   "execution_count": 8,
   "metadata": {
    "ExecuteTime": {
     "end_time": "2020-09-24T01:58:35.699100Z",
     "start_time": "2020-09-24T01:58:35.667776Z"
    },
    "scrolled": true
   },
   "outputs": [
    {
     "data": {
      "text/html": [
       "<div>\n",
       "<style scoped>\n",
       "    .dataframe tbody tr th:only-of-type {\n",
       "        vertical-align: middle;\n",
       "    }\n",
       "\n",
       "    .dataframe tbody tr th {\n",
       "        vertical-align: top;\n",
       "    }\n",
       "\n",
       "    .dataframe thead th {\n",
       "        text-align: right;\n",
       "    }\n",
       "</style>\n",
       "<table border=\"1\" class=\"dataframe\">\n",
       "  <thead>\n",
       "    <tr style=\"text-align: right;\">\n",
       "      <th></th>\n",
       "      <th>line_item_id</th>\n",
       "      <th>date</th>\n",
       "      <th>app_url_id</th>\n",
       "      <th>isp_or_carrier_id</th>\n",
       "      <th>device_type</th>\n",
       "      <th>exchange_id</th>\n",
       "      <th>operating_system</th>\n",
       "      <th>browser</th>\n",
       "      <th>creative_size</th>\n",
       "      <th>advertiser_currency</th>\n",
       "      <th>impressions</th>\n",
       "      <th>io_id</th>\n",
       "      <th>cpm</th>\n",
       "      <th>day_of_week</th>\n",
       "    </tr>\n",
       "  </thead>\n",
       "  <tbody>\n",
       "    <tr>\n",
       "      <th>0</th>\n",
       "      <td>2</td>\n",
       "      <td>2020-08-17</td>\n",
       "      <td>1.516400e+11</td>\n",
       "      <td>1000</td>\n",
       "      <td>Desktop</td>\n",
       "      <td>1</td>\n",
       "      <td>Macintosh</td>\n",
       "      <td>Chrome</td>\n",
       "      <td>728x90</td>\n",
       "      <td>CAD</td>\n",
       "      <td>2</td>\n",
       "      <td>1</td>\n",
       "      <td>0.0105</td>\n",
       "      <td>Monday</td>\n",
       "    </tr>\n",
       "    <tr>\n",
       "      <th>1</th>\n",
       "      <td>2</td>\n",
       "      <td>2020-08-17</td>\n",
       "      <td>1.362606e+09</td>\n",
       "      <td>1000</td>\n",
       "      <td>Desktop</td>\n",
       "      <td>1</td>\n",
       "      <td>Windows 10</td>\n",
       "      <td>Chrome</td>\n",
       "      <td>300x600</td>\n",
       "      <td>CAD</td>\n",
       "      <td>2</td>\n",
       "      <td>1</td>\n",
       "      <td>0.0125</td>\n",
       "      <td>Monday</td>\n",
       "    </tr>\n",
       "    <tr>\n",
       "      <th>2</th>\n",
       "      <td>2</td>\n",
       "      <td>2020-08-17</td>\n",
       "      <td>2.030382e+10</td>\n",
       "      <td>207</td>\n",
       "      <td>Desktop</td>\n",
       "      <td>1</td>\n",
       "      <td>Windows 7</td>\n",
       "      <td>Chrome</td>\n",
       "      <td>160x600</td>\n",
       "      <td>CAD</td>\n",
       "      <td>2</td>\n",
       "      <td>1</td>\n",
       "      <td>0.0200</td>\n",
       "      <td>Monday</td>\n",
       "    </tr>\n",
       "    <tr>\n",
       "      <th>3</th>\n",
       "      <td>2</td>\n",
       "      <td>2020-08-17</td>\n",
       "      <td>2.030382e+10</td>\n",
       "      <td>666</td>\n",
       "      <td>Desktop</td>\n",
       "      <td>1</td>\n",
       "      <td>Windows 10</td>\n",
       "      <td>Chrome</td>\n",
       "      <td>160x600</td>\n",
       "      <td>CAD</td>\n",
       "      <td>2</td>\n",
       "      <td>1</td>\n",
       "      <td>0.0350</td>\n",
       "      <td>Monday</td>\n",
       "    </tr>\n",
       "    <tr>\n",
       "      <th>4</th>\n",
       "      <td>2</td>\n",
       "      <td>2020-08-17</td>\n",
       "      <td>2.030382e+10</td>\n",
       "      <td>1000</td>\n",
       "      <td>Desktop</td>\n",
       "      <td>1</td>\n",
       "      <td>Windows 10</td>\n",
       "      <td>Chrome</td>\n",
       "      <td>160x600</td>\n",
       "      <td>CAD</td>\n",
       "      <td>4</td>\n",
       "      <td>1</td>\n",
       "      <td>0.0220</td>\n",
       "      <td>Monday</td>\n",
       "    </tr>\n",
       "  </tbody>\n",
       "</table>\n",
       "</div>"
      ],
      "text/plain": [
       "   line_item_id       date    app_url_id  isp_or_carrier_id device_type  \\\n",
       "0             2 2020-08-17  1.516400e+11               1000     Desktop   \n",
       "1             2 2020-08-17  1.362606e+09               1000     Desktop   \n",
       "2             2 2020-08-17  2.030382e+10                207     Desktop   \n",
       "3             2 2020-08-17  2.030382e+10                666     Desktop   \n",
       "4             2 2020-08-17  2.030382e+10               1000     Desktop   \n",
       "\n",
       "   exchange_id operating_system browser creative_size advertiser_currency  \\\n",
       "0            1        Macintosh  Chrome        728x90                 CAD   \n",
       "1            1       Windows 10  Chrome       300x600                 CAD   \n",
       "2            1        Windows 7  Chrome       160x600                 CAD   \n",
       "3            1       Windows 10  Chrome       160x600                 CAD   \n",
       "4            1       Windows 10  Chrome       160x600                 CAD   \n",
       "\n",
       "   impressions  io_id     cpm day_of_week  \n",
       "0            2      1  0.0105      Monday  \n",
       "1            2      1  0.0125      Monday  \n",
       "2            2      1  0.0200      Monday  \n",
       "3            2      1  0.0350      Monday  \n",
       "4            4      1  0.0220      Monday  "
      ]
     },
     "execution_count": 8,
     "metadata": {},
     "output_type": "execute_result"
    }
   ],
   "source": [
    "df.head()"
   ]
  },
  {
   "cell_type": "code",
   "execution_count": 9,
   "metadata": {
    "ExecuteTime": {
     "end_time": "2020-09-24T01:58:41.855058Z",
     "start_time": "2020-09-24T01:58:35.699100Z"
    }
   },
   "outputs": [],
   "source": [
    "# Target Encoding\n",
    "categorical = ['app_url_id', 'device_type', 'operating_system', \n",
    "               'browser','creative_size', 'advertiser_currency','day_of_week']\n",
    "\n",
    "import category_encoders as ce\n",
    "\n",
    "enc = ce.TargetEncoder(cols = categorical)\n",
    "\n",
    "# fit and transform\n",
    "encoded_cols = enc.fit_transform(df[categorical], df['cpm'])"
   ]
  },
  {
   "cell_type": "code",
   "execution_count": 10,
   "metadata": {
    "ExecuteTime": {
     "end_time": "2020-09-24T01:58:41.886367Z",
     "start_time": "2020-09-24T01:58:41.855058Z"
    }
   },
   "outputs": [
    {
     "data": {
      "text/html": [
       "<div>\n",
       "<style scoped>\n",
       "    .dataframe tbody tr th:only-of-type {\n",
       "        vertical-align: middle;\n",
       "    }\n",
       "\n",
       "    .dataframe tbody tr th {\n",
       "        vertical-align: top;\n",
       "    }\n",
       "\n",
       "    .dataframe thead th {\n",
       "        text-align: right;\n",
       "    }\n",
       "</style>\n",
       "<table border=\"1\" class=\"dataframe\">\n",
       "  <thead>\n",
       "    <tr style=\"text-align: right;\">\n",
       "      <th></th>\n",
       "      <th>app_url_id</th>\n",
       "      <th>device_type</th>\n",
       "      <th>operating_system</th>\n",
       "      <th>browser</th>\n",
       "      <th>creative_size</th>\n",
       "      <th>advertiser_currency</th>\n",
       "      <th>day_of_week</th>\n",
       "    </tr>\n",
       "  </thead>\n",
       "  <tbody>\n",
       "    <tr>\n",
       "      <th>0</th>\n",
       "      <td>0.524698</td>\n",
       "      <td>1.366175</td>\n",
       "      <td>1.644927</td>\n",
       "      <td>2.25401</td>\n",
       "      <td>1.559829</td>\n",
       "      <td>1.697978</td>\n",
       "      <td>2.18576</td>\n",
       "    </tr>\n",
       "    <tr>\n",
       "      <th>1</th>\n",
       "      <td>0.623311</td>\n",
       "      <td>1.366175</td>\n",
       "      <td>1.321883</td>\n",
       "      <td>2.25401</td>\n",
       "      <td>2.062848</td>\n",
       "      <td>1.697978</td>\n",
       "      <td>2.18576</td>\n",
       "    </tr>\n",
       "    <tr>\n",
       "      <th>2</th>\n",
       "      <td>1.263673</td>\n",
       "      <td>1.366175</td>\n",
       "      <td>1.214288</td>\n",
       "      <td>2.25401</td>\n",
       "      <td>1.984722</td>\n",
       "      <td>1.697978</td>\n",
       "      <td>2.18576</td>\n",
       "    </tr>\n",
       "    <tr>\n",
       "      <th>3</th>\n",
       "      <td>1.263673</td>\n",
       "      <td>1.366175</td>\n",
       "      <td>1.321883</td>\n",
       "      <td>2.25401</td>\n",
       "      <td>1.984722</td>\n",
       "      <td>1.697978</td>\n",
       "      <td>2.18576</td>\n",
       "    </tr>\n",
       "    <tr>\n",
       "      <th>4</th>\n",
       "      <td>1.263673</td>\n",
       "      <td>1.366175</td>\n",
       "      <td>1.321883</td>\n",
       "      <td>2.25401</td>\n",
       "      <td>1.984722</td>\n",
       "      <td>1.697978</td>\n",
       "      <td>2.18576</td>\n",
       "    </tr>\n",
       "  </tbody>\n",
       "</table>\n",
       "</div>"
      ],
      "text/plain": [
       "   app_url_id  device_type  operating_system  browser  creative_size  \\\n",
       "0    0.524698     1.366175          1.644927  2.25401       1.559829   \n",
       "1    0.623311     1.366175          1.321883  2.25401       2.062848   \n",
       "2    1.263673     1.366175          1.214288  2.25401       1.984722   \n",
       "3    1.263673     1.366175          1.321883  2.25401       1.984722   \n",
       "4    1.263673     1.366175          1.321883  2.25401       1.984722   \n",
       "\n",
       "   advertiser_currency  day_of_week  \n",
       "0             1.697978      2.18576  \n",
       "1             1.697978      2.18576  \n",
       "2             1.697978      2.18576  \n",
       "3             1.697978      2.18576  \n",
       "4             1.697978      2.18576  "
      ]
     },
     "execution_count": 10,
     "metadata": {},
     "output_type": "execute_result"
    }
   ],
   "source": [
    "encoded_cols.head()"
   ]
  },
  {
   "cell_type": "code",
   "execution_count": 11,
   "metadata": {
    "ExecuteTime": {
     "end_time": "2020-09-24T01:58:42.150861Z",
     "start_time": "2020-09-24T01:58:41.886367Z"
    }
   },
   "outputs": [],
   "source": [
    "df[list(encoded_cols)] = encoded_cols"
   ]
  },
  {
   "cell_type": "code",
   "execution_count": 12,
   "metadata": {
    "ExecuteTime": {
     "end_time": "2020-09-24T01:58:42.196179Z",
     "start_time": "2020-09-24T01:58:42.155890Z"
    }
   },
   "outputs": [
    {
     "data": {
      "text/html": [
       "<div>\n",
       "<style scoped>\n",
       "    .dataframe tbody tr th:only-of-type {\n",
       "        vertical-align: middle;\n",
       "    }\n",
       "\n",
       "    .dataframe tbody tr th {\n",
       "        vertical-align: top;\n",
       "    }\n",
       "\n",
       "    .dataframe thead th {\n",
       "        text-align: right;\n",
       "    }\n",
       "</style>\n",
       "<table border=\"1\" class=\"dataframe\">\n",
       "  <thead>\n",
       "    <tr style=\"text-align: right;\">\n",
       "      <th></th>\n",
       "      <th>line_item_id</th>\n",
       "      <th>date</th>\n",
       "      <th>app_url_id</th>\n",
       "      <th>isp_or_carrier_id</th>\n",
       "      <th>device_type</th>\n",
       "      <th>exchange_id</th>\n",
       "      <th>operating_system</th>\n",
       "      <th>browser</th>\n",
       "      <th>creative_size</th>\n",
       "      <th>advertiser_currency</th>\n",
       "      <th>impressions</th>\n",
       "      <th>io_id</th>\n",
       "      <th>cpm</th>\n",
       "      <th>day_of_week</th>\n",
       "    </tr>\n",
       "  </thead>\n",
       "  <tbody>\n",
       "    <tr>\n",
       "      <th>0</th>\n",
       "      <td>2</td>\n",
       "      <td>2020-08-17</td>\n",
       "      <td>0.524698</td>\n",
       "      <td>1000</td>\n",
       "      <td>1.366175</td>\n",
       "      <td>1</td>\n",
       "      <td>1.644927</td>\n",
       "      <td>2.25401</td>\n",
       "      <td>1.559829</td>\n",
       "      <td>1.697978</td>\n",
       "      <td>2</td>\n",
       "      <td>1</td>\n",
       "      <td>0.0105</td>\n",
       "      <td>2.18576</td>\n",
       "    </tr>\n",
       "    <tr>\n",
       "      <th>1</th>\n",
       "      <td>2</td>\n",
       "      <td>2020-08-17</td>\n",
       "      <td>0.623311</td>\n",
       "      <td>1000</td>\n",
       "      <td>1.366175</td>\n",
       "      <td>1</td>\n",
       "      <td>1.321883</td>\n",
       "      <td>2.25401</td>\n",
       "      <td>2.062848</td>\n",
       "      <td>1.697978</td>\n",
       "      <td>2</td>\n",
       "      <td>1</td>\n",
       "      <td>0.0125</td>\n",
       "      <td>2.18576</td>\n",
       "    </tr>\n",
       "    <tr>\n",
       "      <th>2</th>\n",
       "      <td>2</td>\n",
       "      <td>2020-08-17</td>\n",
       "      <td>1.263673</td>\n",
       "      <td>207</td>\n",
       "      <td>1.366175</td>\n",
       "      <td>1</td>\n",
       "      <td>1.214288</td>\n",
       "      <td>2.25401</td>\n",
       "      <td>1.984722</td>\n",
       "      <td>1.697978</td>\n",
       "      <td>2</td>\n",
       "      <td>1</td>\n",
       "      <td>0.0200</td>\n",
       "      <td>2.18576</td>\n",
       "    </tr>\n",
       "    <tr>\n",
       "      <th>3</th>\n",
       "      <td>2</td>\n",
       "      <td>2020-08-17</td>\n",
       "      <td>1.263673</td>\n",
       "      <td>666</td>\n",
       "      <td>1.366175</td>\n",
       "      <td>1</td>\n",
       "      <td>1.321883</td>\n",
       "      <td>2.25401</td>\n",
       "      <td>1.984722</td>\n",
       "      <td>1.697978</td>\n",
       "      <td>2</td>\n",
       "      <td>1</td>\n",
       "      <td>0.0350</td>\n",
       "      <td>2.18576</td>\n",
       "    </tr>\n",
       "    <tr>\n",
       "      <th>4</th>\n",
       "      <td>2</td>\n",
       "      <td>2020-08-17</td>\n",
       "      <td>1.263673</td>\n",
       "      <td>1000</td>\n",
       "      <td>1.366175</td>\n",
       "      <td>1</td>\n",
       "      <td>1.321883</td>\n",
       "      <td>2.25401</td>\n",
       "      <td>1.984722</td>\n",
       "      <td>1.697978</td>\n",
       "      <td>4</td>\n",
       "      <td>1</td>\n",
       "      <td>0.0220</td>\n",
       "      <td>2.18576</td>\n",
       "    </tr>\n",
       "  </tbody>\n",
       "</table>\n",
       "</div>"
      ],
      "text/plain": [
       "   line_item_id       date  app_url_id  isp_or_carrier_id  device_type  \\\n",
       "0             2 2020-08-17    0.524698               1000     1.366175   \n",
       "1             2 2020-08-17    0.623311               1000     1.366175   \n",
       "2             2 2020-08-17    1.263673                207     1.366175   \n",
       "3             2 2020-08-17    1.263673                666     1.366175   \n",
       "4             2 2020-08-17    1.263673               1000     1.366175   \n",
       "\n",
       "   exchange_id  operating_system  browser  creative_size  advertiser_currency  \\\n",
       "0            1          1.644927  2.25401       1.559829             1.697978   \n",
       "1            1          1.321883  2.25401       2.062848             1.697978   \n",
       "2            1          1.214288  2.25401       1.984722             1.697978   \n",
       "3            1          1.321883  2.25401       1.984722             1.697978   \n",
       "4            1          1.321883  2.25401       1.984722             1.697978   \n",
       "\n",
       "   impressions  io_id     cpm  day_of_week  \n",
       "0            2      1  0.0105      2.18576  \n",
       "1            2      1  0.0125      2.18576  \n",
       "2            2      1  0.0200      2.18576  \n",
       "3            2      1  0.0350      2.18576  \n",
       "4            4      1  0.0220      2.18576  "
      ]
     },
     "execution_count": 12,
     "metadata": {},
     "output_type": "execute_result"
    }
   ],
   "source": [
    "df.head()"
   ]
  },
  {
   "cell_type": "markdown",
   "metadata": {},
   "source": [
    "### Feature Scaling is not required because splitting of the nodes takes place on a single feature, so scale doesnt matter"
   ]
  },
  {
   "cell_type": "markdown",
   "metadata": {},
   "source": [
    "### train-test split\n",
    "- The test data is of the date 28/09/2020, so it makes sense to split \n",
    "the data of the last available date as validation."
   ]
  },
  {
   "cell_type": "code",
   "execution_count": 13,
   "metadata": {
    "ExecuteTime": {
     "end_time": "2020-09-24T01:58:42.434456Z",
     "start_time": "2020-09-24T01:58:42.196179Z"
    }
   },
   "outputs": [],
   "source": [
    "df_test = df[df['date'] == '2020-08-27'].copy()\n",
    "df_train = df.drop(df_test.index, axis = 0)"
   ]
  },
  {
   "cell_type": "code",
   "execution_count": 14,
   "metadata": {
    "ExecuteTime": {
     "end_time": "2020-09-24T01:58:42.487808Z",
     "start_time": "2020-09-24T01:58:42.434456Z"
    }
   },
   "outputs": [],
   "source": [
    "df_test.drop('date', axis = 1, inplace = True)\n",
    "X_test = df_test.drop('cpm', axis = 1).to_numpy()\n",
    "y_test = df_test['cpm'].to_numpy()"
   ]
  },
  {
   "cell_type": "code",
   "execution_count": 15,
   "metadata": {
    "ExecuteTime": {
     "end_time": "2020-09-24T01:58:42.650373Z",
     "start_time": "2020-09-24T01:58:42.488846Z"
    }
   },
   "outputs": [],
   "source": [
    "df_train.drop('date', axis = 1, inplace = True)\n",
    "X_train = df_train.drop('cpm', axis = 1).to_numpy()\n",
    "y_train = df_train['cpm'].to_numpy()"
   ]
  },
  {
   "cell_type": "markdown",
   "metadata": {},
   "source": [
    "### Training"
   ]
  },
  {
   "cell_type": "markdown",
   "metadata": {},
   "source": [
    "#### Linear Regression"
   ]
  },
  {
   "cell_type": "code",
   "execution_count": 29,
   "metadata": {
    "ExecuteTime": {
     "end_time": "2020-09-24T02:07:22.198295Z",
     "start_time": "2020-09-24T02:07:21.750486Z"
    }
   },
   "outputs": [
    {
     "data": {
      "text/plain": [
       "LinearRegression(copy_X=True, fit_intercept=True, n_jobs=None, normalize=False)"
      ]
     },
     "execution_count": 29,
     "metadata": {},
     "output_type": "execute_result"
    }
   ],
   "source": [
    "from sklearn import linear_model\n",
    "reg = linear_model.LinearRegression()\n",
    "reg.fit(X_train, y_train)"
   ]
  },
  {
   "cell_type": "code",
   "execution_count": 30,
   "metadata": {
    "ExecuteTime": {
     "end_time": "2020-09-24T02:07:22.553298Z",
     "start_time": "2020-09-24T02:07:22.430230Z"
    }
   },
   "outputs": [
    {
     "name": "stdout",
     "output_type": "stream",
     "text": [
      "Linear Regression: Train R2 Score: 0.18275384208956658\n",
      "Linear Regression: Test R2 Score: -6.584498165428632\n"
     ]
    }
   ],
   "source": [
    "print(\"Linear Regression: Train R2 Score: {}\".format(reg.score(X_train, y_train)))\n",
    "print(\"Linear Regression: Test R2 Score: {}\".format(reg.score(X_test, y_test)))"
   ]
  },
  {
   "cell_type": "markdown",
   "metadata": {},
   "source": [
    "#### SKlearn's new HistGradientBoostingRegressor"
   ]
  },
  {
   "cell_type": "code",
   "execution_count": 24,
   "metadata": {
    "ExecuteTime": {
     "end_time": "2020-09-24T02:02:39.521279Z",
     "start_time": "2020-09-24T02:02:39.492469Z"
    }
   },
   "outputs": [],
   "source": [
    "from sklearn.experimental import enable_hist_gradient_boosting  # noqa\n",
    "from sklearn.ensemble import HistGradientBoostingRegressor\n",
    "from time import time"
   ]
  },
  {
   "cell_type": "code",
   "execution_count": 25,
   "metadata": {
    "ExecuteTime": {
     "end_time": "2020-09-24T02:02:49.987946Z",
     "start_time": "2020-09-24T02:02:44.336065Z"
    }
   },
   "outputs": [
    {
     "name": "stdout",
     "output_type": "stream",
     "text": [
      "done in 5.636s\n"
     ]
    }
   ],
   "source": [
    "model = HistGradientBoostingRegressor()\n",
    "tic = time()\n",
    "model.fit(X_train, y_train)\n",
    "print(\"done in {:.3f}s\".format(time() - tic))"
   ]
  },
  {
   "cell_type": "markdown",
   "metadata": {},
   "source": [
    "#### R2 score"
   ]
  },
  {
   "cell_type": "code",
   "execution_count": 31,
   "metadata": {
    "ExecuteTime": {
     "end_time": "2020-09-24T02:07:41.814959Z",
     "start_time": "2020-09-24T02:07:39.795638Z"
    }
   },
   "outputs": [
    {
     "name": "stdout",
     "output_type": "stream",
     "text": [
      "HistGradientBoostingRegressor Train r2 score: 0.82\n",
      "HistGradientBoostingRegressor Test R2 score: -375.39\n"
     ]
    }
   ],
   "source": [
    "print(\"HistGradientBoostingRegressor Train r2 score: {:.2f}\".format(model.score(X_train, y_train)))\n",
    "print(\"HistGradientBoostingRegressor Test R2 score: {:.2f}\".format(model.score(X_test, y_test)))"
   ]
  },
  {
   "cell_type": "markdown",
   "metadata": {},
   "source": [
    "#### GradientBoostingRegressor"
   ]
  },
  {
   "cell_type": "code",
   "execution_count": 32,
   "metadata": {
    "ExecuteTime": {
     "end_time": "2020-09-24T02:09:44.557695Z",
     "start_time": "2020-09-24T02:09:44.535940Z"
    }
   },
   "outputs": [],
   "source": [
    "from sklearn.ensemble import GradientBoostingRegressor"
   ]
  },
  {
   "cell_type": "code",
   "execution_count": 33,
   "metadata": {
    "ExecuteTime": {
     "end_time": "2020-09-24T02:11:57.143904Z",
     "start_time": "2020-09-24T02:09:44.720438Z"
    }
   },
   "outputs": [],
   "source": [
    "model = GradientBoostingRegressor().fit(X_train, y_train)"
   ]
  },
  {
   "cell_type": "code",
   "execution_count": 34,
   "metadata": {
    "ExecuteTime": {
     "end_time": "2020-09-24T02:11:58.687930Z",
     "start_time": "2020-09-24T02:11:57.322301Z"
    }
   },
   "outputs": [
    {
     "name": "stdout",
     "output_type": "stream",
     "text": [
      "0.6568170793811235\n",
      "-71.80680158358018\n"
     ]
    }
   ],
   "source": [
    "print(model.score(X_train, y_train))\n",
    "print(model.score(X_test, y_test))"
   ]
  },
  {
   "cell_type": "markdown",
   "metadata": {},
   "source": [
    "    - These models are definitely overfitting, choice of encoding could be the reason"
   ]
  },
  {
   "cell_type": "code",
   "execution_count": null,
   "metadata": {},
   "outputs": [],
   "source": []
  }
 ],
 "metadata": {
  "kernelspec": {
   "display_name": "Python 3",
   "language": "python",
   "name": "python3"
  },
  "language_info": {
   "codemirror_mode": {
    "name": "ipython",
    "version": 3
   },
   "file_extension": ".py",
   "mimetype": "text/x-python",
   "name": "python",
   "nbconvert_exporter": "python",
   "pygments_lexer": "ipython3",
   "version": "3.7.6"
  },
  "toc": {
   "base_numbering": 1,
   "nav_menu": {},
   "number_sections": true,
   "sideBar": true,
   "skip_h1_title": false,
   "title_cell": "Table of Contents",
   "title_sidebar": "Contents",
   "toc_cell": false,
   "toc_position": {},
   "toc_section_display": true,
   "toc_window_display": false
  },
  "varInspector": {
   "cols": {
    "lenName": 16,
    "lenType": 16,
    "lenVar": 40
   },
   "kernels_config": {
    "python": {
     "delete_cmd_postfix": "",
     "delete_cmd_prefix": "del ",
     "library": "var_list.py",
     "varRefreshCmd": "print(var_dic_list())"
    },
    "r": {
     "delete_cmd_postfix": ") ",
     "delete_cmd_prefix": "rm(",
     "library": "var_list.r",
     "varRefreshCmd": "cat(var_dic_list()) "
    }
   },
   "types_to_exclude": [
    "module",
    "function",
    "builtin_function_or_method",
    "instance",
    "_Feature"
   ],
   "window_display": false
  }
 },
 "nbformat": 4,
 "nbformat_minor": 4
}
