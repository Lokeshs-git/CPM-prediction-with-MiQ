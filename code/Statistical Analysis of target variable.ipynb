{
 "cells": [
  {
   "cell_type": "code",
   "execution_count": 8,
   "metadata": {
    "ExecuteTime": {
     "end_time": "2020-09-26T07:48:02.095574Z",
     "start_time": "2020-09-26T07:48:02.086574Z"
    }
   },
   "outputs": [],
   "source": [
    "import pandas as pd\n",
    "import numpy as np\n",
    "import scipy.stats as stats\n",
    "import matplotlib.pyplot as plt\n",
    "import random\n",
    "import math"
   ]
  },
  {
   "cell_type": "code",
   "execution_count": 9,
   "metadata": {
    "ExecuteTime": {
     "end_time": "2020-09-26T07:48:03.926421Z",
     "start_time": "2020-09-26T07:48:02.098575Z"
    }
   },
   "outputs": [],
   "source": [
    "df = pd.read_csv('../data/train.csv')"
   ]
  },
  {
   "cell_type": "markdown",
   "metadata": {},
   "source": [
    "## 95% Confidence Interval for Mean CPM of the population "
   ]
  },
  {
   "cell_type": "code",
   "execution_count": 10,
   "metadata": {
    "ExecuteTime": {
     "end_time": "2020-09-26T07:48:03.941280Z",
     "start_time": "2020-09-26T07:48:03.928245Z"
    }
   },
   "outputs": [
    {
     "name": "stdout",
     "output_type": "stream",
     "text": [
      "z_critical: 1.959963984540054\n",
      "confidence interval:(2.015394037678109, 2.2634866987696025) \n"
     ]
    }
   ],
   "source": [
    "np.random.seed(100)\n",
    "\n",
    "sample_size = 10000\n",
    "sample = np.random.choice(df['CPM'], size = sample_size)\n",
    "sample_mean = sample.mean()\n",
    "\n",
    "#t_critical = stats.t.ppf(q = 0.975, df = 24)\n",
    "z_critical = stats.norm.ppf(q = 0.975)\n",
    "print(\"z_critical: {}\".format(z_critical))\n",
    "sample_stddev = sample.std(ddof = 1)\n",
    "std_err = sample_stddev/math.sqrt(sample_size)\n",
    "margin_of_error = z_critical * std_err\n",
    "\n",
    "confidence_interval = (sample_mean - margin_of_error, sample_mean + margin_of_error)\n",
    "print(\"confidence interval:{} \".format(confidence_interval))"
   ]
  },
  {
   "cell_type": "code",
   "execution_count": 11,
   "metadata": {
    "ExecuteTime": {
     "end_time": "2020-09-26T07:48:03.957245Z",
     "start_time": "2020-09-26T07:48:03.943247Z"
    }
   },
   "outputs": [
    {
     "data": {
      "text/plain": [
       "(2.015394037678109, 2.2634866987696025)"
      ]
     },
     "execution_count": 11,
     "metadata": {},
     "output_type": "execute_result"
    }
   ],
   "source": [
    "# confidence intval with z distribution\n",
    "stats.norm.interval(alpha = 0.95, loc = sample_mean, scale = std_err)"
   ]
  },
  {
   "cell_type": "code",
   "execution_count": 12,
   "metadata": {
    "ExecuteTime": {
     "end_time": "2020-09-26T07:48:03.973245Z",
     "start_time": "2020-09-26T07:48:03.959246Z"
    }
   },
   "outputs": [
    {
     "data": {
      "text/plain": [
       "2.1001980853085906"
      ]
     },
     "execution_count": 12,
     "metadata": {},
     "output_type": "execute_result"
    }
   ],
   "source": [
    "df['CPM'].mean()"
   ]
  },
  {
   "cell_type": "code",
   "execution_count": 13,
   "metadata": {
    "ExecuteTime": {
     "end_time": "2020-09-26T07:48:04.005271Z",
     "start_time": "2020-09-26T07:48:03.977246Z"
    },
    "scrolled": false
   },
   "outputs": [
    {
     "data": {
      "text/html": [
       "<div>\n",
       "<style scoped>\n",
       "    .dataframe tbody tr th:only-of-type {\n",
       "        vertical-align: middle;\n",
       "    }\n",
       "\n",
       "    .dataframe tbody tr th {\n",
       "        vertical-align: top;\n",
       "    }\n",
       "\n",
       "    .dataframe thead th {\n",
       "        text-align: right;\n",
       "    }\n",
       "</style>\n",
       "<table border=\"1\" class=\"dataframe\">\n",
       "  <thead>\n",
       "    <tr style=\"text-align: right;\">\n",
       "      <th></th>\n",
       "      <th>Line Item ID</th>\n",
       "      <th>Date</th>\n",
       "      <th>App/URL ID</th>\n",
       "      <th>ISP or Carrier ID</th>\n",
       "      <th>Device Type</th>\n",
       "      <th>Exchange ID</th>\n",
       "      <th>Operating System</th>\n",
       "      <th>Browser</th>\n",
       "      <th>Creative Size</th>\n",
       "      <th>Advertiser Currency</th>\n",
       "      <th>Impressions</th>\n",
       "      <th>IO_ID</th>\n",
       "      <th>CPM</th>\n",
       "    </tr>\n",
       "  </thead>\n",
       "  <tbody>\n",
       "    <tr>\n",
       "      <th>0</th>\n",
       "      <td>2</td>\n",
       "      <td>17-08-2020</td>\n",
       "      <td>1.5164E+11</td>\n",
       "      <td>1000</td>\n",
       "      <td>Desktop</td>\n",
       "      <td>1</td>\n",
       "      <td>Macintosh</td>\n",
       "      <td>Chrome</td>\n",
       "      <td>728x90</td>\n",
       "      <td>CAD</td>\n",
       "      <td>2</td>\n",
       "      <td>1</td>\n",
       "      <td>0.0105</td>\n",
       "    </tr>\n",
       "    <tr>\n",
       "      <th>1</th>\n",
       "      <td>2</td>\n",
       "      <td>17-08-2020</td>\n",
       "      <td>1362605575</td>\n",
       "      <td>1000</td>\n",
       "      <td>Desktop</td>\n",
       "      <td>1</td>\n",
       "      <td>Windows 10</td>\n",
       "      <td>Chrome</td>\n",
       "      <td>300x600</td>\n",
       "      <td>CAD</td>\n",
       "      <td>2</td>\n",
       "      <td>1</td>\n",
       "      <td>0.0125</td>\n",
       "    </tr>\n",
       "    <tr>\n",
       "      <th>2</th>\n",
       "      <td>2</td>\n",
       "      <td>17-08-2020</td>\n",
       "      <td>20303819748</td>\n",
       "      <td>207</td>\n",
       "      <td>Desktop</td>\n",
       "      <td>1</td>\n",
       "      <td>Windows 7</td>\n",
       "      <td>Chrome</td>\n",
       "      <td>160x600</td>\n",
       "      <td>CAD</td>\n",
       "      <td>2</td>\n",
       "      <td>1</td>\n",
       "      <td>0.0200</td>\n",
       "    </tr>\n",
       "    <tr>\n",
       "      <th>3</th>\n",
       "      <td>2</td>\n",
       "      <td>17-08-2020</td>\n",
       "      <td>20303819748</td>\n",
       "      <td>666</td>\n",
       "      <td>Desktop</td>\n",
       "      <td>1</td>\n",
       "      <td>Windows 10</td>\n",
       "      <td>Chrome</td>\n",
       "      <td>160x600</td>\n",
       "      <td>CAD</td>\n",
       "      <td>2</td>\n",
       "      <td>1</td>\n",
       "      <td>0.0350</td>\n",
       "    </tr>\n",
       "    <tr>\n",
       "      <th>4</th>\n",
       "      <td>2</td>\n",
       "      <td>17-08-2020</td>\n",
       "      <td>20303819748</td>\n",
       "      <td>1000</td>\n",
       "      <td>Desktop</td>\n",
       "      <td>1</td>\n",
       "      <td>Windows 10</td>\n",
       "      <td>Chrome</td>\n",
       "      <td>160x600</td>\n",
       "      <td>CAD</td>\n",
       "      <td>4</td>\n",
       "      <td>1</td>\n",
       "      <td>0.0220</td>\n",
       "    </tr>\n",
       "  </tbody>\n",
       "</table>\n",
       "</div>"
      ],
      "text/plain": [
       "   Line Item ID        Date   App/URL ID  ISP or Carrier ID Device Type  \\\n",
       "0             2  17-08-2020   1.5164E+11               1000     Desktop   \n",
       "1             2  17-08-2020   1362605575               1000     Desktop   \n",
       "2             2  17-08-2020  20303819748                207     Desktop   \n",
       "3             2  17-08-2020  20303819748                666     Desktop   \n",
       "4             2  17-08-2020  20303819748               1000     Desktop   \n",
       "\n",
       "   Exchange ID Operating System Browser Creative Size Advertiser Currency  \\\n",
       "0            1        Macintosh  Chrome        728x90                 CAD   \n",
       "1            1       Windows 10  Chrome       300x600                 CAD   \n",
       "2            1        Windows 7  Chrome       160x600                 CAD   \n",
       "3            1       Windows 10  Chrome       160x600                 CAD   \n",
       "4            1       Windows 10  Chrome       160x600                 CAD   \n",
       "\n",
       "   Impressions  IO_ID     CPM  \n",
       "0            2      1  0.0105  \n",
       "1            2      1  0.0125  \n",
       "2            2      1  0.0200  \n",
       "3            2      1  0.0350  \n",
       "4            4      1  0.0220  "
      ]
     },
     "execution_count": 13,
     "metadata": {},
     "output_type": "execute_result"
    }
   ],
   "source": [
    "df.head()"
   ]
  },
  {
   "cell_type": "markdown",
   "metadata": {},
   "source": [
    "## Are the mean Browser CPMs different from one another?\n",
    "    H0: The means of the distribution of CPM of each browser are equal\n",
    "    Ha: The means are different"
   ]
  },
  {
   "cell_type": "markdown",
   "metadata": {
    "heading_collapsed": true
   },
   "source": [
    "#### Compare the mean CPM of \"Opera\" and \"Chrome\""
   ]
  },
  {
   "cell_type": "code",
   "execution_count": 26,
   "metadata": {
    "ExecuteTime": {
     "end_time": "2020-09-26T08:12:28.130990Z",
     "start_time": "2020-09-26T08:12:27.838126Z"
    },
    "code_folding": [
     0
    ],
    "hidden": true
   },
   "outputs": [
    {
     "name": "stdout",
     "output_type": "stream",
     "text": [
      "z_statistic: 0.240\n",
      "pvalue: 0.811\n",
      "Cannot Reject H0\n"
     ]
    }
   ],
   "source": [
    "# Testing to prove that the the mean CPM of one browser is not equal mean CPM of another browser\n",
    "# Take random samples of any 2 Browsers and perform Independent Sample Test.\n",
    "from scipy.stats import ttest_ind_from_stats\n",
    "np.random.seed(100)\n",
    "\n",
    "browser_1 = 'Chrome'\n",
    "browser_2 = 'Opera'\n",
    "\n",
    "size_1 = 100\n",
    "sample_1 = np.random.choice(df[df['Browser']==browser_1]['CPM'], size_1)\n",
    "stddev_1 = sample_1.std()\n",
    "x1_bar = sample_1.mean()\n",
    "\n",
    "size_2 = 100\n",
    "sample_2 = np.random.choice(df[df['Browser']==browser_2]['CPM'], size_2)\n",
    "stddev_2 = sample_2.std()\n",
    "x2_bar = sample_2.mean()\n",
    "\n",
    "\n",
    "z_statistic, p_value = ttest_ind_from_stats(x1_bar, stddev_1, size_1, \n",
    "                                            x2_bar, stddev_2, size_2, equal_var=False)\n",
    "\n",
    "print(\"z_statistic: {:.3f}\".format(z_statistic))\n",
    "print(\"pvalue: {:.3f}\".format(p_value))\n",
    "\n",
    "alpha = 0.05\n",
    "if(p_value <= alpha):\n",
    "    print(\"Reject H0\")\n",
    "else:\n",
    "    print(\"Cannot Reject H0\")"
   ]
  },
  {
   "cell_type": "markdown",
   "metadata": {
    "hidden": true
   },
   "source": [
    "    The mean CPM of \"Chrome\" and \"Opera\" are statistically similar"
   ]
  },
  {
   "cell_type": "markdown",
   "metadata": {
    "heading_collapsed": true
   },
   "source": [
    "#### Compare the mean CPM of \"Firefox\" and \"Chrome\""
   ]
  },
  {
   "cell_type": "code",
   "execution_count": 27,
   "metadata": {
    "ExecuteTime": {
     "end_time": "2020-09-26T08:13:05.622238Z",
     "start_time": "2020-09-26T08:13:05.310769Z"
    },
    "code_folding": [
     0
    ],
    "hidden": true
   },
   "outputs": [
    {
     "name": "stdout",
     "output_type": "stream",
     "text": [
      "z_statistic: 1.556\n",
      "pvalue: 0.122\n",
      "Cannot Reject H0\n"
     ]
    }
   ],
   "source": [
    "# Testing to prove that the the mean CPM of one browser is not equal mean CPM of another browser\n",
    "# Take random samples of any 2 Browsers and perform Independent Sample Test.\n",
    "from scipy.stats import ttest_ind_from_stats\n",
    "np.random.seed(100)\n",
    "\n",
    "browser_1 = 'Chrome'\n",
    "browser_2 = 'Firefox'\n",
    "\n",
    "size_1 = 100\n",
    "sample_1 = np.random.choice(df[df['Browser']==browser_1]['CPM'], size_1)\n",
    "stddev_1 = sample_1.std()\n",
    "x1_bar = sample_1.mean()\n",
    "\n",
    "size_2 = 100\n",
    "sample_2 = np.random.choice(df[df['Browser']==browser_2]['CPM'], size_2)\n",
    "stddev_2 = sample_2.std()\n",
    "x2_bar = sample_2.mean()\n",
    "\n",
    "\n",
    "z_statistic, p_value = ttest_ind_from_stats(x1_bar, stddev_1, size_1, \n",
    "                                            x2_bar, stddev_2, size_2, equal_var=False)\n",
    "\n",
    "print(\"z_statistic: {:.3f}\".format(z_statistic))\n",
    "print(\"pvalue: {:.3f}\".format(p_value))\n",
    "\n",
    "alpha = 0.05\n",
    "if(p_value < alpha):\n",
    "    print(\"Reject H0\")\n",
    "else:\n",
    "    print(\"Cannot Reject H0\")"
   ]
  },
  {
   "cell_type": "markdown",
   "metadata": {
    "hidden": true
   },
   "source": [
    "    The mean CPM of \"Firefox\" and \"Chrome\" are statistically similar"
   ]
  },
  {
   "cell_type": "markdown",
   "metadata": {
    "heading_collapsed": true
   },
   "source": [
    "#### Compare the mean CPM of \"Chrome\" and \"Microsoft Edge\""
   ]
  },
  {
   "cell_type": "code",
   "execution_count": 28,
   "metadata": {
    "ExecuteTime": {
     "end_time": "2020-09-26T08:15:59.930327Z",
     "start_time": "2020-09-26T08:15:59.627322Z"
    },
    "code_folding": [
     0
    ],
    "hidden": true,
    "scrolled": false
   },
   "outputs": [
    {
     "name": "stdout",
     "output_type": "stream",
     "text": [
      "z_statistic: 3.771\n",
      "pvalue: 0.000\n",
      "Reject H0\n"
     ]
    }
   ],
   "source": [
    "# Testing to prove that the the mean CPM of one browser is not equal mean CPM of another browser\n",
    "# Take random samples of any 2 Browsers and perform Independent Sample Test.\n",
    "from scipy.stats import ttest_ind_from_stats\n",
    "np.random.seed(100)\n",
    "\n",
    "browser_1 = 'Chrome'\n",
    "browser_2 = 'Microsoft Edge'\n",
    "\n",
    "size_1 = 100\n",
    "sample_1 = np.random.choice(df[df['Browser']==browser_1]['CPM'], size_1)\n",
    "stddev_1 = sample_1.std()\n",
    "x1_bar = sample_1.mean()\n",
    "\n",
    "size_2 = 100\n",
    "sample_2 = np.random.choice(df[df['Browser']==browser_2]['CPM'], size_2)\n",
    "stddev_2 = sample_2.std()\n",
    "x2_bar = sample_2.mean()\n",
    "\n",
    "\n",
    "z_statistic, p_value = ttest_ind_from_stats(x1_bar, stddev_1, size_1, \n",
    "                                            x2_bar, stddev_2, size_2, equal_var=False)\n",
    "\n",
    "print(\"z_statistic: {:.3f}\".format(z_statistic))\n",
    "print(\"pvalue: {:.3f}\".format(p_value))\n",
    "\n",
    "alpha = 0.05\n",
    "if(p_value < alpha):\n",
    "    print(\"Reject H0\")\n",
    "else:\n",
    "    print(\"Cannot Reject H0\")"
   ]
  },
  {
   "cell_type": "markdown",
   "metadata": {
    "hidden": true
   },
   "source": [
    "    The mean CPM of Microsoft Edge and Chrome are significantly different"
   ]
  },
  {
   "cell_type": "markdown",
   "metadata": {},
   "source": [
    "## Analysing mean CPM of various device types\n",
    "\n",
    "    H0: Mean CPM of TV is equal to mean CPM of Tablet.\n",
    "    Ha: Mean CPM of TV is not different than mean CPM of Tablet.\n",
    "\n",
    "    scipy always gives the two tail statistic as signed. This means that given p and t values \n",
    "    from a two-tailed test, you would \n",
    "    - Reject H0 of a lower tail test when p/2 < alpha and t > 0, \n",
    "    - Reject H0 of of Upper tail test when p/2 < alpha and t < 0."
   ]
  },
  {
   "cell_type": "code",
   "execution_count": 38,
   "metadata": {
    "ExecuteTime": {
     "end_time": "2020-09-26T08:50:01.808232Z",
     "start_time": "2020-09-26T08:50:01.534236Z"
    }
   },
   "outputs": [
    {
     "data": {
      "text/html": [
       "<div>\n",
       "<style scoped>\n",
       "    .dataframe tbody tr th:only-of-type {\n",
       "        vertical-align: middle;\n",
       "    }\n",
       "\n",
       "    .dataframe tbody tr th {\n",
       "        vertical-align: top;\n",
       "    }\n",
       "\n",
       "    .dataframe thead th {\n",
       "        text-align: right;\n",
       "    }\n",
       "</style>\n",
       "<table border=\"1\" class=\"dataframe\">\n",
       "  <thead>\n",
       "    <tr style=\"text-align: right;\">\n",
       "      <th></th>\n",
       "      <th>Device Type</th>\n",
       "      <th>CPM</th>\n",
       "    </tr>\n",
       "  </thead>\n",
       "  <tbody>\n",
       "    <tr>\n",
       "      <th>2</th>\n",
       "      <td>Smart Phone</td>\n",
       "      <td>2.569455</td>\n",
       "    </tr>\n",
       "    <tr>\n",
       "      <th>3</th>\n",
       "      <td>Tablet</td>\n",
       "      <td>1.916848</td>\n",
       "    </tr>\n",
       "    <tr>\n",
       "      <th>1</th>\n",
       "      <td>Desktop</td>\n",
       "      <td>1.367791</td>\n",
       "    </tr>\n",
       "    <tr>\n",
       "      <th>0</th>\n",
       "      <td>Connected TV</td>\n",
       "      <td>0.776602</td>\n",
       "    </tr>\n",
       "  </tbody>\n",
       "</table>\n",
       "</div>"
      ],
      "text/plain": [
       "    Device Type       CPM\n",
       "2   Smart Phone  2.569455\n",
       "3        Tablet  1.916848\n",
       "1       Desktop  1.367791\n",
       "0  Connected TV  0.776602"
      ]
     },
     "execution_count": 38,
     "metadata": {},
     "output_type": "execute_result"
    }
   ],
   "source": [
    "df.groupby('Device Type', as_index = False).mean()[['Device Type','CPM']].sort_values('CPM',ascending = False)"
   ]
  },
  {
   "cell_type": "code",
   "execution_count": 41,
   "metadata": {
    "ExecuteTime": {
     "end_time": "2020-09-26T09:03:45.540627Z",
     "start_time": "2020-09-26T09:03:45.275205Z"
    },
    "code_folding": [
     0
    ]
   },
   "outputs": [
    {
     "name": "stdout",
     "output_type": "stream",
     "text": [
      "z_statistic: -1.533695656846883\n",
      "p_value: 0.13186836937351673\n",
      "Cannot Reject H0\n"
     ]
    }
   ],
   "source": [
    "# Testing to see if the Mean CPM of Smart Phone and TV are different\n",
    "np.random.seed(100)\n",
    "\n",
    "device_1 = 'Connected TV'\n",
    "device_2 = 'Smart Phone'\n",
    "\n",
    "size_1 = 30\n",
    "sample_1 = np.random.choice(df[df['Device Type'] == device_1]['CPM'], size_1)\n",
    "xbar_1 = sample_1.mean()\n",
    "stddev_1 = sample_1.std()\n",
    "\n",
    "size_2 = 40\n",
    "sample_1 = np.random.choice(df[df['Device Type'] == device_2]['CPM'], size_2)\n",
    "xbar_2 = sample_2.mean()\n",
    "stddev_2 = sample_2.std()\n",
    "\n",
    "z_statistic, p_value = ttest_ind_from_stats(xbar_1, stddev_1, size_1,\n",
    "                                            xbar_2, stddev_2, size_2,\n",
    "                                           equal_var=False)\n",
    "\n",
    "print(\"z_statistic: {}\".format(z_statistic))\n",
    "print(\"p_value: {}\".format(p_value))\n",
    "\n",
    "alpha = 0.05\n",
    "if(p_value/2 < alpha):\n",
    "    print(\"Reject H0\")\n",
    "else:\n",
    "    print(\"Cannot Reject H0\")"
   ]
  },
  {
   "cell_type": "markdown",
   "metadata": {},
   "source": [
    "    We cannot Reject H0: This means that statistically speaking the Mean CPM of SmartPhone is same as the mean CPM of TV."
   ]
  },
  {
   "cell_type": "markdown",
   "metadata": {},
   "source": [
    "## CHI-squared goodness of fit test"
   ]
  },
  {
   "cell_type": "markdown",
   "metadata": {
    "heading_collapsed": true
   },
   "source": [
    "### Does the distribution of browsers in Desktops differ from the rest of the population\n",
    "    H0: Distribution of App/URL ID in Desktops is the same as the rest of the population\n",
    "    Ha: Distribution of App/URL ID in Desktops is NOT the same as the rest of the population"
   ]
  },
  {
   "cell_type": "code",
   "execution_count": 72,
   "metadata": {
    "ExecuteTime": {
     "end_time": "2020-09-26T09:41:55.002699Z",
     "start_time": "2020-09-26T09:41:54.687527Z"
    },
    "code_folding": [],
    "hidden": true,
    "scrolled": true
   },
   "outputs": [],
   "source": [
    "# Get expected and Observed distribution\n",
    "import numpy as np\n",
    "import pandas as pd\n",
    "import scipy.stats as stats\n",
    "\n",
    "population = df['App/URL ID']\n",
    "desktop = df[df['Device Type'] == 'Desktop']['App/URL ID']\n",
    "\n",
    "desktop_table = pd.DataFrame(desktop.value_counts())\n",
    "population_table = pd.DataFrame(population.value_counts())\n",
    "population_table = population_table.loc[desktop_table.index]\n",
    "\n",
    "observed = desktop_table\n",
    "population_ratios = pd.DataFrame(population_table/population_table.shape[0])\n",
    "expected = population_ratios * len(desktop)\n"
   ]
  },
  {
   "cell_type": "code",
   "execution_count": 64,
   "metadata": {
    "ExecuteTime": {
     "end_time": "2020-09-26T09:31:57.297966Z",
     "start_time": "2020-09-26T09:31:57.289000Z"
    },
    "code_folding": [],
    "hidden": true
   },
   "outputs": [
    {
     "name": "stdout",
     "output_type": "stream",
     "text": [
      "App/URL ID    3.196655e+07\n",
      "dtype: float64\n"
     ]
    }
   ],
   "source": [
    "# chi-statistic formula\n",
    "chi_squared_stat = (((observed-expected)**2)/expected).sum()\n",
    "print(chi_squared_stat)"
   ]
  },
  {
   "cell_type": "code",
   "execution_count": 71,
   "metadata": {
    "ExecuteTime": {
     "end_time": "2020-09-26T09:41:24.585439Z",
     "start_time": "2020-09-26T09:41:24.567595Z"
    },
    "code_folding": [],
    "hidden": true
   },
   "outputs": [
    {
     "name": "stdout",
     "output_type": "stream",
     "text": [
      "Critical Value: 9618.566264974741\n",
      "Reject H0\n"
     ]
    }
   ],
   "source": [
    "# get critical chi value and Reject Hypothesis\n",
    "chi_crit = stats.chi2.ppf(q = 0.95, df = expected.shape[0] - 1)\n",
    "print(\"Critical Value: {}\".format(crit))\n",
    "\n",
    "chi_statistic = stats.chisquare(f_obs=observed, f_exp=expected).statistic[0]\n",
    "if(chi_statistic > chi_crit):\n",
    "    print(\"Reject H0\")\n",
    "else:\n",
    "    print(\"Cannot Reject H0\")\n"
   ]
  },
  {
   "cell_type": "markdown",
   "metadata": {
    "hidden": true
   },
   "source": [
    "    Since the Chi-statistic is greated than the critical Chi value we can reject the H0 hypothesis that the observed and expected distribution of App/IDa are same"
   ]
  },
  {
   "cell_type": "markdown",
   "metadata": {
    "heading_collapsed": true
   },
   "source": [
    "### Does the distribution of OS in Smartphones differ from the rest of the population\n",
    "    H0: Distribution of Operating System in Smart Phones is the same as the rest of the population\n",
    "    Ha: Distribution of Operating System in Smart Phones is NOT the same as the rest of the population"
   ]
  },
  {
   "cell_type": "code",
   "execution_count": 76,
   "metadata": {
    "ExecuteTime": {
     "end_time": "2020-09-26T09:55:11.342895Z",
     "start_time": "2020-09-26T09:55:10.995628Z"
    },
    "code_folding": [
     0
    ],
    "hidden": true,
    "scrolled": false
   },
   "outputs": [],
   "source": [
    "# Get expected and Observed distribution\n",
    "import numpy as np\n",
    "import pandas as pd\n",
    "import scipy.stats as stats\n",
    "\n",
    "population = df['Operating System']\n",
    "phones = df[df['Device Type'] == 'Smart Phone']['Operating System']\n",
    "\n",
    "phones_table = pd.DataFrame(phones.value_counts())\n",
    "population_table = pd.DataFrame(population.value_counts())\n",
    "population_table = population_table.loc[phones_table.index]\n",
    "\n",
    "observed = phones_table\n",
    "population_ratios = pd.DataFrame(population_table/population_table.shape[0])\n",
    "expected = population_ratios * len(phones)\n"
   ]
  },
  {
   "cell_type": "code",
   "execution_count": 77,
   "metadata": {
    "ExecuteTime": {
     "end_time": "2020-09-26T09:55:14.297091Z",
     "start_time": "2020-09-26T09:55:14.280096Z"
    },
    "code_folding": [
     0
    ],
    "hidden": true
   },
   "outputs": [
    {
     "name": "stdout",
     "output_type": "stream",
     "text": [
      "Operating System    1.277273e+10\n",
      "dtype: float64\n"
     ]
    }
   ],
   "source": [
    "# chi-statistic formula\n",
    "chi_squared_stat = (((observed-expected)**2)/expected).sum()\n",
    "print(chi_squared_stat)"
   ]
  },
  {
   "cell_type": "code",
   "execution_count": 80,
   "metadata": {
    "ExecuteTime": {
     "end_time": "2020-09-26T09:56:24.677062Z",
     "start_time": "2020-09-26T09:56:24.659416Z"
    },
    "code_folding": [
     0
    ],
    "hidden": true
   },
   "outputs": [
    {
     "name": "stdout",
     "output_type": "stream",
     "text": [
      "Critical Value: 9618.566264974741\n",
      "Chi-Statistic: 12772733650.000673\n",
      "Reject H0\n"
     ]
    }
   ],
   "source": [
    "# get critical chi value and Reject Hypothesis\n",
    "chi_crit = stats.chi2.ppf(q = 0.95, df = expected.shape[0] - 1)\n",
    "print(\"Critical Value: {}\".format(crit))\n",
    "\n",
    "chi_statistic = stats.chisquare(f_obs=observed, f_exp=expected).statistic[0]\n",
    "print(\"Chi-Statistic: {}\".format(chi_statistic))\n",
    "\n",
    "if(chi_statistic > chi_crit):\n",
    "    print(\"Reject H0\")\n",
    "else:\n",
    "    print(\"Cannot Reject H0\")\n"
   ]
  },
  {
   "cell_type": "markdown",
   "metadata": {
    "hidden": true
   },
   "source": [
    "    We Reject Null hypothesis that the distribution of OSes in phones is same as the population"
   ]
  },
  {
   "cell_type": "code",
   "execution_count": null,
   "metadata": {
    "hidden": true
   },
   "outputs": [],
   "source": []
  },
  {
   "cell_type": "code",
   "execution_count": 73,
   "metadata": {
    "ExecuteTime": {
     "end_time": "2020-09-26T09:46:23.269111Z",
     "start_time": "2020-09-26T09:46:23.243065Z"
    },
    "hidden": true,
    "scrolled": true
   },
   "outputs": [
    {
     "data": {
      "text/html": [
       "<div>\n",
       "<style scoped>\n",
       "    .dataframe tbody tr th:only-of-type {\n",
       "        vertical-align: middle;\n",
       "    }\n",
       "\n",
       "    .dataframe tbody tr th {\n",
       "        vertical-align: top;\n",
       "    }\n",
       "\n",
       "    .dataframe thead th {\n",
       "        text-align: right;\n",
       "    }\n",
       "</style>\n",
       "<table border=\"1\" class=\"dataframe\">\n",
       "  <thead>\n",
       "    <tr style=\"text-align: right;\">\n",
       "      <th></th>\n",
       "      <th>Line Item ID</th>\n",
       "      <th>Date</th>\n",
       "      <th>App/URL ID</th>\n",
       "      <th>ISP or Carrier ID</th>\n",
       "      <th>Device Type</th>\n",
       "      <th>Exchange ID</th>\n",
       "      <th>Operating System</th>\n",
       "      <th>Browser</th>\n",
       "      <th>Creative Size</th>\n",
       "      <th>Advertiser Currency</th>\n",
       "      <th>Impressions</th>\n",
       "      <th>IO_ID</th>\n",
       "      <th>CPM</th>\n",
       "    </tr>\n",
       "  </thead>\n",
       "  <tbody>\n",
       "    <tr>\n",
       "      <th>0</th>\n",
       "      <td>2</td>\n",
       "      <td>17-08-2020</td>\n",
       "      <td>1.5164E+11</td>\n",
       "      <td>1000</td>\n",
       "      <td>Desktop</td>\n",
       "      <td>1</td>\n",
       "      <td>Macintosh</td>\n",
       "      <td>Chrome</td>\n",
       "      <td>728x90</td>\n",
       "      <td>CAD</td>\n",
       "      <td>2</td>\n",
       "      <td>1</td>\n",
       "      <td>0.0105</td>\n",
       "    </tr>\n",
       "    <tr>\n",
       "      <th>1</th>\n",
       "      <td>2</td>\n",
       "      <td>17-08-2020</td>\n",
       "      <td>1362605575</td>\n",
       "      <td>1000</td>\n",
       "      <td>Desktop</td>\n",
       "      <td>1</td>\n",
       "      <td>Windows 10</td>\n",
       "      <td>Chrome</td>\n",
       "      <td>300x600</td>\n",
       "      <td>CAD</td>\n",
       "      <td>2</td>\n",
       "      <td>1</td>\n",
       "      <td>0.0125</td>\n",
       "    </tr>\n",
       "    <tr>\n",
       "      <th>2</th>\n",
       "      <td>2</td>\n",
       "      <td>17-08-2020</td>\n",
       "      <td>20303819748</td>\n",
       "      <td>207</td>\n",
       "      <td>Desktop</td>\n",
       "      <td>1</td>\n",
       "      <td>Windows 7</td>\n",
       "      <td>Chrome</td>\n",
       "      <td>160x600</td>\n",
       "      <td>CAD</td>\n",
       "      <td>2</td>\n",
       "      <td>1</td>\n",
       "      <td>0.0200</td>\n",
       "    </tr>\n",
       "    <tr>\n",
       "      <th>3</th>\n",
       "      <td>2</td>\n",
       "      <td>17-08-2020</td>\n",
       "      <td>20303819748</td>\n",
       "      <td>666</td>\n",
       "      <td>Desktop</td>\n",
       "      <td>1</td>\n",
       "      <td>Windows 10</td>\n",
       "      <td>Chrome</td>\n",
       "      <td>160x600</td>\n",
       "      <td>CAD</td>\n",
       "      <td>2</td>\n",
       "      <td>1</td>\n",
       "      <td>0.0350</td>\n",
       "    </tr>\n",
       "    <tr>\n",
       "      <th>4</th>\n",
       "      <td>2</td>\n",
       "      <td>17-08-2020</td>\n",
       "      <td>20303819748</td>\n",
       "      <td>1000</td>\n",
       "      <td>Desktop</td>\n",
       "      <td>1</td>\n",
       "      <td>Windows 10</td>\n",
       "      <td>Chrome</td>\n",
       "      <td>160x600</td>\n",
       "      <td>CAD</td>\n",
       "      <td>4</td>\n",
       "      <td>1</td>\n",
       "      <td>0.0220</td>\n",
       "    </tr>\n",
       "  </tbody>\n",
       "</table>\n",
       "</div>"
      ],
      "text/plain": [
       "   Line Item ID        Date   App/URL ID  ISP or Carrier ID Device Type  \\\n",
       "0             2  17-08-2020   1.5164E+11               1000     Desktop   \n",
       "1             2  17-08-2020   1362605575               1000     Desktop   \n",
       "2             2  17-08-2020  20303819748                207     Desktop   \n",
       "3             2  17-08-2020  20303819748                666     Desktop   \n",
       "4             2  17-08-2020  20303819748               1000     Desktop   \n",
       "\n",
       "   Exchange ID Operating System Browser Creative Size Advertiser Currency  \\\n",
       "0            1        Macintosh  Chrome        728x90                 CAD   \n",
       "1            1       Windows 10  Chrome       300x600                 CAD   \n",
       "2            1        Windows 7  Chrome       160x600                 CAD   \n",
       "3            1       Windows 10  Chrome       160x600                 CAD   \n",
       "4            1       Windows 10  Chrome       160x600                 CAD   \n",
       "\n",
       "   Impressions  IO_ID     CPM  \n",
       "0            2      1  0.0105  \n",
       "1            2      1  0.0125  \n",
       "2            2      1  0.0200  \n",
       "3            2      1  0.0350  \n",
       "4            4      1  0.0220  "
      ]
     },
     "execution_count": 73,
     "metadata": {},
     "output_type": "execute_result"
    }
   ],
   "source": [
    "df.head()"
   ]
  }
 ],
 "metadata": {
  "kernelspec": {
   "display_name": "Python 3",
   "language": "python",
   "name": "python3"
  },
  "language_info": {
   "codemirror_mode": {
    "name": "ipython",
    "version": 3
   },
   "file_extension": ".py",
   "mimetype": "text/x-python",
   "name": "python",
   "nbconvert_exporter": "python",
   "pygments_lexer": "ipython3",
   "version": "3.7.6"
  },
  "toc": {
   "base_numbering": 1,
   "nav_menu": {},
   "number_sections": true,
   "sideBar": true,
   "skip_h1_title": false,
   "title_cell": "Table of Contents",
   "title_sidebar": "Contents",
   "toc_cell": false,
   "toc_position": {
    "height": "calc(100% - 180px)",
    "left": "10px",
    "top": "150px",
    "width": "234.667px"
   },
   "toc_section_display": true,
   "toc_window_display": true
  },
  "varInspector": {
   "cols": {
    "lenName": 16,
    "lenType": 16,
    "lenVar": 40
   },
   "kernels_config": {
    "python": {
     "delete_cmd_postfix": "",
     "delete_cmd_prefix": "del ",
     "library": "var_list.py",
     "varRefreshCmd": "print(var_dic_list())"
    },
    "r": {
     "delete_cmd_postfix": ") ",
     "delete_cmd_prefix": "rm(",
     "library": "var_list.r",
     "varRefreshCmd": "cat(var_dic_list()) "
    }
   },
   "types_to_exclude": [
    "module",
    "function",
    "builtin_function_or_method",
    "instance",
    "_Feature"
   ],
   "window_display": false
  }
 },
 "nbformat": 4,
 "nbformat_minor": 4
}
