{
 "cells": [
  {
   "cell_type": "code",
   "execution_count": 1,
   "metadata": {
    "ExecuteTime": {
     "end_time": "2020-09-23T11:13:48.594001Z",
     "start_time": "2020-09-23T11:13:47.515017Z"
    }
   },
   "outputs": [],
   "source": [
    "import pandas as pd\n",
    "import numpy as np\n",
    "import scipy.stats as stats\n",
    "import matplotlib.pyplot as plt\n",
    "import random\n",
    "import math"
   ]
  },
  {
   "cell_type": "code",
   "execution_count": 2,
   "metadata": {
    "ExecuteTime": {
     "end_time": "2020-09-23T11:13:50.489905Z",
     "start_time": "2020-09-23T11:13:48.595892Z"
    }
   },
   "outputs": [],
   "source": [
    "df = pd.read_csv('../data/train.csv')"
   ]
  },
  {
   "cell_type": "code",
   "execution_count": 3,
   "metadata": {
    "ExecuteTime": {
     "end_time": "2020-09-23T11:13:50.504905Z",
     "start_time": "2020-09-23T11:13:50.491912Z"
    }
   },
   "outputs": [
    {
     "name": "stdout",
     "output_type": "stream",
     "text": [
      "population_mean: 2.1001980853085906\n"
     ]
    }
   ],
   "source": [
    "# population mean\n",
    "population_mean = df['CPM'].mean()\n",
    "print(\"population_mean: {}\".format(population_mean))"
   ]
  },
  {
   "cell_type": "code",
   "execution_count": 4,
   "metadata": {
    "ExecuteTime": {
     "end_time": "2020-09-23T11:13:50.520905Z",
     "start_time": "2020-09-23T11:13:50.506907Z"
    }
   },
   "outputs": [
    {
     "name": "stdout",
     "output_type": "stream",
     "text": [
      "z critical:1.959963984540054 \n",
      "confidence interval : (1.7916468988924974, 2.5540158713599412)\n"
     ]
    }
   ],
   "source": [
    "sample_size = 1000\n",
    "sample = np.random.choice(a = df['CPM'], size = sample_size)\n",
    "sample_mean= sample.mean()\n",
    "\n",
    "z_critical = stats.norm.ppf(q = 0.975)\n",
    "\n",
    "print(\"z critical:{} \".format(z_critical))\n",
    "\n",
    "pop_stddev = df['CPM'].std()\n",
    "\n",
    "margin_of_error = z_critical * (pop_stddev/math.sqrt(sample_size))\n",
    "\n",
    "confidence_interval = (sample_mean - margin_of_error, sample_mean + margin_of_error)\n",
    "\n",
    "print(\"confidence interval : {}\".format(confidence_interval))"
   ]
  },
  {
   "cell_type": "markdown",
   "metadata": {},
   "source": [
    "#### Lets plot several confidence intervals and plot them"
   ]
  },
  {
   "cell_type": "code",
   "execution_count": 5,
   "metadata": {
    "ExecuteTime": {
     "end_time": "2020-09-23T11:13:50.658913Z",
     "start_time": "2020-09-23T11:13:50.522906Z"
    }
   },
   "outputs": [],
   "source": [
    "np.random.seed(100)\n",
    "\n",
    "sample_size = 1000\n",
    "intervals = []\n",
    "sample_means = []\n",
    "\n",
    "for samples in range(25):\n",
    "    sample = np.random.choice(df['CPM'], size = sample_size)\n",
    "    sample_mean = sample.mean()\n",
    "    sample_means.append(sample_mean)\n",
    "    z_critical = stats.norm.ppf(q = 0.975)\n",
    "    pop_stddev = df['CPM'].std()\n",
    "    \n",
    "    margin_of_error = z_critical * (pop_stddev/math.sqrt(sample_size))\n",
    "    \n",
    "    confidence_interval = (sample_mean - margin_of_error, sample_mean + margin_of_error)\n",
    "    intervals.append(confidence_interval)"
   ]
  },
  {
   "cell_type": "code",
   "execution_count": 6,
   "metadata": {
    "ExecuteTime": {
     "end_time": "2020-09-23T11:13:50.830468Z",
     "start_time": "2020-09-23T11:13:50.660904Z"
    }
   },
   "outputs": [
    {
     "data": {
      "image/png": "[encoded data removed]",
      "text/plain": [
       "<Figure size 720x576 with 1 Axes>"
      ]
     },
     "metadata": {
      "needs_background": "light"
     },
     "output_type": "display_data"
    }
   ],
   "source": [
    "# plot the confidence intervals\n",
    "plt.figure(figsize=(10, 8))\n",
    "\n",
    "plt.errorbar(x = np.arange(0.1, 25, 1),\n",
    "            y = sample_means,\n",
    "            yerr = [(top - bot)/2 for bot,top in intervals],\n",
    "            fmt = 'o')\n",
    "\n",
    "\n",
    "plt.hlines(xmin = 0, xmax = 25,\n",
    "          y = population_mean,\n",
    "          linewidth = 2.0,\n",
    "          color = 'red')\n",
    "\n",
    "plt.show()"
   ]
  },
  {
   "cell_type": "markdown",
   "metadata": {},
   "source": [
    "#### Take smaller sample size and create confidence interval without population stddev using t critical value"
   ]
  },
  {
   "cell_type": "code",
   "execution_count": 7,
   "metadata": {
    "ExecuteTime": {
     "end_time": "2020-09-23T11:13:50.846467Z",
     "start_time": "2020-09-23T11:13:50.832467Z"
    }
   },
   "outputs": [
    {
     "name": "stdout",
     "output_type": "stream",
     "text": [
      "t_critical: 2.0638985616280205\n",
      "confidence interval:(0.6439708297498693, 1.040982901851862) \n"
     ]
    }
   ],
   "source": [
    "np.random.seed(100)\n",
    "\n",
    "sample_size = 25\n",
    "sample = np.random.choice(df['CPM'], size = sample_size)\n",
    "sample_mean = sample.mean()\n",
    "\n",
    "t_critical = stats.t.ppf(q = 0.975, df = 24)\n",
    "print(\"t_critical: {}\".format(t_critical))\n",
    "sample_stddev = sample.std(ddof = 1)\n",
    "sigma = sample_stddev/math.sqrt(sample_size)\n",
    "margin_of_error = t_critical * sigma\n",
    "\n",
    "confidence_interval = (sample_mean - margin_of_error, sample_mean + margin_of_error)\n",
    "print(\"confidence interval:{} \".format(confidence_interval))"
   ]
  },
  {
   "cell_type": "code",
   "execution_count": 8,
   "metadata": {
    "ExecuteTime": {
     "end_time": "2020-09-23T11:13:50.876346Z",
     "start_time": "2020-09-23T11:13:50.850489Z"
    }
   },
   "outputs": [
    {
     "data": {
      "text/plain": [
       "(0.6439708297498693, 1.040982901851862)"
      ]
     },
     "execution_count": 8,
     "metadata": {},
     "output_type": "execute_result"
    }
   ],
   "source": [
    "# confidence interval with t-distribution\n",
    "stats.t.interval(alpha = 0.95, df = 24, loc = sample_mean, scale = sigma)"
   ]
  },
  {
   "cell_type": "code",
   "execution_count": 9,
   "metadata": {
    "ExecuteTime": {
     "end_time": "2020-09-23T11:13:50.892352Z",
     "start_time": "2020-09-23T11:13:50.879319Z"
    }
   },
   "outputs": [
    {
     "data": {
      "text/plain": [
       "(0.6539672710914897, 1.0309864605102417)"
      ]
     },
     "execution_count": 9,
     "metadata": {},
     "output_type": "execute_result"
    }
   ],
   "source": [
    "# confidence intval with z distribution\n",
    "stats.norm.interval(alpha = 0.95, loc = sample_mean, scale = sigma)"
   ]
  },
  {
   "cell_type": "markdown",
   "metadata": {},
   "source": [
    "#### Hypothesis testing\n",
    "- H0: The sample is from the population of CPM.\n",
    "- Ha: The sample is not from the population of CPM."
   ]
  },
  {
   "cell_type": "code",
   "execution_count": 10,
   "metadata": {
    "ExecuteTime": {
     "end_time": "2020-09-23T11:13:50.924467Z",
     "start_time": "2020-09-23T11:13:50.894344Z"
    }
   },
   "outputs": [
    {
     "name": "stdout",
     "output_type": "stream",
     "text": [
      "-0.49057621397787793\n"
     ]
    }
   ],
   "source": [
    "z_critical = 1.96\n",
    "sample_size = 10\n",
    "sample = np.random.choice(a = df['CPM'], size = sample_size)\n",
    "x_bar = sample.mean()\n",
    "sigma = df['CPM'].std(ddof=0)\n",
    "SE = sigma/(np.sqrt(sample_size))\n",
    "mu = df['CPM'].mean()\n",
    "z_stat = (x_bar - mu)/SE\n",
    "print(z_stat)"
   ]
  },
  {
   "cell_type": "markdown",
   "metadata": {},
   "source": [
    "- z_stat < z_critical so we accept H0.\n",
    "- The sample is from the Population of CPM"
   ]
  },
  {
   "cell_type": "code",
   "execution_count": 11,
   "metadata": {
    "ExecuteTime": {
     "end_time": "2020-09-23T11:13:50.956454Z",
     "start_time": "2020-09-23T11:13:50.926467Z"
    }
   },
   "outputs": [
    {
     "data": {
      "text/html": [
       "<div>\n",
       "<style scoped>\n",
       "    .dataframe tbody tr th:only-of-type {\n",
       "        vertical-align: middle;\n",
       "    }\n",
       "\n",
       "    .dataframe tbody tr th {\n",
       "        vertical-align: top;\n",
       "    }\n",
       "\n",
       "    .dataframe thead th {\n",
       "        text-align: right;\n",
       "    }\n",
       "</style>\n",
       "<table border=\"1\" class=\"dataframe\">\n",
       "  <thead>\n",
       "    <tr style=\"text-align: right;\">\n",
       "      <th></th>\n",
       "      <th>Line Item ID</th>\n",
       "      <th>Date</th>\n",
       "      <th>App/URL ID</th>\n",
       "      <th>ISP or Carrier ID</th>\n",
       "      <th>Device Type</th>\n",
       "      <th>Exchange ID</th>\n",
       "      <th>Operating System</th>\n",
       "      <th>Browser</th>\n",
       "      <th>Creative Size</th>\n",
       "      <th>Advertiser Currency</th>\n",
       "      <th>Impressions</th>\n",
       "      <th>IO_ID</th>\n",
       "      <th>CPM</th>\n",
       "    </tr>\n",
       "  </thead>\n",
       "  <tbody>\n",
       "    <tr>\n",
       "      <th>0</th>\n",
       "      <td>2</td>\n",
       "      <td>17-08-2020</td>\n",
       "      <td>1.5164E+11</td>\n",
       "      <td>1000</td>\n",
       "      <td>Desktop</td>\n",
       "      <td>1</td>\n",
       "      <td>Macintosh</td>\n",
       "      <td>Chrome</td>\n",
       "      <td>728x90</td>\n",
       "      <td>CAD</td>\n",
       "      <td>2</td>\n",
       "      <td>1</td>\n",
       "      <td>0.0105</td>\n",
       "    </tr>\n",
       "    <tr>\n",
       "      <th>1</th>\n",
       "      <td>2</td>\n",
       "      <td>17-08-2020</td>\n",
       "      <td>1362605575</td>\n",
       "      <td>1000</td>\n",
       "      <td>Desktop</td>\n",
       "      <td>1</td>\n",
       "      <td>Windows 10</td>\n",
       "      <td>Chrome</td>\n",
       "      <td>300x600</td>\n",
       "      <td>CAD</td>\n",
       "      <td>2</td>\n",
       "      <td>1</td>\n",
       "      <td>0.0125</td>\n",
       "    </tr>\n",
       "    <tr>\n",
       "      <th>2</th>\n",
       "      <td>2</td>\n",
       "      <td>17-08-2020</td>\n",
       "      <td>20303819748</td>\n",
       "      <td>207</td>\n",
       "      <td>Desktop</td>\n",
       "      <td>1</td>\n",
       "      <td>Windows 7</td>\n",
       "      <td>Chrome</td>\n",
       "      <td>160x600</td>\n",
       "      <td>CAD</td>\n",
       "      <td>2</td>\n",
       "      <td>1</td>\n",
       "      <td>0.0200</td>\n",
       "    </tr>\n",
       "    <tr>\n",
       "      <th>3</th>\n",
       "      <td>2</td>\n",
       "      <td>17-08-2020</td>\n",
       "      <td>20303819748</td>\n",
       "      <td>666</td>\n",
       "      <td>Desktop</td>\n",
       "      <td>1</td>\n",
       "      <td>Windows 10</td>\n",
       "      <td>Chrome</td>\n",
       "      <td>160x600</td>\n",
       "      <td>CAD</td>\n",
       "      <td>2</td>\n",
       "      <td>1</td>\n",
       "      <td>0.0350</td>\n",
       "    </tr>\n",
       "    <tr>\n",
       "      <th>4</th>\n",
       "      <td>2</td>\n",
       "      <td>17-08-2020</td>\n",
       "      <td>20303819748</td>\n",
       "      <td>1000</td>\n",
       "      <td>Desktop</td>\n",
       "      <td>1</td>\n",
       "      <td>Windows 10</td>\n",
       "      <td>Chrome</td>\n",
       "      <td>160x600</td>\n",
       "      <td>CAD</td>\n",
       "      <td>4</td>\n",
       "      <td>1</td>\n",
       "      <td>0.0220</td>\n",
       "    </tr>\n",
       "  </tbody>\n",
       "</table>\n",
       "</div>"
      ],
      "text/plain": [
       "   Line Item ID        Date   App/URL ID  ISP or Carrier ID Device Type  \\\n",
       "0             2  17-08-2020   1.5164E+11               1000     Desktop   \n",
       "1             2  17-08-2020   1362605575               1000     Desktop   \n",
       "2             2  17-08-2020  20303819748                207     Desktop   \n",
       "3             2  17-08-2020  20303819748                666     Desktop   \n",
       "4             2  17-08-2020  20303819748               1000     Desktop   \n",
       "\n",
       "   Exchange ID Operating System Browser Creative Size Advertiser Currency  \\\n",
       "0            1        Macintosh  Chrome        728x90                 CAD   \n",
       "1            1       Windows 10  Chrome       300x600                 CAD   \n",
       "2            1        Windows 7  Chrome       160x600                 CAD   \n",
       "3            1       Windows 10  Chrome       160x600                 CAD   \n",
       "4            1       Windows 10  Chrome       160x600                 CAD   \n",
       "\n",
       "   Impressions  IO_ID     CPM  \n",
       "0            2      1  0.0105  \n",
       "1            2      1  0.0125  \n",
       "2            2      1  0.0200  \n",
       "3            2      1  0.0350  \n",
       "4            4      1  0.0220  "
      ]
     },
     "execution_count": 11,
     "metadata": {},
     "output_type": "execute_result"
    }
   ],
   "source": [
    "df.head()"
   ]
  },
  {
   "cell_type": "markdown",
   "metadata": {},
   "source": [
    "## CHI-squared test"
   ]
  },
  {
   "cell_type": "markdown",
   "metadata": {},
   "source": [
    "### Does the distribution of browsers in Desktops differ from the rest of the population\n",
    "- H0: Distribution of App/URL ID in Desktops is the same as the rest of the population\n",
    "- Ha: Distribution of App/URL ID in Desktops is not the same as the rest of the population"
   ]
  },
  {
   "cell_type": "code",
   "execution_count": 12,
   "metadata": {
    "ExecuteTime": {
     "end_time": "2020-09-23T11:13:57.234163Z",
     "start_time": "2020-09-23T11:13:56.853642Z"
    },
    "scrolled": true
   },
   "outputs": [],
   "source": [
    "import numpy as np\n",
    "import pandas as pd\n",
    "import scipy.stats as stats\n",
    "\n",
    "population = df['Advertiser Currency']\n",
    "desktop = df[df['Device Type'] == 'Desktop']['Advertiser Currency']\n",
    "\n",
    "population_table = pd.DataFrame(population.value_counts())\n",
    "desktop_table = pd.DataFrame(desktop.value_counts())\n",
    "\n",
    "observed = desktop_table\n",
    "population_ratios = pd.DataFrame(population.value_counts(normalize = True))\n",
    "expected = population_ratios * len(desktop)"
   ]
  },
  {
   "cell_type": "code",
   "execution_count": 13,
   "metadata": {
    "ExecuteTime": {
     "end_time": "2020-09-23T11:14:00.076577Z",
     "start_time": "2020-09-23T11:13:59.975650Z"
    }
   },
   "outputs": [
    {
     "ename": "ValueError",
     "evalue": "operands could not be broadcast together with shapes (2,1) (3,1) ",
     "output_type": "error",
     "traceback": [
      "\u001b[1;31m---------------------------------------------------------------------------\u001b[0m",
      "\u001b[1;31mValueError\u001b[0m                                Traceback (most recent call last)",
      "\u001b[1;32m<ipython-input-13-baaa580ae5e4>\u001b[0m in \u001b[0;36m<module>\u001b[1;34m\u001b[0m\n\u001b[1;32m----> 1\u001b[1;33m \u001b[0mstats\u001b[0m\u001b[1;33m.\u001b[0m\u001b[0mchisquare\u001b[0m\u001b[1;33m(\u001b[0m\u001b[0mf_obs\u001b[0m\u001b[1;33m=\u001b[0m\u001b[0mobserved\u001b[0m\u001b[1;33m,\u001b[0m \u001b[0mf_exp\u001b[0m\u001b[1;33m=\u001b[0m\u001b[0mexpected\u001b[0m\u001b[1;33m)\u001b[0m\u001b[1;33m\u001b[0m\u001b[1;33m\u001b[0m\u001b[0m\n\u001b[0m",
      "\u001b[1;32m~\\anaconda3\\lib\\site-packages\\scipy\\stats\\stats.py\u001b[0m in \u001b[0;36mchisquare\u001b[1;34m(f_obs, f_exp, ddof, axis)\u001b[0m\n\u001b[0;32m   5876\u001b[0m     \"\"\"\n\u001b[0;32m   5877\u001b[0m     return power_divergence(f_obs, f_exp=f_exp, ddof=ddof, axis=axis,\n\u001b[1;32m-> 5878\u001b[1;33m                             lambda_=\"pearson\")\n\u001b[0m\u001b[0;32m   5879\u001b[0m \u001b[1;33m\u001b[0m\u001b[0m\n\u001b[0;32m   5880\u001b[0m \u001b[1;33m\u001b[0m\u001b[0m\n",
      "\u001b[1;32m~\\anaconda3\\lib\\site-packages\\scipy\\stats\\stats.py\u001b[0m in \u001b[0;36mpower_divergence\u001b[1;34m(f_obs, f_exp, ddof, axis, lambda_)\u001b[0m\n\u001b[0;32m   5743\u001b[0m     \u001b[1;32mif\u001b[0m \u001b[0mlambda_\u001b[0m \u001b[1;33m==\u001b[0m \u001b[1;36m1\u001b[0m\u001b[1;33m:\u001b[0m\u001b[1;33m\u001b[0m\u001b[1;33m\u001b[0m\u001b[0m\n\u001b[0;32m   5744\u001b[0m         \u001b[1;31m# Pearson's chi-squared statistic\u001b[0m\u001b[1;33m\u001b[0m\u001b[1;33m\u001b[0m\u001b[1;33m\u001b[0m\u001b[0m\n\u001b[1;32m-> 5745\u001b[1;33m         \u001b[0mterms\u001b[0m \u001b[1;33m=\u001b[0m \u001b[1;33m(\u001b[0m\u001b[0mf_obs\u001b[0m \u001b[1;33m-\u001b[0m \u001b[0mf_exp\u001b[0m\u001b[1;33m)\u001b[0m\u001b[1;33m**\u001b[0m\u001b[1;36m2\u001b[0m \u001b[1;33m/\u001b[0m \u001b[0mf_exp\u001b[0m\u001b[1;33m\u001b[0m\u001b[1;33m\u001b[0m\u001b[0m\n\u001b[0m\u001b[0;32m   5746\u001b[0m     \u001b[1;32melif\u001b[0m \u001b[0mlambda_\u001b[0m \u001b[1;33m==\u001b[0m \u001b[1;36m0\u001b[0m\u001b[1;33m:\u001b[0m\u001b[1;33m\u001b[0m\u001b[1;33m\u001b[0m\u001b[0m\n\u001b[0;32m   5747\u001b[0m         \u001b[1;31m# Log-likelihood ratio (i.e. G-test)\u001b[0m\u001b[1;33m\u001b[0m\u001b[1;33m\u001b[0m\u001b[1;33m\u001b[0m\u001b[0m\n",
      "\u001b[1;31mValueError\u001b[0m: operands could not be broadcast together with shapes (2,1) (3,1) "
     ]
    }
   ],
   "source": [
    "stats.chisquare(f_obs=observed, f_exp=expected)"
   ]
  },
  {
   "cell_type": "markdown",
   "metadata": {},
   "source": [
    "### One-way ANOVA\n",
    "- This tests whether the mean of a numerical variable differs across the levels of a categorical variable\n",
    "- Uses \"f\" distribution"
   ]
  },
  {
   "cell_type": "code",
   "execution_count": 97,
   "metadata": {
    "ExecuteTime": {
     "end_time": "2020-09-23T10:57:55.362284Z",
     "start_time": "2020-09-23T10:57:55.348132Z"
    }
   },
   "outputs": [],
   "source": [
    "df.columns = ['line_item_id', 'date', 'app_url_id', 'isp_or_carrier_id',\n",
    "       'device_type', 'exchange_id', 'operating_system', 'browser',\n",
    "       'creative_size', 'advertiser_currency', 'impressions', 'io_id', 'cpm']"
   ]
  },
  {
   "cell_type": "code",
   "execution_count": 98,
   "metadata": {
    "ExecuteTime": {
     "end_time": "2020-09-23T10:57:57.664418Z",
     "start_time": "2020-09-23T10:57:57.640421Z"
    },
    "scrolled": true
   },
   "outputs": [
    {
     "data": {
      "text/html": [
       "<div>\n",
       "<style scoped>\n",
       "    .dataframe tbody tr th:only-of-type {\n",
       "        vertical-align: middle;\n",
       "    }\n",
       "\n",
       "    .dataframe tbody tr th {\n",
       "        vertical-align: top;\n",
       "    }\n",
       "\n",
       "    .dataframe thead th {\n",
       "        text-align: right;\n",
       "    }\n",
       "</style>\n",
       "<table border=\"1\" class=\"dataframe\">\n",
       "  <thead>\n",
       "    <tr style=\"text-align: right;\">\n",
       "      <th></th>\n",
       "      <th>line_item_id</th>\n",
       "      <th>date</th>\n",
       "      <th>app_url_id</th>\n",
       "      <th>isp_or_carrier_id</th>\n",
       "      <th>device_type</th>\n",
       "      <th>exchange_id</th>\n",
       "      <th>operating_system</th>\n",
       "      <th>browser</th>\n",
       "      <th>creative_size</th>\n",
       "      <th>advertiser_currency</th>\n",
       "      <th>impressions</th>\n",
       "      <th>io_id</th>\n",
       "      <th>cpm</th>\n",
       "    </tr>\n",
       "  </thead>\n",
       "  <tbody>\n",
       "    <tr>\n",
       "      <th>0</th>\n",
       "      <td>2</td>\n",
       "      <td>17-08-2020</td>\n",
       "      <td>1.5164E+11</td>\n",
       "      <td>1000</td>\n",
       "      <td>Desktop</td>\n",
       "      <td>1</td>\n",
       "      <td>Macintosh</td>\n",
       "      <td>Chrome</td>\n",
       "      <td>728x90</td>\n",
       "      <td>CAD</td>\n",
       "      <td>2</td>\n",
       "      <td>1</td>\n",
       "      <td>0.0105</td>\n",
       "    </tr>\n",
       "    <tr>\n",
       "      <th>1</th>\n",
       "      <td>2</td>\n",
       "      <td>17-08-2020</td>\n",
       "      <td>1362605575</td>\n",
       "      <td>1000</td>\n",
       "      <td>Desktop</td>\n",
       "      <td>1</td>\n",
       "      <td>Windows 10</td>\n",
       "      <td>Chrome</td>\n",
       "      <td>300x600</td>\n",
       "      <td>CAD</td>\n",
       "      <td>2</td>\n",
       "      <td>1</td>\n",
       "      <td>0.0125</td>\n",
       "    </tr>\n",
       "    <tr>\n",
       "      <th>2</th>\n",
       "      <td>2</td>\n",
       "      <td>17-08-2020</td>\n",
       "      <td>20303819748</td>\n",
       "      <td>207</td>\n",
       "      <td>Desktop</td>\n",
       "      <td>1</td>\n",
       "      <td>Windows 7</td>\n",
       "      <td>Chrome</td>\n",
       "      <td>160x600</td>\n",
       "      <td>CAD</td>\n",
       "      <td>2</td>\n",
       "      <td>1</td>\n",
       "      <td>0.0200</td>\n",
       "    </tr>\n",
       "    <tr>\n",
       "      <th>3</th>\n",
       "      <td>2</td>\n",
       "      <td>17-08-2020</td>\n",
       "      <td>20303819748</td>\n",
       "      <td>666</td>\n",
       "      <td>Desktop</td>\n",
       "      <td>1</td>\n",
       "      <td>Windows 10</td>\n",
       "      <td>Chrome</td>\n",
       "      <td>160x600</td>\n",
       "      <td>CAD</td>\n",
       "      <td>2</td>\n",
       "      <td>1</td>\n",
       "      <td>0.0350</td>\n",
       "    </tr>\n",
       "    <tr>\n",
       "      <th>4</th>\n",
       "      <td>2</td>\n",
       "      <td>17-08-2020</td>\n",
       "      <td>20303819748</td>\n",
       "      <td>1000</td>\n",
       "      <td>Desktop</td>\n",
       "      <td>1</td>\n",
       "      <td>Windows 10</td>\n",
       "      <td>Chrome</td>\n",
       "      <td>160x600</td>\n",
       "      <td>CAD</td>\n",
       "      <td>4</td>\n",
       "      <td>1</td>\n",
       "      <td>0.0220</td>\n",
       "    </tr>\n",
       "  </tbody>\n",
       "</table>\n",
       "</div>"
      ],
      "text/plain": [
       "   line_item_id        date   app_url_id  isp_or_carrier_id device_type  \\\n",
       "0             2  17-08-2020   1.5164E+11               1000     Desktop   \n",
       "1             2  17-08-2020   1362605575               1000     Desktop   \n",
       "2             2  17-08-2020  20303819748                207     Desktop   \n",
       "3             2  17-08-2020  20303819748                666     Desktop   \n",
       "4             2  17-08-2020  20303819748               1000     Desktop   \n",
       "\n",
       "   exchange_id operating_system browser creative_size advertiser_currency  \\\n",
       "0            1        Macintosh  Chrome        728x90                 CAD   \n",
       "1            1       Windows 10  Chrome       300x600                 CAD   \n",
       "2            1        Windows 7  Chrome       160x600                 CAD   \n",
       "3            1       Windows 10  Chrome       160x600                 CAD   \n",
       "4            1       Windows 10  Chrome       160x600                 CAD   \n",
       "\n",
       "   impressions  io_id     cpm  \n",
       "0            2      1  0.0105  \n",
       "1            2      1  0.0125  \n",
       "2            2      1  0.0200  \n",
       "3            2      1  0.0350  \n",
       "4            4      1  0.0220  "
      ]
     },
     "execution_count": 98,
     "metadata": {},
     "output_type": "execute_result"
    }
   ],
   "source": [
    "df.head()"
   ]
  },
  {
   "cell_type": "code",
   "execution_count": 104,
   "metadata": {
    "ExecuteTime": {
     "end_time": "2020-09-23T11:06:56.790444Z",
     "start_time": "2020-09-23T11:06:56.757052Z"
    }
   },
   "outputs": [],
   "source": [
    "df['cpm_log'] = np.log(df['cpm'])"
   ]
  },
  {
   "cell_type": "code",
   "execution_count": 105,
   "metadata": {
    "ExecuteTime": {
     "end_time": "2020-09-23T11:07:47.861970Z",
     "start_time": "2020-09-23T11:07:13.798178Z"
    }
   },
   "outputs": [
    {
     "name": "stdout",
     "output_type": "stream",
     "text": [
      "                   sum_sq         df             F  PR(>F)\n",
      "device_type  4.998766e+04        3.0  16321.439396     0.0\n",
      "Residual     1.426216e+06  1397019.0           NaN     NaN\n",
      "                         sum_sq         df            F  PR(>F)\n",
      "isp_or_carrier_id  7.049202e+03        1.0  6703.093817     0.0\n",
      "Residual           1.469155e+06  1397021.0          NaN     NaN\n",
      "                   sum_sq         df            F         PR(>F)\n",
      "exchange_id  1.103110e+03        1.0  1044.720533  4.157081e-229\n",
      "Residual     1.475101e+06  1397021.0          NaN            NaN\n",
      "                        sum_sq         df           F  PR(>F)\n",
      "operating_system  6.562652e+04       66.0  984.739073     0.0\n",
      "Residual          1.410578e+06  1396956.0         NaN     NaN\n",
      "                sum_sq         df            F  PR(>F)\n",
      "browser   2.455497e+04       20.0  1181.530284     0.0\n",
      "Residual  1.451649e+06  1397002.0          NaN     NaN\n",
      "                     sum_sq         df             F  PR(>F)\n",
      "creative_size  9.735524e+04        6.0  16439.657532     0.0\n",
      "Residual       1.378849e+06  1397016.0           NaN     NaN\n",
      "                sum_sq         df         F    PR(>F)\n",
      "io_id     1.626310e+00        1.0  1.539077  0.214756\n",
      "Residual  1.476202e+06  1397021.0       NaN       NaN\n"
     ]
    }
   ],
   "source": [
    "import statsmodels.api as sm\n",
    "from statsmodels.formula.api import ols\n",
    "\n",
    "model = ols('cpm_log ~ device_type', data = df).fit()\n",
    "\n",
    "anova_result = sm.stats.anova_lm(model, typ=2)\n",
    "print (anova_result)\n",
    "\n",
    "model = ols('cpm_log ~ isp_or_carrier_id', data = df).fit()\n",
    "anova_result = sm.stats.anova_lm(model, typ=2)\n",
    "print(anova_result)\n",
    "\n",
    "model = ols('cpm_log ~ exchange_id', data = df).fit()\n",
    "anova_result = sm.stats.anova_lm(model, typ=2)\n",
    "print(anova_result)\n",
    "\n",
    "model = ols('cpm_log ~ operating_system', data = df).fit()\n",
    "anova_result = sm.stats.anova_lm(model, typ=2)\n",
    "print(anova_result)\n",
    "\n",
    "model = ols('cpm_log ~ browser', data = df).fit()\n",
    "anova_result = sm.stats.anova_lm(model, typ=2)\n",
    "print(anova_result)\n",
    "\n",
    "model = ols('cpm_log ~ creative_size', data = df).fit()\n",
    "anova_result = sm.stats.anova_lm(model, typ=2)\n",
    "print(anova_result)\n",
    "\n",
    "model = ols('cpm_log ~ io_id', data = df).fit()\n",
    "anova_result = sm.stats.anova_lm(model, typ=2)\n",
    "print(anova_result)"
   ]
  }
 ],
 "metadata": {
  "kernelspec": {
   "display_name": "Python 3",
   "language": "python",
   "name": "python3"
  },
  "language_info": {
   "codemirror_mode": {
    "name": "ipython",
    "version": 3
   },
   "file_extension": ".py",
   "mimetype": "text/x-python",
   "name": "python",
   "nbconvert_exporter": "python",
   "pygments_lexer": "ipython3",
   "version": "3.7.6"
  },
  "toc": {
   "base_numbering": 1,
   "nav_menu": {},
   "number_sections": true,
   "sideBar": true,
   "skip_h1_title": false,
   "title_cell": "Table of Contents",
   "title_sidebar": "Contents",
   "toc_cell": false,
   "toc_position": {},
   "toc_section_display": true,
   "toc_window_display": false
  },
  "varInspector": {
   "cols": {
    "lenName": 16,
    "lenType": 16,
    "lenVar": 40
   },
   "kernels_config": {
    "python": {
     "delete_cmd_postfix": "",
     "delete_cmd_prefix": "del ",
     "library": "var_list.py",
     "varRefreshCmd": "print(var_dic_list())"
    },
    "r": {
     "delete_cmd_postfix": ") ",
     "delete_cmd_prefix": "rm(",
     "library": "var_list.r",
     "varRefreshCmd": "cat(var_dic_list()) "
    }
   },
   "types_to_exclude": [
    "module",
    "function",
    "builtin_function_or_method",
    "instance",
    "_Feature"
   ],
   "window_display": false
  }
 },
 "nbformat": 4,
 "nbformat_minor": 4
}
